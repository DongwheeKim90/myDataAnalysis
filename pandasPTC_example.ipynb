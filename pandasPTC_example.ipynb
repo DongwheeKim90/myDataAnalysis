{
 "cells": [
  {
   "cell_type": "markdown",
   "metadata": {},
   "source": [
    "#### Simple Pandas Example Problem<br>(판다스 간단 문제 예시)"
   ]
  },
  {
   "cell_type": "code",
   "execution_count": 149,
   "metadata": {},
   "outputs": [],
   "source": [
    "# Import the pandas library\n",
    "# (pandas 라이브러리 불러오기)\n",
    "import pandas as pd"
   ]
  },
  {
   "cell_type": "markdown",
   "metadata": {},
   "source": [
    "#### Read the CSV file \"olist_customers_dataset.csv\" into a pandas DataFrame and store it as 'doc'<br>(\"olist_customers_dataset.csv\" 파일을 pandas DataFrame으로 읽어서 'doc' 변수에 저장)\n"
   ]
  },
  {
   "cell_type": "code",
   "execution_count": 150,
   "metadata": {},
   "outputs": [],
   "source": [
    "# Read the CSV file from the specified path with UTF-8-sig encoding into a pandas DataFrame named 'doc'\n",
    "# 지정된 경로에서 CSV 파일을 UTF-8-sig 인코딩으로 읽어서 'doc'이라는 pandas DataFrame으로 저장\n",
    "doc = pd.read_csv(\"FilePath/olist_customers_dataset.csv\", encoding=\"utf-8-sig\")"
   ]
  },
  {
   "cell_type": "markdown",
   "metadata": {},
   "source": [
    "#### Display the first 5 rows of the DataFrame (DataFrame의 처음 5개 행을 출력)"
   ]
  },
  {
   "cell_type": "code",
   "execution_count": 151,
   "metadata": {},
   "outputs": [
    {
     "data": {
      "text/html": [
       "<div>\n",
       "<style scoped>\n",
       "    .dataframe tbody tr th:only-of-type {\n",
       "        vertical-align: middle;\n",
       "    }\n",
       "\n",
       "    .dataframe tbody tr th {\n",
       "        vertical-align: top;\n",
       "    }\n",
       "\n",
       "    .dataframe thead th {\n",
       "        text-align: right;\n",
       "    }\n",
       "</style>\n",
       "<table border=\"1\" class=\"dataframe\">\n",
       "  <thead>\n",
       "    <tr style=\"text-align: right;\">\n",
       "      <th></th>\n",
       "      <th>customer_id</th>\n",
       "      <th>customer_unique_id</th>\n",
       "      <th>customer_zip_code_prefix</th>\n",
       "      <th>customer_city</th>\n",
       "      <th>customer_state</th>\n",
       "    </tr>\n",
       "  </thead>\n",
       "  <tbody>\n",
       "    <tr>\n",
       "      <th>0</th>\n",
       "      <td>06b8999e2fba1a1fbc88172c00ba8bc7</td>\n",
       "      <td>861eff4711a542e4b93843c6dd7febb0</td>\n",
       "      <td>14409</td>\n",
       "      <td>franca</td>\n",
       "      <td>SP</td>\n",
       "    </tr>\n",
       "    <tr>\n",
       "      <th>1</th>\n",
       "      <td>18955e83d337fd6b2def6b18a428ac77</td>\n",
       "      <td>290c77bc529b7ac935b93aa66c333dc3</td>\n",
       "      <td>9790</td>\n",
       "      <td>sao bernardo do campo</td>\n",
       "      <td>SP</td>\n",
       "    </tr>\n",
       "    <tr>\n",
       "      <th>2</th>\n",
       "      <td>4e7b3e00288586ebd08712fdd0374a03</td>\n",
       "      <td>060e732b5b29e8181a18229c7b0b2b5e</td>\n",
       "      <td>1151</td>\n",
       "      <td>sao paulo</td>\n",
       "      <td>SP</td>\n",
       "    </tr>\n",
       "    <tr>\n",
       "      <th>3</th>\n",
       "      <td>b2b6027bc5c5109e529d4dc6358b12c3</td>\n",
       "      <td>259dac757896d24d7702b9acbbff3f3c</td>\n",
       "      <td>8775</td>\n",
       "      <td>mogi das cruzes</td>\n",
       "      <td>SP</td>\n",
       "    </tr>\n",
       "    <tr>\n",
       "      <th>4</th>\n",
       "      <td>4f2d8ab171c80ec8364f7c12e35b23ad</td>\n",
       "      <td>345ecd01c38d18a9036ed96c73b8d066</td>\n",
       "      <td>13056</td>\n",
       "      <td>campinas</td>\n",
       "      <td>SP</td>\n",
       "    </tr>\n",
       "  </tbody>\n",
       "</table>\n",
       "</div>"
      ],
      "text/plain": [
       "                        customer_id                customer_unique_id  \\\n",
       "0  06b8999e2fba1a1fbc88172c00ba8bc7  861eff4711a542e4b93843c6dd7febb0   \n",
       "1  18955e83d337fd6b2def6b18a428ac77  290c77bc529b7ac935b93aa66c333dc3   \n",
       "2  4e7b3e00288586ebd08712fdd0374a03  060e732b5b29e8181a18229c7b0b2b5e   \n",
       "3  b2b6027bc5c5109e529d4dc6358b12c3  259dac757896d24d7702b9acbbff3f3c   \n",
       "4  4f2d8ab171c80ec8364f7c12e35b23ad  345ecd01c38d18a9036ed96c73b8d066   \n",
       "\n",
       "   customer_zip_code_prefix          customer_city customer_state  \n",
       "0                     14409                 franca             SP  \n",
       "1                      9790  sao bernardo do campo             SP  \n",
       "2                      1151              sao paulo             SP  \n",
       "3                      8775        mogi das cruzes             SP  \n",
       "4                     13056               campinas             SP  "
      ]
     },
     "execution_count": 151,
     "metadata": {},
     "output_type": "execute_result"
    }
   ],
   "source": [
    "doc.head()"
   ]
  },
  {
   "cell_type": "code",
   "execution_count": 152,
   "metadata": {},
   "outputs": [
    {
     "data": {
      "text/html": [
       "<div>\n",
       "<style scoped>\n",
       "    .dataframe tbody tr th:only-of-type {\n",
       "        vertical-align: middle;\n",
       "    }\n",
       "\n",
       "    .dataframe tbody tr th {\n",
       "        vertical-align: top;\n",
       "    }\n",
       "\n",
       "    .dataframe thead th {\n",
       "        text-align: right;\n",
       "    }\n",
       "</style>\n",
       "<table border=\"1\" class=\"dataframe\">\n",
       "  <thead>\n",
       "    <tr style=\"text-align: right;\">\n",
       "      <th></th>\n",
       "      <th>customer_id</th>\n",
       "      <th>customer_unique_id</th>\n",
       "      <th>customer_zip_code_prefix</th>\n",
       "      <th>customer_city</th>\n",
       "      <th>customer_state</th>\n",
       "    </tr>\n",
       "  </thead>\n",
       "  <tbody>\n",
       "    <tr>\n",
       "      <th>0</th>\n",
       "      <td>06b8999e2fba1a1fbc88172c00ba8bc7</td>\n",
       "      <td>861eff4711a542e4b93843c6dd7febb0</td>\n",
       "      <td>14409</td>\n",
       "      <td>franca</td>\n",
       "      <td>SP</td>\n",
       "    </tr>\n",
       "    <tr>\n",
       "      <th>1</th>\n",
       "      <td>18955e83d337fd6b2def6b18a428ac77</td>\n",
       "      <td>290c77bc529b7ac935b93aa66c333dc3</td>\n",
       "      <td>9790</td>\n",
       "      <td>sao bernardo do campo</td>\n",
       "      <td>SP</td>\n",
       "    </tr>\n",
       "    <tr>\n",
       "      <th>2</th>\n",
       "      <td>4e7b3e00288586ebd08712fdd0374a03</td>\n",
       "      <td>060e732b5b29e8181a18229c7b0b2b5e</td>\n",
       "      <td>1151</td>\n",
       "      <td>sao paulo</td>\n",
       "      <td>SP</td>\n",
       "    </tr>\n",
       "    <tr>\n",
       "      <th>3</th>\n",
       "      <td>b2b6027bc5c5109e529d4dc6358b12c3</td>\n",
       "      <td>259dac757896d24d7702b9acbbff3f3c</td>\n",
       "      <td>8775</td>\n",
       "      <td>mogi das cruzes</td>\n",
       "      <td>SP</td>\n",
       "    </tr>\n",
       "    <tr>\n",
       "      <th>4</th>\n",
       "      <td>4f2d8ab171c80ec8364f7c12e35b23ad</td>\n",
       "      <td>345ecd01c38d18a9036ed96c73b8d066</td>\n",
       "      <td>13056</td>\n",
       "      <td>campinas</td>\n",
       "      <td>SP</td>\n",
       "    </tr>\n",
       "  </tbody>\n",
       "</table>\n",
       "</div>"
      ],
      "text/plain": [
       "                        customer_id                customer_unique_id  \\\n",
       "0  06b8999e2fba1a1fbc88172c00ba8bc7  861eff4711a542e4b93843c6dd7febb0   \n",
       "1  18955e83d337fd6b2def6b18a428ac77  290c77bc529b7ac935b93aa66c333dc3   \n",
       "2  4e7b3e00288586ebd08712fdd0374a03  060e732b5b29e8181a18229c7b0b2b5e   \n",
       "3  b2b6027bc5c5109e529d4dc6358b12c3  259dac757896d24d7702b9acbbff3f3c   \n",
       "4  4f2d8ab171c80ec8364f7c12e35b23ad  345ecd01c38d18a9036ed96c73b8d066   \n",
       "\n",
       "   customer_zip_code_prefix          customer_city customer_state  \n",
       "0                     14409                 franca             SP  \n",
       "1                      9790  sao bernardo do campo             SP  \n",
       "2                      1151              sao paulo             SP  \n",
       "3                      8775        mogi das cruzes             SP  \n",
       "4                     13056               campinas             SP  "
      ]
     },
     "execution_count": 152,
     "metadata": {},
     "output_type": "execute_result"
    }
   ],
   "source": [
    "# Display the first 5 rows of the DataFrame\n",
    "# DataFrame의 처음 5개 행을 출력\n",
    "doc.head()"
   ]
  },
  {
   "cell_type": "markdown",
   "metadata": {},
   "source": [
    "#### Check the total number of rows in the DataFrame (데이터프레임의 전체 행(row) 수 확인)"
   ]
  },
  {
   "cell_type": "code",
   "execution_count": 153,
   "metadata": {},
   "outputs": [
    {
     "data": {
      "text/plain": [
       "99441"
      ]
     },
     "execution_count": 153,
     "metadata": {},
     "output_type": "execute_result"
    }
   ],
   "source": [
    "# Get the number of rows using .shape[0]\n",
    "# .shape[0]을 사용하여 행(row) 수 확인\n",
    "doc.shape[0]"
   ]
  },
  {
   "cell_type": "markdown",
   "metadata": {},
   "source": [
    "#### Get the number of columns (열(column) 수 확인)"
   ]
  },
  {
   "cell_type": "code",
   "execution_count": 154,
   "metadata": {},
   "outputs": [
    {
     "data": {
      "text/plain": [
       "5"
      ]
     },
     "execution_count": 154,
     "metadata": {},
     "output_type": "execute_result"
    }
   ],
   "source": [
    "doc.shape[1]  # Number of columns in the dataframe (데이터프레임의 전체 열 수)"
   ]
  },
  {
   "cell_type": "markdown",
   "metadata": {},
   "source": [
    "#### Get the list of column names (열 이름 리스트 가져오기)"
   ]
  },
  {
   "cell_type": "code",
   "execution_count": 155,
   "metadata": {},
   "outputs": [
    {
     "data": {
      "text/plain": [
       "Index(['customer_id', 'customer_unique_id', 'customer_zip_code_prefix',\n",
       "       'customer_city', 'customer_state'],\n",
       "      dtype='object')"
      ]
     },
     "execution_count": 155,
     "metadata": {},
     "output_type": "execute_result"
    }
   ],
   "source": [
    "columns_list = doc.columns  # Get the column names as an Index object (열 이름을 Index 객체로 가져오기)\n",
    "columns_list                # Display the column names (열 이름 출력)"
   ]
  },
  {
   "cell_type": "markdown",
   "metadata": {},
   "source": [
    "#### Check the index of the DataFrame (데이터프레임의 인덱스를 확인)"
   ]
  },
  {
   "cell_type": "code",
   "execution_count": 156,
   "metadata": {},
   "outputs": [
    {
     "data": {
      "text/plain": [
       "RangeIndex(start=0, stop=99441, step=1)"
      ]
     },
     "execution_count": 156,
     "metadata": {},
     "output_type": "execute_result"
    }
   ],
   "source": [
    "doc.index  # Get the index of the DataFrame (데이터프레임의 인덱스를 가져옴)"
   ]
  },
  {
   "cell_type": "markdown",
   "metadata": {},
   "source": [
    "#### Generate descriptive statistics summary (다섯 숫자 요약 포함 통계 요약 정보 출력)"
   ]
  },
  {
   "cell_type": "code",
   "execution_count": 157,
   "metadata": {},
   "outputs": [
    {
     "data": {
      "text/html": [
       "<div>\n",
       "<style scoped>\n",
       "    .dataframe tbody tr th:only-of-type {\n",
       "        vertical-align: middle;\n",
       "    }\n",
       "\n",
       "    .dataframe tbody tr th {\n",
       "        vertical-align: top;\n",
       "    }\n",
       "\n",
       "    .dataframe thead th {\n",
       "        text-align: right;\n",
       "    }\n",
       "</style>\n",
       "<table border=\"1\" class=\"dataframe\">\n",
       "  <thead>\n",
       "    <tr style=\"text-align: right;\">\n",
       "      <th></th>\n",
       "      <th>customer_zip_code_prefix</th>\n",
       "    </tr>\n",
       "  </thead>\n",
       "  <tbody>\n",
       "    <tr>\n",
       "      <th>count</th>\n",
       "      <td>99441.000000</td>\n",
       "    </tr>\n",
       "    <tr>\n",
       "      <th>mean</th>\n",
       "      <td>35137.474583</td>\n",
       "    </tr>\n",
       "    <tr>\n",
       "      <th>std</th>\n",
       "      <td>29797.938996</td>\n",
       "    </tr>\n",
       "    <tr>\n",
       "      <th>min</th>\n",
       "      <td>1003.000000</td>\n",
       "    </tr>\n",
       "    <tr>\n",
       "      <th>25%</th>\n",
       "      <td>11347.000000</td>\n",
       "    </tr>\n",
       "    <tr>\n",
       "      <th>50%</th>\n",
       "      <td>24416.000000</td>\n",
       "    </tr>\n",
       "    <tr>\n",
       "      <th>75%</th>\n",
       "      <td>58900.000000</td>\n",
       "    </tr>\n",
       "    <tr>\n",
       "      <th>max</th>\n",
       "      <td>99990.000000</td>\n",
       "    </tr>\n",
       "  </tbody>\n",
       "</table>\n",
       "</div>"
      ],
      "text/plain": [
       "       customer_zip_code_prefix\n",
       "count              99441.000000\n",
       "mean               35137.474583\n",
       "std                29797.938996\n",
       "min                 1003.000000\n",
       "25%                11347.000000\n",
       "50%                24416.000000\n",
       "75%                58900.000000\n",
       "max                99990.000000"
      ]
     },
     "execution_count": 157,
     "metadata": {},
     "output_type": "execute_result"
    }
   ],
   "source": [
    "# Returns a statistical summary of numeric columns, including count, mean, standard deviation, min, 25%, 50%, 75%, and max values.\n",
    "#수치형 컬럼에 대한 통계 요약 정보를 반환합니다. 여기에는 데이터 수(count), 평균(mean), 표준편차(std), 최소값(min), 1사분위수(25%), 중앙값(50%), 3사분위수(75%), 최대값(max)이 포함됩니다.\n",
    "doc.describe()"
   ]
  },
  {
   "cell_type": "markdown",
   "metadata": {},
   "source": [
    "#### Extract only the customer_zip_code_prefix, customer_city, and customer_state columns from the DataFrame and save them in a new DataFrame named doc2.<br>(customer_zip_code_prefix, customer_city, customer_state 컬럼만 추출하여 doc2라는 새로운 데이터프레임에 저장합니다.)"
   ]
  },
  {
   "cell_type": "code",
   "execution_count": 158,
   "metadata": {},
   "outputs": [
    {
     "data": {
      "text/html": [
       "<div>\n",
       "<style scoped>\n",
       "    .dataframe tbody tr th:only-of-type {\n",
       "        vertical-align: middle;\n",
       "    }\n",
       "\n",
       "    .dataframe tbody tr th {\n",
       "        vertical-align: top;\n",
       "    }\n",
       "\n",
       "    .dataframe thead th {\n",
       "        text-align: right;\n",
       "    }\n",
       "</style>\n",
       "<table border=\"1\" class=\"dataframe\">\n",
       "  <thead>\n",
       "    <tr style=\"text-align: right;\">\n",
       "      <th></th>\n",
       "      <th>customer_zip_code_prefix</th>\n",
       "      <th>customer_city</th>\n",
       "      <th>customer_state</th>\n",
       "    </tr>\n",
       "  </thead>\n",
       "  <tbody>\n",
       "    <tr>\n",
       "      <th>0</th>\n",
       "      <td>14409</td>\n",
       "      <td>franca</td>\n",
       "      <td>SP</td>\n",
       "    </tr>\n",
       "    <tr>\n",
       "      <th>1</th>\n",
       "      <td>9790</td>\n",
       "      <td>sao bernardo do campo</td>\n",
       "      <td>SP</td>\n",
       "    </tr>\n",
       "    <tr>\n",
       "      <th>2</th>\n",
       "      <td>1151</td>\n",
       "      <td>sao paulo</td>\n",
       "      <td>SP</td>\n",
       "    </tr>\n",
       "    <tr>\n",
       "      <th>3</th>\n",
       "      <td>8775</td>\n",
       "      <td>mogi das cruzes</td>\n",
       "      <td>SP</td>\n",
       "    </tr>\n",
       "    <tr>\n",
       "      <th>4</th>\n",
       "      <td>13056</td>\n",
       "      <td>campinas</td>\n",
       "      <td>SP</td>\n",
       "    </tr>\n",
       "  </tbody>\n",
       "</table>\n",
       "</div>"
      ],
      "text/plain": [
       "   customer_zip_code_prefix          customer_city customer_state\n",
       "0                     14409                 franca             SP\n",
       "1                      9790  sao bernardo do campo             SP\n",
       "2                      1151              sao paulo             SP\n",
       "3                      8775        mogi das cruzes             SP\n",
       "4                     13056               campinas             SP"
      ]
     },
     "execution_count": 158,
     "metadata": {},
     "output_type": "execute_result"
    }
   ],
   "source": [
    "doc2 = doc[[\"customer_zip_code_prefix\", \"customer_city\", \"customer_state\"]]  # Select specific columns (특정 컬럼 선택)\n",
    "doc2.head()  # Display the first 5 rows (처음 5개 행 출력)"
   ]
  },
  {
   "cell_type": "markdown",
   "metadata": {},
   "source": [
    "#### Filter rows where customer_city is \"sao paulo\" and store them in doc3.<br>(customer_city 값이 \"sao paulo\"인 행만 필터링하여 doc3에 저장합니다.)"
   ]
  },
  {
   "cell_type": "code",
   "execution_count": 159,
   "metadata": {},
   "outputs": [],
   "source": [
    "doc3 = doc2[doc2[\"customer_city\"]==\"sao paulo\"]  # Filter rows where customer_city is \"sao paulo\" and store in doc3\n",
    "                                                 # customer_city가 \"sao paulo\"인 행만 필터링하여 doc3에 저장"
   ]
  },
  {
   "cell_type": "code",
   "execution_count": 160,
   "metadata": {},
   "outputs": [],
   "source": [
    "doc3 = doc2.loc[doc2[\"customer_city\"] == \"sao paulo\", :]  # Select all columns for rows where customer_city is \"sao paulo\"\n",
    "                                                          # customer_city가 \"sao paulo\"인 행의 모든 열을 선택하여 doc3에 저장"
   ]
  },
  {
   "cell_type": "markdown",
   "metadata": {},
   "source": [
    "#### Check number of rows by customer_city in doc<br>(doc에서 customer_city 기준으로 행 개수 확인)"
   ]
  },
  {
   "cell_type": "code",
   "execution_count": 161,
   "metadata": {},
   "outputs": [
    {
     "data": {
      "text/html": [
       "<div>\n",
       "<style scoped>\n",
       "    .dataframe tbody tr th:only-of-type {\n",
       "        vertical-align: middle;\n",
       "    }\n",
       "\n",
       "    .dataframe tbody tr th {\n",
       "        vertical-align: top;\n",
       "    }\n",
       "\n",
       "    .dataframe thead th {\n",
       "        text-align: right;\n",
       "    }\n",
       "</style>\n",
       "<table border=\"1\" class=\"dataframe\">\n",
       "  <thead>\n",
       "    <tr style=\"text-align: right;\">\n",
       "      <th></th>\n",
       "      <th>customer_id</th>\n",
       "      <th>customer_unique_id</th>\n",
       "      <th>customer_zip_code_prefix</th>\n",
       "      <th>customer_state</th>\n",
       "    </tr>\n",
       "    <tr>\n",
       "      <th>customer_city</th>\n",
       "      <th></th>\n",
       "      <th></th>\n",
       "      <th></th>\n",
       "      <th></th>\n",
       "    </tr>\n",
       "  </thead>\n",
       "  <tbody>\n",
       "    <tr>\n",
       "      <th>abadia dos dourados</th>\n",
       "      <td>3</td>\n",
       "      <td>3</td>\n",
       "      <td>3</td>\n",
       "      <td>3</td>\n",
       "    </tr>\n",
       "    <tr>\n",
       "      <th>abadiania</th>\n",
       "      <td>1</td>\n",
       "      <td>1</td>\n",
       "      <td>1</td>\n",
       "      <td>1</td>\n",
       "    </tr>\n",
       "    <tr>\n",
       "      <th>abaete</th>\n",
       "      <td>12</td>\n",
       "      <td>12</td>\n",
       "      <td>12</td>\n",
       "      <td>12</td>\n",
       "    </tr>\n",
       "    <tr>\n",
       "      <th>abaetetuba</th>\n",
       "      <td>11</td>\n",
       "      <td>11</td>\n",
       "      <td>11</td>\n",
       "      <td>11</td>\n",
       "    </tr>\n",
       "    <tr>\n",
       "      <th>abaiara</th>\n",
       "      <td>2</td>\n",
       "      <td>2</td>\n",
       "      <td>2</td>\n",
       "      <td>2</td>\n",
       "    </tr>\n",
       "    <tr>\n",
       "      <th>...</th>\n",
       "      <td>...</td>\n",
       "      <td>...</td>\n",
       "      <td>...</td>\n",
       "      <td>...</td>\n",
       "    </tr>\n",
       "    <tr>\n",
       "      <th>xinguara</th>\n",
       "      <td>9</td>\n",
       "      <td>9</td>\n",
       "      <td>9</td>\n",
       "      <td>9</td>\n",
       "    </tr>\n",
       "    <tr>\n",
       "      <th>xique-xique</th>\n",
       "      <td>3</td>\n",
       "      <td>3</td>\n",
       "      <td>3</td>\n",
       "      <td>3</td>\n",
       "    </tr>\n",
       "    <tr>\n",
       "      <th>zacarias</th>\n",
       "      <td>2</td>\n",
       "      <td>2</td>\n",
       "      <td>2</td>\n",
       "      <td>2</td>\n",
       "    </tr>\n",
       "    <tr>\n",
       "      <th>ze doca</th>\n",
       "      <td>5</td>\n",
       "      <td>5</td>\n",
       "      <td>5</td>\n",
       "      <td>5</td>\n",
       "    </tr>\n",
       "    <tr>\n",
       "      <th>zortea</th>\n",
       "      <td>2</td>\n",
       "      <td>2</td>\n",
       "      <td>2</td>\n",
       "      <td>2</td>\n",
       "    </tr>\n",
       "  </tbody>\n",
       "</table>\n",
       "<p>4119 rows × 4 columns</p>\n",
       "</div>"
      ],
      "text/plain": [
       "                     customer_id  customer_unique_id  \\\n",
       "customer_city                                          \n",
       "abadia dos dourados            3                   3   \n",
       "abadiania                      1                   1   \n",
       "abaete                        12                  12   \n",
       "abaetetuba                    11                  11   \n",
       "abaiara                        2                   2   \n",
       "...                          ...                 ...   \n",
       "xinguara                       9                   9   \n",
       "xique-xique                    3                   3   \n",
       "zacarias                       2                   2   \n",
       "ze doca                        5                   5   \n",
       "zortea                         2                   2   \n",
       "\n",
       "                     customer_zip_code_prefix  customer_state  \n",
       "customer_city                                                  \n",
       "abadia dos dourados                         3               3  \n",
       "abadiania                                   1               1  \n",
       "abaete                                     12              12  \n",
       "abaetetuba                                 11              11  \n",
       "abaiara                                     2               2  \n",
       "...                                       ...             ...  \n",
       "xinguara                                    9               9  \n",
       "xique-xique                                 3               3  \n",
       "zacarias                                    2               2  \n",
       "ze doca                                     5               5  \n",
       "zortea                                      2               2  \n",
       "\n",
       "[4119 rows x 4 columns]"
      ]
     },
     "execution_count": 161,
     "metadata": {},
     "output_type": "execute_result"
    }
   ],
   "source": [
    "doc_group = doc.groupby(\"customer_city\").count()  # Group by 'customer_city' and count rows for each group (도시별로 그룹화하고 각 그룹에 대해 행 수를 계산)\n",
    "doc_group  # Display the resulting DataFrame (결과 데이터프레임 출력)"
   ]
  },
  {
   "cell_type": "markdown",
   "metadata": {},
   "source": [
    "#### Retrieve the most frequent value in the customer_city column.<br>customer_city 열에서 가장 많이 등장한 값을 조회합니다."
   ]
  },
  {
   "cell_type": "code",
   "execution_count": 162,
   "metadata": {},
   "outputs": [
    {
     "data": {
      "text/html": [
       "<div>\n",
       "<style scoped>\n",
       "    .dataframe tbody tr th:only-of-type {\n",
       "        vertical-align: middle;\n",
       "    }\n",
       "\n",
       "    .dataframe tbody tr th {\n",
       "        vertical-align: top;\n",
       "    }\n",
       "\n",
       "    .dataframe thead th {\n",
       "        text-align: right;\n",
       "    }\n",
       "</style>\n",
       "<table border=\"1\" class=\"dataframe\">\n",
       "  <thead>\n",
       "    <tr style=\"text-align: right;\">\n",
       "      <th></th>\n",
       "      <th>customer_id</th>\n",
       "      <th>customer_unique_id</th>\n",
       "      <th>customer_zip_code_prefix</th>\n",
       "      <th>customer_state</th>\n",
       "    </tr>\n",
       "    <tr>\n",
       "      <th>customer_city</th>\n",
       "      <th></th>\n",
       "      <th></th>\n",
       "      <th></th>\n",
       "      <th></th>\n",
       "    </tr>\n",
       "  </thead>\n",
       "  <tbody>\n",
       "    <tr>\n",
       "      <th>abadia dos dourados</th>\n",
       "      <td>3</td>\n",
       "      <td>3</td>\n",
       "      <td>3</td>\n",
       "      <td>3</td>\n",
       "    </tr>\n",
       "    <tr>\n",
       "      <th>abadiania</th>\n",
       "      <td>1</td>\n",
       "      <td>1</td>\n",
       "      <td>1</td>\n",
       "      <td>1</td>\n",
       "    </tr>\n",
       "    <tr>\n",
       "      <th>abaete</th>\n",
       "      <td>12</td>\n",
       "      <td>12</td>\n",
       "      <td>12</td>\n",
       "      <td>12</td>\n",
       "    </tr>\n",
       "    <tr>\n",
       "      <th>abaetetuba</th>\n",
       "      <td>11</td>\n",
       "      <td>11</td>\n",
       "      <td>11</td>\n",
       "      <td>11</td>\n",
       "    </tr>\n",
       "    <tr>\n",
       "      <th>abaiara</th>\n",
       "      <td>2</td>\n",
       "      <td>2</td>\n",
       "      <td>2</td>\n",
       "      <td>2</td>\n",
       "    </tr>\n",
       "  </tbody>\n",
       "</table>\n",
       "</div>"
      ],
      "text/plain": [
       "                     customer_id  customer_unique_id  \\\n",
       "customer_city                                          \n",
       "abadia dos dourados            3                   3   \n",
       "abadiania                      1                   1   \n",
       "abaete                        12                  12   \n",
       "abaetetuba                    11                  11   \n",
       "abaiara                        2                   2   \n",
       "\n",
       "                     customer_zip_code_prefix  customer_state  \n",
       "customer_city                                                  \n",
       "abadia dos dourados                         3               3  \n",
       "abadiania                                   1               1  \n",
       "abaete                                     12              12  \n",
       "abaetetuba                                 11              11  \n",
       "abaiara                                     2               2  "
      ]
     },
     "execution_count": 162,
     "metadata": {},
     "output_type": "execute_result"
    }
   ],
   "source": [
    "doc4 = doc.groupby(\"customer_city\").count()  # Group by 'customer_city' and count rows for each group (customer_city 열을 기준으로 그룹화하고 각 그룹의 행 수를 계산)\n",
    "doc4.head()  # Show the first 5 rows of the result (결과의 상위 5개 행을 출력)"
   ]
  },
  {
   "cell_type": "code",
   "execution_count": 163,
   "metadata": {},
   "outputs": [
    {
     "data": {
      "text/plain": [
       "customer_city\n",
       "abadia dos dourados     3\n",
       "abadiania               1\n",
       "abaete                 12\n",
       "abaetetuba             11\n",
       "abaiara                 2\n",
       "                       ..\n",
       "xinguara                9\n",
       "xique-xique             3\n",
       "zacarias                2\n",
       "ze doca                 5\n",
       "zortea                  2\n",
       "Name: customer_id, Length: 4119, dtype: int64"
      ]
     },
     "execution_count": 163,
     "metadata": {},
     "output_type": "execute_result"
    }
   ],
   "source": [
    "doc4[\"customer_id\"]  # Select the 'customer_id' column from the grouped DataFrame (그룹화된 데이터프레임에서 'customer_id' 열만 선택)"
   ]
  },
  {
   "cell_type": "code",
   "execution_count": 164,
   "metadata": {},
   "outputs": [
    {
     "data": {
      "text/plain": [
       "customer_city\n",
       "sao paulo             15540\n",
       "rio de janeiro         6882\n",
       "belo horizonte         2773\n",
       "brasilia               2131\n",
       "curitiba               1521\n",
       "                      ...  \n",
       "ponto novo                1\n",
       "populina                  1\n",
       "porteiras                 1\n",
       "portela                   1\n",
       "pitanga de estrada        1\n",
       "Name: customer_id, Length: 4119, dtype: int64"
      ]
     },
     "execution_count": 164,
     "metadata": {},
     "output_type": "execute_result"
    }
   ],
   "source": [
    "doc4[\"customer_id\"].sort_values(ascending=False)\n",
    "# Sort the 'customer_id' column in descending order\n",
    "# 'customer_id' 열을 내림차순으로 정렬"
   ]
  },
  {
   "cell_type": "markdown",
   "metadata": {},
   "source": [
    "#### Set customer_city as the index and sort in alphabetical order<br>(doc에서 customer_city를 인덱스로 만들고 알파벳 순 정렬)"
   ]
  },
  {
   "cell_type": "code",
   "execution_count": 165,
   "metadata": {},
   "outputs": [],
   "source": [
    "# Set 'customer_city' as the index and sort the DataFrame alphabetically by index\n",
    "# 'customer_city'를 인덱스로 설정하고 인덱스를 기준으로 알파벳 순으로 정렬\n",
    "doc_sorted = doc.set_index(\"customer_city\").sort_index()"
   ]
  },
  {
   "cell_type": "markdown",
   "metadata": {},
   "source": [
    "#### Check the number of rows for each customer_state in doc2.<br>(doc2의 customer_state 기준으로 행 개수를 확인하세요.)"
   ]
  },
  {
   "cell_type": "code",
   "execution_count": 166,
   "metadata": {},
   "outputs": [
    {
     "data": {
      "text/plain": [
       "(99441,)"
      ]
     },
     "execution_count": 166,
     "metadata": {},
     "output_type": "execute_result"
    }
   ],
   "source": [
    "# 'customer_state' 컬럼의 전체 행 수를 확인 (튜플 형태로 반환됨)\n",
    "# Check the number of rows in the 'customer_state' column (returns a tuple)\n",
    "doc2[\"customer_state\"].shape"
   ]
  },
  {
   "cell_type": "code",
   "execution_count": 167,
   "metadata": {},
   "outputs": [
    {
     "data": {
      "text/plain": [
       "customer_state\n",
       "SP    41746\n",
       "RJ    12852\n",
       "MG    11635\n",
       "RS     5466\n",
       "PR     5045\n",
       "SC     3637\n",
       "BA     3380\n",
       "DF     2140\n",
       "ES     2033\n",
       "GO     2020\n",
       "PE     1652\n",
       "CE     1336\n",
       "PA      975\n",
       "MT      907\n",
       "MA      747\n",
       "MS      715\n",
       "PB      536\n",
       "PI      495\n",
       "RN      485\n",
       "AL      413\n",
       "SE      350\n",
       "TO      280\n",
       "RO      253\n",
       "AM      148\n",
       "AC       81\n",
       "AP       68\n",
       "RR       46\n",
       "Name: count, dtype: int64"
      ]
     },
     "execution_count": 167,
     "metadata": {},
     "output_type": "execute_result"
    }
   ],
   "source": [
    "doc2[\"customer_state\"].value_counts()  # Count the number of rows for each customer_state (각 customer_state 값별 행 개수 세기)"
   ]
  },
  {
   "cell_type": "code",
   "execution_count": 168,
   "metadata": {},
   "outputs": [
    {
     "data": {
      "text/plain": [
       "(27,)"
      ]
     },
     "execution_count": 168,
     "metadata": {},
     "output_type": "execute_result"
    }
   ],
   "source": [
    "doc2[\"customer_state\"].value_counts().shape  # Get the shape (number of unique states) of the value_counts result (value_counts 결과의 shape, 즉 고유한 주(state) 수 확인)"
   ]
  },
  {
   "cell_type": "markdown",
   "metadata": {},
   "source": [
    "#### Number of customer_city entries that appear 1,000 times or more.<br>(customer_city 값이 1,000개 이상 존재하는 도시의 개수.)"
   ]
  },
  {
   "cell_type": "code",
   "execution_count": 169,
   "metadata": {},
   "outputs": [
    {
     "data": {
      "text/html": [
       "<div>\n",
       "<style scoped>\n",
       "    .dataframe tbody tr th:only-of-type {\n",
       "        vertical-align: middle;\n",
       "    }\n",
       "\n",
       "    .dataframe tbody tr th {\n",
       "        vertical-align: top;\n",
       "    }\n",
       "\n",
       "    .dataframe thead th {\n",
       "        text-align: right;\n",
       "    }\n",
       "</style>\n",
       "<table border=\"1\" class=\"dataframe\">\n",
       "  <thead>\n",
       "    <tr style=\"text-align: right;\">\n",
       "      <th></th>\n",
       "      <th>customer_id</th>\n",
       "      <th>customer_unique_id</th>\n",
       "      <th>customer_zip_code_prefix</th>\n",
       "      <th>customer_state</th>\n",
       "    </tr>\n",
       "    <tr>\n",
       "      <th>customer_city</th>\n",
       "      <th></th>\n",
       "      <th></th>\n",
       "      <th></th>\n",
       "      <th></th>\n",
       "    </tr>\n",
       "  </thead>\n",
       "  <tbody>\n",
       "    <tr>\n",
       "      <th>abadia dos dourados</th>\n",
       "      <td>3</td>\n",
       "      <td>3</td>\n",
       "      <td>3</td>\n",
       "      <td>3</td>\n",
       "    </tr>\n",
       "    <tr>\n",
       "      <th>abadiania</th>\n",
       "      <td>1</td>\n",
       "      <td>1</td>\n",
       "      <td>1</td>\n",
       "      <td>1</td>\n",
       "    </tr>\n",
       "    <tr>\n",
       "      <th>abaete</th>\n",
       "      <td>12</td>\n",
       "      <td>12</td>\n",
       "      <td>12</td>\n",
       "      <td>12</td>\n",
       "    </tr>\n",
       "    <tr>\n",
       "      <th>abaetetuba</th>\n",
       "      <td>11</td>\n",
       "      <td>11</td>\n",
       "      <td>11</td>\n",
       "      <td>11</td>\n",
       "    </tr>\n",
       "    <tr>\n",
       "      <th>abaiara</th>\n",
       "      <td>2</td>\n",
       "      <td>2</td>\n",
       "      <td>2</td>\n",
       "      <td>2</td>\n",
       "    </tr>\n",
       "    <tr>\n",
       "      <th>...</th>\n",
       "      <td>...</td>\n",
       "      <td>...</td>\n",
       "      <td>...</td>\n",
       "      <td>...</td>\n",
       "    </tr>\n",
       "    <tr>\n",
       "      <th>xinguara</th>\n",
       "      <td>9</td>\n",
       "      <td>9</td>\n",
       "      <td>9</td>\n",
       "      <td>9</td>\n",
       "    </tr>\n",
       "    <tr>\n",
       "      <th>xique-xique</th>\n",
       "      <td>3</td>\n",
       "      <td>3</td>\n",
       "      <td>3</td>\n",
       "      <td>3</td>\n",
       "    </tr>\n",
       "    <tr>\n",
       "      <th>zacarias</th>\n",
       "      <td>2</td>\n",
       "      <td>2</td>\n",
       "      <td>2</td>\n",
       "      <td>2</td>\n",
       "    </tr>\n",
       "    <tr>\n",
       "      <th>ze doca</th>\n",
       "      <td>5</td>\n",
       "      <td>5</td>\n",
       "      <td>5</td>\n",
       "      <td>5</td>\n",
       "    </tr>\n",
       "    <tr>\n",
       "      <th>zortea</th>\n",
       "      <td>2</td>\n",
       "      <td>2</td>\n",
       "      <td>2</td>\n",
       "      <td>2</td>\n",
       "    </tr>\n",
       "  </tbody>\n",
       "</table>\n",
       "<p>4119 rows × 4 columns</p>\n",
       "</div>"
      ],
      "text/plain": [
       "                     customer_id  customer_unique_id  \\\n",
       "customer_city                                          \n",
       "abadia dos dourados            3                   3   \n",
       "abadiania                      1                   1   \n",
       "abaete                        12                  12   \n",
       "abaetetuba                    11                  11   \n",
       "abaiara                        2                   2   \n",
       "...                          ...                 ...   \n",
       "xinguara                       9                   9   \n",
       "xique-xique                    3                   3   \n",
       "zacarias                       2                   2   \n",
       "ze doca                        5                   5   \n",
       "zortea                         2                   2   \n",
       "\n",
       "                     customer_zip_code_prefix  customer_state  \n",
       "customer_city                                                  \n",
       "abadia dos dourados                         3               3  \n",
       "abadiania                                   1               1  \n",
       "abaete                                     12              12  \n",
       "abaetetuba                                 11              11  \n",
       "abaiara                                     2               2  \n",
       "...                                       ...             ...  \n",
       "xinguara                                    9               9  \n",
       "xique-xique                                 3               3  \n",
       "zacarias                                    2               2  \n",
       "ze doca                                     5               5  \n",
       "zortea                                      2               2  \n",
       "\n",
       "[4119 rows x 4 columns]"
      ]
     },
     "execution_count": 169,
     "metadata": {},
     "output_type": "execute_result"
    }
   ],
   "source": [
    "group_doc = doc.groupby(\"customer_city\").count()  # Group by 'customer_city' and count the number of rows for each city (customer_id 기준)\n",
    "                                                   # 'customer_city'를 기준으로 그룹화한 후, 각 도시에 대해 행 개수를 세어줍니다 (customer_id 기준)\n",
    "group_doc # Display the filtered result\n",
    "           # 필터링된 결과를 출력합니다"
   ]
  },
  {
   "cell_type": "code",
   "execution_count": 170,
   "metadata": {},
   "outputs": [
    {
     "data": {
      "text/html": [
       "<div>\n",
       "<style scoped>\n",
       "    .dataframe tbody tr th:only-of-type {\n",
       "        vertical-align: middle;\n",
       "    }\n",
       "\n",
       "    .dataframe tbody tr th {\n",
       "        vertical-align: top;\n",
       "    }\n",
       "\n",
       "    .dataframe thead th {\n",
       "        text-align: right;\n",
       "    }\n",
       "</style>\n",
       "<table border=\"1\" class=\"dataframe\">\n",
       "  <thead>\n",
       "    <tr style=\"text-align: right;\">\n",
       "      <th></th>\n",
       "      <th>customer_id</th>\n",
       "      <th>customer_unique_id</th>\n",
       "      <th>customer_zip_code_prefix</th>\n",
       "      <th>customer_state</th>\n",
       "    </tr>\n",
       "    <tr>\n",
       "      <th>customer_city</th>\n",
       "      <th></th>\n",
       "      <th></th>\n",
       "      <th></th>\n",
       "      <th></th>\n",
       "    </tr>\n",
       "  </thead>\n",
       "  <tbody>\n",
       "    <tr>\n",
       "      <th>belo horizonte</th>\n",
       "      <td>2773</td>\n",
       "      <td>2773</td>\n",
       "      <td>2773</td>\n",
       "      <td>2773</td>\n",
       "    </tr>\n",
       "    <tr>\n",
       "      <th>brasilia</th>\n",
       "      <td>2131</td>\n",
       "      <td>2131</td>\n",
       "      <td>2131</td>\n",
       "      <td>2131</td>\n",
       "    </tr>\n",
       "    <tr>\n",
       "      <th>campinas</th>\n",
       "      <td>1444</td>\n",
       "      <td>1444</td>\n",
       "      <td>1444</td>\n",
       "      <td>1444</td>\n",
       "    </tr>\n",
       "    <tr>\n",
       "      <th>curitiba</th>\n",
       "      <td>1521</td>\n",
       "      <td>1521</td>\n",
       "      <td>1521</td>\n",
       "      <td>1521</td>\n",
       "    </tr>\n",
       "    <tr>\n",
       "      <th>guarulhos</th>\n",
       "      <td>1189</td>\n",
       "      <td>1189</td>\n",
       "      <td>1189</td>\n",
       "      <td>1189</td>\n",
       "    </tr>\n",
       "    <tr>\n",
       "      <th>porto alegre</th>\n",
       "      <td>1379</td>\n",
       "      <td>1379</td>\n",
       "      <td>1379</td>\n",
       "      <td>1379</td>\n",
       "    </tr>\n",
       "    <tr>\n",
       "      <th>rio de janeiro</th>\n",
       "      <td>6882</td>\n",
       "      <td>6882</td>\n",
       "      <td>6882</td>\n",
       "      <td>6882</td>\n",
       "    </tr>\n",
       "    <tr>\n",
       "      <th>salvador</th>\n",
       "      <td>1245</td>\n",
       "      <td>1245</td>\n",
       "      <td>1245</td>\n",
       "      <td>1245</td>\n",
       "    </tr>\n",
       "    <tr>\n",
       "      <th>sao paulo</th>\n",
       "      <td>15540</td>\n",
       "      <td>15540</td>\n",
       "      <td>15540</td>\n",
       "      <td>15540</td>\n",
       "    </tr>\n",
       "  </tbody>\n",
       "</table>\n",
       "</div>"
      ],
      "text/plain": [
       "                customer_id  customer_unique_id  customer_zip_code_prefix  \\\n",
       "customer_city                                                               \n",
       "belo horizonte         2773                2773                      2773   \n",
       "brasilia               2131                2131                      2131   \n",
       "campinas               1444                1444                      1444   \n",
       "curitiba               1521                1521                      1521   \n",
       "guarulhos              1189                1189                      1189   \n",
       "porto alegre           1379                1379                      1379   \n",
       "rio de janeiro         6882                6882                      6882   \n",
       "salvador               1245                1245                      1245   \n",
       "sao paulo             15540               15540                     15540   \n",
       "\n",
       "                customer_state  \n",
       "customer_city                   \n",
       "belo horizonte            2773  \n",
       "brasilia                  2131  \n",
       "campinas                  1444  \n",
       "curitiba                  1521  \n",
       "guarulhos                 1189  \n",
       "porto alegre              1379  \n",
       "rio de janeiro            6882  \n",
       "salvador                  1245  \n",
       "sao paulo                15540  "
      ]
     },
     "execution_count": 170,
     "metadata": {},
     "output_type": "execute_result"
    }
   ],
   "source": [
    "group_doc = group_doc[group_doc[\"customer_id\"] >= 1000]  # Filter cities where the number of customers is 1000 or more\n",
    "                                                         # 고객 수가 1000명 이상인 도시만 필터링합니다\n",
    "group_doc  # Display the filtered result\n",
    "           # 필터링된 결과를 출력합니다"
   ]
  },
  {
   "cell_type": "code",
   "execution_count": 171,
   "metadata": {},
   "outputs": [
    {
     "data": {
      "text/plain": [
       "9"
      ]
     },
     "execution_count": 171,
     "metadata": {},
     "output_type": "execute_result"
    }
   ],
   "source": [
    "group_doc.shape[0]  # Get the number of rows (i.e., number of customer_city with 1000 or more customers)\n",
    "                    # 행의 수를 확인합니다 (즉, 고객 수가 1000명 이상인 customer_city의 수)"
   ]
  },
  {
   "cell_type": "markdown",
   "metadata": {},
   "source": [
    "#### Check the names of customer_city in group_doc<br>(group_doc에서 customer_city 이름 확인)"
   ]
  },
  {
   "cell_type": "code",
   "execution_count": 172,
   "metadata": {},
   "outputs": [
    {
     "data": {
      "text/plain": [
       "Index(['belo horizonte', 'brasilia', 'campinas', 'curitiba', 'guarulhos',\n",
       "       'porto alegre', 'rio de janeiro', 'salvador', 'sao paulo'],\n",
       "      dtype='object', name='customer_city')"
      ]
     },
     "execution_count": 172,
     "metadata": {},
     "output_type": "execute_result"
    }
   ],
   "source": [
    "group_doc.index  # Index of customer_city (도시 이름 인덱스를 확인합니다)"
   ]
  },
  {
   "cell_type": "markdown",
   "metadata": {},
   "source": [
    "#### This command checks for missing (null) values in each column of the doc DataFrame. It returns the count of missing values per column.<br>(이 명령은 doc 데이터프레임의 각 컬럼에 결측치(null 값)가 있는지 확인합니다. 각 컬럼별 결측치 개수를 반환합니다.)"
   ]
  },
  {
   "cell_type": "code",
   "execution_count": 173,
   "metadata": {},
   "outputs": [
    {
     "data": {
      "text/plain": [
       "customer_id                 0\n",
       "customer_unique_id          0\n",
       "customer_zip_code_prefix    0\n",
       "customer_city               0\n",
       "customer_state              0\n",
       "dtype: int64"
      ]
     },
     "execution_count": 173,
     "metadata": {},
     "output_type": "execute_result"
    }
   ],
   "source": [
    "doc.isnull().sum()  # Check the number of missing values per column (각 컬럼별 결측치 개수 확인)"
   ]
  },
  {
   "cell_type": "markdown",
   "metadata": {},
   "source": [
    "#### Get the customer_city values after removing duplicate rows based on customer_city in the doc DataFrame.<br>doc 데이터프레임에서 customer_city를 기준으로 중복된 행을 제거한 후 customer_city 값만 가져오기."
   ]
  },
  {
   "cell_type": "code",
   "execution_count": 174,
   "metadata": {},
   "outputs": [
    {
     "name": "stdout",
     "output_type": "stream",
     "text": [
      "['franca', 'sao bernardo do campo', 'sao paulo', 'mogi das cruzes', 'campinas', 'jaragua do sul', 'timoteo', 'curitiba', 'belo horizonte', 'montes claros', 'rio de janeiro', 'lencois paulista', 'caxias do sul', 'piracicaba', 'guarulhos', 'pacaja', 'florianopolis', 'aparecida de goiania', 'santo andre', 'goiania', 'cachoeiro de itapemirim', 'sao jose dos campos', 'sao roque', 'camacari', 'resende', 'sumare', 'novo hamburgo', 'sao luis', 'sao jose', 'santa barbara', 'ribeirao preto', 'ituiutaba', 'taquarituba', 'sao jose dos pinhais', 'barrinha', 'parati', 'dourados', 'trindade', 'cascavel', 'fortaleza', 'brasilia', 'pelotas', 'porto alegre', 'salto', 'jundiai', 'cacapava', 'sao vicente', 'uberlandia', 'botelhos', 'sao goncalo', 'araucaria', 'nova iguacu', 'areia branca', 'campos dos goytacazes', 'sao carlos', 'itajuba', 'cruz das almas', 'vassouras', 'feira de santana', 'niteroi', 'sobral', 'divinopolis', 'paraiba do sul', 'paulista', 'carapicuiba', 'bom principio', 'astolfo dutra', 'marialva', 'sao jose do rio preto', 'cabo frio', 'contagem', 'cafeara', 'sao joaquim da barra', 'foz do iguacu', 'suzano', 'timbo', 'camboriu', 'nova bassano', 'rio grande', 'braganca paulista', 'barra do garcas', 'embu', 'urussanga', 'silvianopolis', 'gameleiras', 'belem', 'pocos de caldas', 'santos', 'piracaia', 'sinop', 'guaruja', 'barueri', 'feliz', 'jambeiro', 'ipatinga', 'tupa', 'blumenau', 'moncoes', 'balneario camboriu', 'vargem grande', 'rio brilhante', 'eugenopolis', 'paulinia', 'apucarana', 'recife', 'osasco', 'valinhos', 'manaus', 'cidreira', 'santiago', 'sao sepe', 'alta floresta', 'jaboatao dos guararapes', 'ibatiba', 'hortolandia', 'cotia', 'macae', 'saudades', 'macapa', 'salto de pirapora', 'taboao da serra', 'bom jesus', 'santa cruz do rio pardo', 'diadema', 'santa ines', 'serrinha', 'votorantim', 'itatiaia', 'duque de caxias', 'varre-sai', 'vila velha', 'mangaratiba', 'atibaia', 'salvador', 'maceio', 'birigui', 'petropolis', 'sao pedro', 'jaguariaiva', 'franco da rocha', 'pindamonhangaba', 'irati', 'ribeira', 'barbacena', 'limoeiro', 'espigao do oeste', 'belford roxo', 'coronel fabriciano', 'itanhaem', 'bebedouro', 'americana', 'uba', 'arapongas', 'vinhedo', 'itajai', 'bauru', 'pradopolis', 'aripuana', 'guaratinga', 'ponta pora', 'aracatuba', 'volta redonda', 'maringa', 'araraquara', 'matipo', 'santo antonio da patrulha', 'barra mansa', 'diamantina', 'mairinque', 'capitao leonidas marques', 'sao sebastiao do paraiso', 'rosario do sul', 'itaguai', 'paraopeba', 'guarapuava', 'crisolita', 'pirai', 'linhares', 'agudos', 'sao joao de meriti', 'navegantes', 'pirassununga', 'faxinal dos guedes', 'criciuma', 'nova venecia', 'passo fundo', 'ibia', 'manhuacu', 'altamira', 'aperibe', 'cuiaba', 'canoas', 'cubatao', 'campo limpo paulista', 'cambe', 'itaquaquecetuba', 'sao caetano do sul', 'sao goncalo do rio abaixo', 'rolandia', 'tres coracoes', 'cacapava do sul', 'sao joao nepomuceno', 'leme', 'araras', 'cortes', 'brusque', 'montenegro', 'itaberai', 'santa rosa de viterbo', 'agua fria de goias', 'marau', 'curvelo', 'juiz de fora', 'mogi-guacu', 'guaratingueta', 'paranagua', 'lins', 'campo bom', 'sertaozinho', 'tres lagoas', 'jau', 'campos de julio', 'saquarema', 'artur nogueira', 'uaua', 'jandira', 'concordia', 'nova friburgo', 'sorocaba', 'ponte nova', 'araquari', 'muriae', 'nova lima', 'inhumas', 'italva', 'tres rios', 'santa maria', 'itagiba', 'paracatu', 'xaxim', 'laranjeiras do sul', 'itapiuna', 'formosa', 'ivoti', 'juazeiro', 'ponta grossa', 'campina grande', 'maua', 'salgueiro', 'lorena', 'toledo', 'sao pedro da aldeia', 'vianopolis', 'arapiraca', 'porto seguro', 'ariquemes', 'presidente getulio', 'rio negro', 'ribeirao pires', 'sao jose da coroa grande', 'agua doce do norte', 'anapolis', 'guararapes', 'farroupilha', 'almenara', 'rio das ostras', 'gravatai', 'brumado', 'marilia', 'itabira', 'claudia', 'para de minas', 'miguelopolis', 'terra roxa', 'araguari', 'lages', 'embu das artes', 'limeira', 'taubate', 'santa fe do sul', 'caieiras', 'carangola', 'chapada do norte', 'loanda', 'passa tres', 'aracoiaba da serra', 'itaborai', 'vitoria', 'sao bento do sul', 'indaiatuba', 'boituva', 'teresopolis', 'pinhalzinho', 'petrolina', 'natal', 'barreiras', 'januaria', 'ipiabas', 'firminopolis', 'joinville', 'mococa', 'valenca', 'sao miguel do oeste', 'jales', 'rio formoso', 'angra dos reis', 'alfredo chaves', 'itapetinga', 'gurupi', 'nucleo residencial pilar', 'coromandel', 'charqueada', 'itau de minas', 'ibiruba', 'bertioga', 'ipiau', 'matozinhos', 'teresina', 'entre rios', 'juina', 'mairipora', 'marechal candido rondon', 'avare', 'icem', 'sao sebastiao', 'serra', 'mirassol', 'taperuaba', 'alfenas', 'leopoldina', 'sao joao da boa vista', 'parnamirim', 'teixeira de freitas', 'joao pessoa', 'chacara', 'rio novo do sul', 'guapore', 'rio branco', 'ferraz de vasconcelos', 'petrolandia', 'araruna', 'gravata', 'alegre', 'londrina', 'senhor do bonfim', 'santana de parnaiba', 'piratininga', 'monte carmelo', 'ipiranga', 'jacarei', 'picos', 'una', 'taguai', 'peabiru', 'conquista', 'bicas', 'forquilha', 'guaicara', 'santa vitoria', 'adamantina', 'rio claro', 'sao jose de uba', 'sorriso', 'aracaju', 'conselheiro lafaiete', 'taguatinga', 'tiangua', 'paranaiba', 'david canabarro', 'itarare', 'cajueiro', 'cruzeiro', 'santa cruz do sul', 'presidente epitacio', 'castanhal', 'cariacica', 'bom jesus dos perdoes', 'urucurituba', 'olinda', 'sao jose do rio pardo', 'guapimirim', 'vargem grande paulista', 'chapeco', 'videira', 'canapi', 'pontal do parana', 'bento goncalves', 'caceres', 'bituruna', 'sao bento do sapucai', 'mage', 'forquilhinha', 'itaberaba', 'gramado', 'guacui', 'pato branco', 'itanhem', 'palmas', 'bage', 'francisco morato', 'cosmopolis', 'carmo', 'armacao dos buzios', 'santa maria da vitoria', 'pedro leopoldo', 'tres marias', 'santo antonio de padua', 'porto feliz', 'gaspar', 'palhoca', 'pouso alegre', 'guaiuba', 'fraiburgo', 'aurea', 'botucatu', 'corumba', 'cajamar', 'queimados', 'sao jorge do ivai', 'nova laranjeiras', 'guaxupe', 'osvaldo cruz', 'ivora', 'anaurilandia', 'caraguatatuba', 'regeneracao', 'bilac', 'faxinal', 'pedro velho', 'uberaba', 'viamao', 'cachoeira de minas', 'coelho neto', 'itajobi', 'carmo do rio claro', 'marica', 'campo novo do parecis', 'boa vista', 'ipameri', 'carlos barbosa', 'anicuns', 'rio bananal', 'lavras da mangabeira', 'balsamo', 'guariba', 'sao vendelino', 'campo mourao', 'aracati', 'santo antonio do descoberto', 'santo amaro da imperatriz', 'betim', 'vicosa', 'dom eliseu', 'campo largo', 'santa rosa de lima', 'quissama', 'mirandopolis', 'itapevi', 'francisco beltrao', \"dias d'avila\", 'novo horizonte', 'poa', 'querencia', 'campo grande', 'pedreira', 'pariquera-acu', 'itabaianinha', 'pitangui', 'araruama', 'campo formoso', 'guanambi', 'itapolis', 'pederneiras', 'itabirito', 'itaipava', 'arroio do sal', 'glaura', 'lagoa vermelha', 'mantena', 'peruibe', 'tubarao', 'bonfim', 'alvorada', 'patrocinio', 'mineiros', 'itabuna', 'tijucas', 'santo antonio de jesus', 'canarana', 'itapecerica da serra', 'nova prata do iguacu', 'treze tilias', 'anchieta', 'quatigua', 'iturama', 'tres de maio', 'santa rita do passa quatro', 'porto esperidiao', 'bonfim paulista', 'cajuru', 'cacador', 'paragominas', 'boa esperanca do sul', 'tres pontas', 'juazeiro do norte', 'bambui', 'comendador levy gasparian', 'sao miguel do aleixo', 'palmeira dos indios', 'cerquilho', 'saudade do iguacu', 'ipaussu', 'alto paraiso de goias', 'santa isabel', 'quirinopolis', 'caruaru', 'casimiro de abreu', 'chavantes', 'ecoporanga', 'cachoeira paulista', 'rio verde', 'maracanau', 'canoinhas', 'ituverava', 'buriti dos lopes', 'rio do antonio', 'guaranta', 'santa luzia', 'tucurui', 'paranavai', 'pinhais', 'governador valadares', 'trajano de moraes', 'caete', 'abaetetuba', 'lavras', 'coronel joao sa', 'divino', 'macaubas', 'lucelia', 'brejo da madre de deus', 'carai', 'corbelia', 'varginha', 'ouro preto', 'prado', 'colniza', 'piuma', 'rancharia', 'barretos', 'eunapolis', 'floresta', 'sao jose do norte', 'rio bonito', 'vargem bonita', 'monte mor', 'valente', 'balsas', 'nhandeara', 'lauro de freitas', 'osorio', 'machado', 'sao leopoldo', 'soledade', 'assis', 'guarapari', 'santo antonio do caiua', 'esteio', 'cambuci', 'campina grande do sul', 'baixo guandu', 'fernao', 'ibitinga', 'santa cruz das palmeiras', 'vila muriqui', 'sao mateus', 'piracuruca', 'cordeiro', 'cachoeira do sul', 'barra do pirai', 'castro', 'ico', 'sete lagoas', 'itumbiara', 'aluminio', 'jatai', 'frederico westphalen', 'goioere', 'sao jose da tapera', 'porto uniao', 'cocalinho', 'curitibanos', 'campos novos', 'ubatuba', 'monte santo de minas', 'ribeirao das neves', 'sao simao', 'urutai', 'itaobim', 'liberdade', 'arcos', 'ribeirao', 'patos de minas', 'penapolis', 'eusebio', 'cordeiros', 'victor graeff', 'santa rita do araguaia', 'poxoreu', 'ananas', 'conceicao dos ouros', 'alagoinhas', 'sao joao da barra', 'lindoia', 'bonfinopolis', 'ibiam', 'morungaba', 'andradina', 'tatui', 'mata verde', 'cornelio procopio', 'itapipoca', 'queluz', 'godoy moreira', 'iracemapolis', 'buritizeiro', 'xique-xique', 'uruacu', 'japi', 'itauna', 'sao francisco de assis', 'pitangueiras', 'ze doca', 'dracena', 'cachoeiras de macacu', 'barauna', 'formiga', 'rodeio', 'jequie', 'juvenilia', 'poco fundo', 'amparo', 'lauro muller', 'japeri', 'ourinhos', 'lagoa dos gatos', 'embu-guacu', 'nossa senhora do remedio', 'tambau', 'orlandia', 'bananeiras', 'sao joao do manhuacu', 'sarandi', 'congonhas', 'boa esperanca', 'sandolandia', 'garca', 'descalvado', 'guaracai', 'aruana', 'inga', 'taio', 'gaurama', 'praia grande', 'janauba', 'nova monte verde', 'mongagua', 'monte alto', 'sao joao do piaui', 'primavera do leste', 'seropedica', 'indaial', 'teofilo otoni', 'santa terezinha', 'planaltina', 'caravelas', 'muritiba', 'itatiba', 'piumhii', 'pitanga', 'capelinha', 'ipero', 'tarabai', 'aparecida do taboado', 'maioba', 'monnerat', 'sao lourenco do sul', 'biguacu', 'venda nova do imigrante', 'arapoti', 'fazenda rio grande', 'senges', 'aracruz', 'canela', 'porto franco', 'veranopolis', 'candiota', 'carmo do paranaiba', 'itacare', 'desembargador otoni', 'joanopolis', 'registro', 'ipiranga do norte', 'felipe guerra', 'dumont', 'itapetininga', 'bom despacho', 'lagoa santa', 'estacao', 'panorama', 'palmares', 'prata', 'santa adelia', 'iguaba grande', 'sarzedo', 'dourado', 'alcinopolis', 'limoeiro do norte', 'ibiraci', 'ilhabela', 'icara', 'paiva', 'batatais', 'formoso do araguaia', 'itapaci', 'fernandopolis', 'miguel pereira', 'tocos', 'campos do jordao', 'catalao', 'sao jose da lapa', 'marituba', 'arapora', 'turvo', 'rubiataba', 'guaruja do sul', 'pedra bela', 'perdizes', 'jesuania', 'antonio carlos', 'itapecerica', 'monte belo', 'mossoro', 'piraju', 'encruzilhada do sul', 'igaratinga', 'sao luis de montes belos', 'santa rosa', 'lagoinha', 'redentora', 'cuite', 'coxim', 'lucas do rio verde', 'ibirataia', 'olimpia', 'cedro', 'mario campos', 'umuarama', 'nova xavantina', 'sao borja', 'aguai', 'itapira', 'uniao da vitoria', 'nova odessa', 'itapuranga', 'nova cruz', 'apuiares', 'almirante tamandare', 'correia pinto', 'itamarandiba', 'juscimeira', 'ipora', 'cedro de sao joao', \"santa barbara d'oeste\", 'sao joao da urtiga', 'valparaiso de goias', 'jussara', 'capao da canoa', 'araxa', 'campo belo', 'monte aprazivel', 'bom jesus do querendo', 'socorro', 'catanduva', 'monte castelo', 'tabatinga', 'bayeux', 'ijui', 'tangara da serra', 'campos borges', 'palma', 'minacu', 'miracema', 'taruma', 'sao francisco do sul', 'cedral', 'camaragibe', 'lajeado', 'cerqueira cesar', 'frutal', 'igarata', 'novo gama', 'sapucaia do sul', 'juquitiba', 'terra boa', 'joao monlevade', 'porangatu', 'formosa da serra negra', 'rafard', 'rainha do mar', 'pontal', 'rio do sul', 'nilopolis', 'maracaju', 'santo augusto', 'banabuiu', 'buenopolis', 'barbalha', 'quintana', 'chorrocho', 'votuporanga', 'poco verde', 'cipo-guacu', 'santarem', 'santa clara do sul', 'ibiuna', 'capivari', 'arraias', 'patos', 'sao francisco do guapore', 'vitoria da conquista', 'urucuca', 'vacaria', 'campos altos', 'nossa senhora do socorro', 'cruzeiro do sul', 'cataguases', 'varzea grande', 'santa rita do sapucai', 'jaboticabal', 'ilha comprida', 'brasilia de minas', 'moreno', 'capanema', 'tombos', 'espumoso', 'ouro branco', 'valenca do piaui', 'igrejinha', 'engenheiro coelho', 'parauapebas', 'afonso claudio', 'sao bernardo', 'salto do jacui', 'pires do rio', 'astorga', 'medina', 'porto ferreira', 'aracariguama', 'hidrolandia', 'virginopolis', 'soledade de minas', 'casca', 'sapiranga', 'angatuba', 'ibirapua', 'itupeva', 'espera feliz', 'penedo', 'ibirite', 'miracatu', 'francisco santos', 'paracambi', 'cardoso', 'floriano', 'rondonopolis', 'barra de sao francisco', 'lavinia', 'guajara-mirim', 'guimaraes', 'sao tome', 'medianeira', 'conceicao das pedras', 'rinopolis', 'capim grosso', 'guaira', 'euclides da cunha paulista', 'lagoa da prata', 'nanuque', 'luis antonio', 'senador firmino', 'viradouro', 'itabera', 'cambara', 'sananduva', 'tapera', 'tupaciguara', 'colombo', 'ananindeua', 'coribe', 'rio doce', 'mogi mirim', 'tocos do moji', 'beberibe', 'formosa do rio preto', 'claudio', 'rio paranaiba', 'humberto de campos', 'camocim de sao felix', 'santo antonio de posse', 'mesquita', 'passa quatro', 'belo oriente', 'alto araguaia', 'igarassu', 'porto velho', 'cajazeiras', 'garopaba', 'rio azul', 'dois corregos', 'sooretama', 'cruzeiro do oeste', 'nazare paulista', 'riversul', 'iguaracu', 'maracas', 'parana', 'reboucas', 'ametista do sul', 'itu', 'cacu', 'vespasiano', 'lindolfo collor', 'sao lourenco', 'santana do sobrado', 'cafelandia', 'ibiapina', 'schroeder', 'sao joao do oriente', 'matao', 'itanhandu', 'santo angelo', 'capinopolis', 'colatina', 'nova mutum', 'munhoz de melo', 'ibate', 'unai', 'medeiros neto', 'anta', 'ouroeste', 'central', 'nova independencia', 'itapema', 'sao jose do cedro', 'camutanga', 'ipumirim', 'cristalia', 'andira', 'panelas', 'comodoro', 'domingos martins', 'tangua', 'sao gotardo', 'araguaina', 'ilheus', 'louveira', 'imbituba', 'ouricuri', 'itatinga', 'santo cristo', \"arraial d'ajuda\", 'piracanjuba', 'russas', 'lambari', 'vargem alta', 'sacra familia do tingua', 'assis chateaubriand', 'lago da pedra', 'unistalda', 'sao joao evangelista', 'paramirim', 'goias', 'paracuru', 'cruz alta', 'presidente bernardes', 'pains', 'sao goncalo do rio preto', 'jacinto machado', 'sobralia', 'maraba', 'paraibuna', 'toropi', 'jauru', 'cristalandia', 'castelo do piaui', 'ibipora', 'presidente dutra', 'vera cruz', 'paulo frontin', 'rio grande da serra', 'ocaucu', 'xinguara', 'guaranesia', 'extrema', 'braco do rio', 'timon', 'ipora do oeste', 'santa cruz da conceicao', 'ivate', 'erechim', 'palmeiras', 'guarani', 'tremembe', 'rio preto', 'tucunduva', 'sao tiago', 'prados', 'aguas belas', 'xambre', 'arvorezinha', 'sao martinho', 'antonio prado', 'paulo lopes', 'maravilha', 'jeremoabo', 'navirai', 'itubera', 'uruguaiana', 'ji-parana', 'tabuleiro', 'campo ere', 'california da barra', 'nova londrina', 'divinopolis de goias', 'uruana', 'presidente prudente', 'sao joao de petropolis', 'luis eduardo magalhaes', 'matupa', 'quatro barras', 'costa rica', 'novo oriente', 'capao bonito', 'taua', 'igarapava', 'jacui', 'aragarcas', 'independencia', 'lagoa de velhos', 'cantagalo', 'paulo afonso', 'caldas novas', 'dores de guanhaes', 'aguas de lindoia', 'sao jose da bela vista', 'montanha', 'santana', 'jaci', 'feira nova', 'cachoeira da prata', 'carazinho', 'cunha', 'bom jesus da penha', 'santa isabel do para', 'caxias', 'pacaembu', 'mucuri', 'santaluz', 'tocantinopolis', 'aruja', 'palmeira', 'araripina', 'bom conselho', 'piripa', 'ponto belo', 'mangueirinha', 'monte siao', 'cianorte', 'aguas da prata', 'catende', 'urupes', 'vila rica', 'macedonia', 'sao joao', 'vila nova', 'sao francisco de itabapoana', 'esmeraldas', 'portela', 'borborema', 'santa cruz cabralia', 'palmital', 'cicero dantas', 'cachoeira alta', 'niquelandia', 'paraguacu paulista', 'ilha solteira', 'santo antonio do leverger', 'girua', 'serranopolis de minas', 'morada nova', 'sao pedro da agua branca', 'jacarezinho', 'ibirarema', 'caraiba', 'gaucha do norte', 'matias barbosa', 'santa tereza do oeste', 'aguas de sao pedro', 'candeias', 'varzea paulista', 'pilar do sul', 'macau', 'jandaia do sul', 'jeceaba', 'vila dos cabanos', 'carinhanha', 'arace', 'abreu e lima', 'salto do lontra', 'santo expedito do sul', 'tiete', 'juatuba', 'bom jesus da lapa', 'nova santa rosa', 'garanhuns', 'abaete', 'lajedo', 'barra do tarrachil', 'carandai', 'tupassi', 'saubara', 'barra velha', 'itaja', 'coroata', 'braganca', 'rio pardo de minas', 'mamanguape', 'duere', 'anage', 'santo antonio do jacinto', 'cesario lange', 'sao raimundo nonato', 'escada', 'cangucu', 'apore', 'cajapio', 'sao gabriel', 'santa albertina', 'capao da porteira', \"nova brasilandia d'oeste\", 'cordeiropolis', 'dois irmaos', 'canhotinho', 'barra do corda', 'espirito santo do pinhal', 'xanxere', 'mansidao', 'guararema', 'mostardas', 'rio do campo', 'currais novos', 'agua branca', 'crateus', 'garibaldi', 'estancia velha', 'papanduva', 'miranda do norte', 'itambe', 'senador canedo', 'guaraniacu', 'paraisopolis', 'antonina', 'tapejara', 'cabreuva', 'cassia', 'mata roma', 'balneario pinhal', 'cajati', 'aracoiaba', 'monte alegre de minas', 'nova araca', 'teotonio vilela', 'jaguariuna', 'aguas formosas', 'pojuca', 'guapo', 'anastacio', 'aguas lindas de goias', 'agua boa', 'jaguaribe', 'senador jose porfirio', 'itapirapua', 'hidrolina', 'vista alegre', 'iacu', 'palmeira das missoes', 'toritama', 'prudente de morais', \"itapejara d'oeste\", 'humaita', 'sao thome das letras', 'passos', 'cristalina', 'benedito novo', 'santo amaro', 'marinopolis', 'divinolandia de minas', 'itutinga', 'santana do paraiso', 'itaperuna', 'lupionopolis', 'itirapina', 'alto paraiso', 'visconde do rio branco', 'taiobeiras', 'eloi mendes', 'campina verde', 'mae do rio', 'orizona', 'sapopema', 'boa vista do sul', 'teutonia', 'nepomuceno', 'paula candido', 'itapeva', 'aurora', 'igapora', 'bom jesus do galho', 'bezerros', 'piranga', 'pereira barreto', 'itamari', 'itaguacu da bahia', 'lindoia do sul', \"mirassol d'oeste\", 'capitolio', 'mariana', 'eldorado do sul', 'sao miguel arcanjo', 'aparecida', 'encantado', 'bastos', 'santo antonio do sudoeste', 'jesuitas', 'ibirama', 'chapada dos guimaraes', 'piritiba', 'aimores', 'madre de deus', 'uruana de minas', 'gramado xavier', 'planalto', 'goitacazes', 'presidente venceslau', 'buri', 'medeiros', 'balneario picarras', 'cacoal', 'bandeirantes', 'santa cecilia', 'alegrete', 'sao joaquim', 'maria da fe', 'guarai', 'colinas', 'raposos', 'palestina', 'sao bento do una', 'quitandinha', 'pompeia', 'colonia leopoldina', 'rio branco do sul', 'ituporanga', 'quilometro 14 do mutum', 'sao jose do egito', 'sao francisco do humaita', 'simonesia', 'lagoa grande', 'guara', 'penha', 'iguai', 'remanso', 'sao miguel do gostoso', 'pongai', 'gandu', 'alto alegre do maranhao', 'otacilio costa', 'lajinha', 'ruy barbosa', 'santana do araguaia', 'triunfo', 'viana', 'sao jose de ribamar', 'murici', 'arapoema', 'cuite velho', 'santana do manhuacu', 'nazareno', 'campo alegre', 'candelaria', 'pranchita', 'augusto pestana', 'barcarena', 'laguna', 'parnaiba', 'tanabi', 'paty do alferes', 'seara', 'itinga', 'mossamedes', 'andradas', 'santana do mundau', 'papucaia', 'nova prata', 'angelo frechiani', 'nova serrana', 'cristina', 'itaporanga', 'areal', 'sao joao del rei', 'salesopolis', 'marmeleiro', 'conceicao do para', 'juti', 'nova alvorada do sul', 'campinorte', 'martinopolis', 'pirapora', 'paraguacu', 'barra dos coqueiros', 'anta gorda', 'miguel calmon', 'cabeceira grande', 'sao cristovao do sul', 'ilopolis', 'curiuva', 'resplendor', 'itai', 'monte alegre do sul', 'sao sebastiao da grama', 'mafra', 'araci', 'buritama', 'luiziania', 'buritis', 'morrinhos', 'sao lourenco da mata', 'santa cruz', 'tuiuti', 'nova cantu', 'pinheiral', 'trombudo central', 'acu', 'cristal', 'parambu', 'sumidouro', 'lagarto', 'putinga', 'caxambu', 'presidente castello branco', 'capinzal', 'nova veneza', 'andorinha', 'telemaco borba', 'santa gertrudes', 'nova era', 'itapiranga', 'camamu', 'rosana', 'cachoeirinha', 'alem paraiba', 'itamaraju', 'acopiara', 'barra de sao joao', 'arrozal', 'santana do livramento', 'itabela', 'nova andradina', 'manhumirim', 'olaria', 'caninde', 'itaqui', 'tucuma', 'santa isabel do ivai', 'goianira', 'jacutinga', 'bonito de santa fe', 'valao do barro', 'milagres', 'piedade', 'conceicao da barra', 'torrinha', 'engenheiro passos', 'cristais', 'canaa dos carajas', 'alto parana', 'senador cortes', 'bom jesus do itabapoana', 'frei inocencio', 'luziania', 'taiuva', 'conceicao do mato dentro', 'orindiuva', 'zortea', 'brumadinho', 'ceu azul', 'campina da lagoa', 'santo antonio do jardim', 'primavera', 'formoso', 'portao', 'porto amazonas', 'sinimbu', 'barra bonita', 'apiai', 'porto real', 'umbauba', 'boqueirao do leao', 'sabara', 'terra nova do norte', 'conservatoria', 'juquia', 'joacaba', 'sao luiz gonzaga', 'camapua', 'igarape', 'santa ernestina', 'colonia vitoria', 'itamonte', \"sao joao d'alianca\", 'corumbaiba', 'serra negra', 'general carneiro', 'porciuncula', 'paranaita', 'imperatriz', 'posse', 'fortuna', 'vermelho', 'trindade do sul', 'munhoz', 'joao pinheiro', 'bocaiuva', 'brejo dos santos', 'itororo', 'duartina', 'campestre da serra', 'cabedelo', 'dores do indaia', 'caridade', 'pato bragado', 'jardinopolis', 'ibema', 'sobradinho', 'pinhao', 'carapebus', 'inaciolandia', 'novo repartimento', 'paicandu', 'guaranta do norte', 'coxilha', 'ipojuca', 'brauna', 'iguatu', 'morro do chapeu', 'cerejeiras', 'barras', 'irapuru', \"diamante d'oeste\", 'aparecida de sao manuel', 'vilhena', 'sao pedro do ivai', 'sirinhaem', 'mato verde', 'paraiso das aguas', 'mirante da serra', 'rio novo', 'pirapora do bom jesus', 'vazante', 'conceicao do castelo', 'junqueiropolis', 'simplicio mendes', 'bom jardim de minas', 'tupi paulista', 'campestre do maranhao', 'santa vitoria do palmar', 'dois vizinhos', 'pirapetinga', 'witmarsum', 'itapage', 'simoes filho', 'surubim', 'laranjal', 'nova esperanca', 'deputado irapuan pinheiro', 'aquidaba', 'arroio dos ratos', 'reserva do cabacal', 'cantanhede', 'cachoeira de pajeu', 'rio pardo', 'esplanada', 'engenheiro paulo de frontin', 'bom jesus do araguaia', 'sao geraldo', 'catu de abrantes', 'jacinto', 'piranguinho', 'piedade de caratinga', 'capela de santana', 'santa maria de jetiba', 'carpina', 'nova ponte', 'sao jose de mipibu', 'urania', 'sao jose do ouro', 'sao luis do quitunde', 'pancas', 'santos dumont', 'delfinopolis', 'missal', 'auriflama', 'quadra', 'quedas do iguacu', 'campinacu', 'caririacu', 'dom silverio', 'sao jose do calcado', 'ibipeba', 'araguatins', 'araujos', 'bonfinopolis de minas', 'angicos', 'santo antonio das missoes', 'quixada', 'palmitinho', 'presidente kennedy', 'analandia', 'nova granada', 'mercedes', 'canapolis', 'tapes', 'vere', 'sao felix do xingu', 'cariri do tocantins', 'dormentes', 'mutum', 'sao jose do xingu', 'quatis', 'caratinga', 'paranapanema', 'tramandai', 'sao jose da barra', 'cambui', 'itaju', 'pilao arcado', 'jaguaracu', 'mimoso de goias', 'sao gabriel do oeste', 'oros', 'araputanga', 'ceara-mirim', 'indianopolis', 'caucaia', 'crisopolis', 'quevedos', 'araguapaz', 'estiva gerbi', 'nuporanga', 'sardoa', 'chapadao do ceu', 'santa terezinha de itaipu', 'cacule', 'machacalis', 'camacan', 'roseira', 'itaiopolis', 'barra do bugres', 'sousa', 'castilho', 'potirendaba', 'tarumirim', 'mendes', 'campo verde', 'bom jardim', 'ivaipora', 'santana do serido', 'iconha', 'conceicao do araguaia', 'abatia', 'amelia rodrigues', 'candido rodrigues', 'coronel vivida', 'vitoria de santo antao', 'ielmo marinho', 'cosmorama', 'arroio do meio', 'urupa', 'sao sebastiao da boa vista', 'varzedo', 'piranhas', 'corumba de goias', 'saltinho', 'dianopolis', 'espigao', 'salmourao', 'quixere', 'esperanca', 'bariri', 'girau do ponciano', 'joao lisboa', 'porecatu', 'lima duarte', 'malacacheta', 'umburatiba', 'santa margarida', 'sao mateus do sul', 'arapei', 'avanhandava', 'camanducaia', 'paraiso', 'mirai', 'ribeirao do pinhal', 'upanema', 'domiciano ribeiro', 'promissao', 'conselheiro pena', 'uruoca', 'vargem grande do sul', 'brotas', 'sao joao batista do gloria', 'alexania', 'juranda', 'fartura', 'mateus leme', 'monte azul', 'santa cruz do capibaribe', 'macaiba', 'quata', 'teodoro sampaio', 'almino afonso', 'vargem alegre', 'arroio grande', 'jaboticatubas', 'parelhas', 'alto alegre do iguacu', 'joaquim tavora', 'bataypora', 'bombinhas', 'fernando prestes', 'rio largo', 'itabaiana', 'sideropolis', 'utinga', 'rondon do para', 'mirante do paranapanema', 'oriente', 'sapucai-mirim', 'tres passos', 'horizonte', 'silva jardim', 'sanharo', 'eldorado', 'itacoatiara', 'acreuna', 'crato', 'pimenta bueno', 'sitio novo do tocantins', 'ipira', 'sao jose do vale do rio preto', 'varzea da palma', 'sao gabriel da palha', 'holambra', 'ubata', 'mar vermelho', 'governador celso ramos', 'bandeira', 'turmalina', 'tabapora', 'novo cabrais', 'taquaritinga do norte', 'castelo', 'pirajui', 'abdon batista', 'chui', 'teolandia', 'sao joao da ponte', 'santo antonio do monte', 'lavras do sul', 'jaguare', 'caibi', 'laranjal paulista', 'arraial do cabo', 'desterro', 'pacajus', 'santa helena', 'candido mota', 'sombrio', 'mozarlandia', 'santa maria madalena', 'barra do turvo', 'itaoca', 'carambei', 'ulianopolis', 'jequitai', 'cravinhos', 'santa salete', 'caldas', 'itapoa', 'serra dos aimores', 'cubati', 'itapora', 'macuco de minas', 'raul soares', 'arceburgo', 'tres arroios', 'terezinha', 'matinhos', 'americo brasiliense', 'goianorte', 'mata de sao joao', 'codo', 'santa mariana', 'braco do norte', 'sao sebastiao do passe', 'sao jose dos cordeiros', 'guarani das missoes', 'manga', 'presidente kubitschek', 'guabiruba', 'cidade ocidental', 'guanhaes', 'carneirinho', 'bacabal', 'sapucaia', 'cabaceiras do paraguacu', 'colombia', 'guaramirim', 'paraiso do norte', 'quixelo', 'ouro fino', 'jardim', 'janduis', 'nipoa', 'florestopolis', 'caturama', 'sao jose do turvo', 'sao sebastiao de campos', 'colider', 'granja', 'santa rita', 'vila valerio', 'acailandia', 'adustina', 'bom sucesso', 'brejo santo', 'santa quiteria do maranhao', 'sapeacu', 'constantina', 'bom jesus da serra', 'natividade', 'palotina', 'jucurutu', 'pratapolis', 'itueta', 'maragogi', 'conde', 'santa teresa', 'jequitinhonha', 'peri mirim', 'taquaritinga', 'santana do ipanema', 'urbano santos', 'santo antonio do itambe', 'vargem grande do rio pardo', 'sao joaquim do monte', 'cerro azul', 'cabralia paulista', 'santana dos montes', 'pilar', 'chapadinha', 'bom jesus do sul', 'canelinha', 'ervalia', 'caetanopolis', 'fenix', 'pouso redondo', 'flores da cunha', 'bonito', 'turvelandia', 'aguas mornas', 'porto calvo', 'pesqueira', 'camaqua', 'porto nacional', 'jaguaribara', 'jacare', 'guaiba', 'ouro preto do oeste', 'formosa do oeste', 'ascurra', 'araguacu', 'xexeu', 'redencao', 'buriticupu', 'papagaios', 'rubiacea', 'buriti', 'jarinu', 'santa cruz do timbo', 'barra', 'araguaia', 'coaraci', 'quinta do sol', 'cajobi', 'lagoa dourada', 'parisi', 'alpercata', 'tres cachoeiras', 'celina', 'pureza', 'campos belos', \"alta floresta d'oeste\", 'pocinhos', 'rosario', 'almirante tamandare do sul', 'mutunopolis', 'bela vista de goias', 'serrana', 'acarau', 'cocal do sul', 'ouro verde', 'caconde', 'palmitos', 'satuba', 'santa filomena', 'amargosa', 'morro da fumaca', 'morro agudo', 'joao alfredo', 'aratuba', 'sao jorge', 'conrado', 'sao joao do manteninha', 'cotipora', 'brejetuba', 'sao tomas de aquino', 'sabino', 'itaocara', 'pote', 'presidente medici', 'tabapua', 'reriutaba', 'jijoca de jericoacoara', 'bom jesus do norte', 'morro redondo', 'timburi', 'balneario rincao', 'ladario', 'campo novo', 'sao sebastiao do cai', 'altaneira', 'indiaroba', 'santana da vargem', 'paulino neves', 'grao mogol', 'nova olinda', 'getulina', 'santa cruz de monte castelo', 'primeiro de maio', 'sao fidelis', 'elias fausto', 'calcado', 'estancia', 'patrocinio do muriae', 'pirai do sul', 'tres coroas', 'ouro verde de minas', 'jurema', 'sao sebastiao do maranhao', 'sao marcos', 'santo estevao', 'jamapara', 'santo anastacio', 'jamaica', 'conchas', 'perdigao', 'mimoso do sul', 'riacho da cruz', 'sales oliveira', 'ampere', 'arembepe', 'pocrane', 'santa cruz do prata', 'inacio martins', 'sao domingos do araguaia', 'divisa alegre', 'jordania', 'conchal', 'sapezal', 'setubinha', 'alambari', 'cidade gaucha', 'novo sao joaquim', 'santa quiteria', 'ibiraiaras', 'catu', 'porto xavier', 'aragoiania', 'janiopolis', 'rolante', 'sao roque do canaa', 'buenos aires', 'piquete', 'ourizona', 'santa barbara do sul', 'ibimirim', 'charqueadas', 'pimenteiras', 'croata', 'alvinopolis', 'campos sales', 'conceicao do caninde', 'nossa senhora das dores', \"santa rita d'oeste\", 'pedra preta', 'guarabira', 'imbe', 'tres barras', 'peixoto de azevedo', 'ubirata', 'queimadas', 'assai', 'piedade dos gerais', 'santa helena de goias', 'nova canaa do norte', 'mari', 'ubaira', 'jacobina', 'ivinhema', 'glicerio', 'maurilandia', 'marataizes', 'sonora', 'maracai', 'luis correia', 'julio de castilhos', 'siqueira campos', 'centenario do sul', 'caetite', 'novo cruzeiro', 'sao jorge do oeste', 'baianopolis', 'ipanema', 'rio fortuna', 'bela vista de minas', 'divinolandia', 'goiatuba', 'passo de torres', 'barra de santa rosa', 'sao francisco', 'marilandia', 'meleiro', 'guidoval', 'rio das pedras', 'sao goncalo do para', 'sao jeronimo', 'guarei', 'salto da divisa', 'sao joaquim de bicas', 'general camara', 'sao bento abade', 'iacanga', 'santo antonio do grama', 'coronel pacheco', 'oeiras do para', 'torres', 'sao ludgero', 'jose boiteux', 'bananal', 'mojui dos campos', 'xangri-la', 'farol', 'sao lourenco do oeste', 'campanario', 'paulistana', 'nova roma do sul', 'alto taquari', 'biritinga', 'ipaba', 'cocais', 'arenapolis', 'bom jesus das selvas', 'brejo grande', 'bom repouso', 'nazare da mata', 'sao miguel do iguacu', 'nova olinda do maranhao', 'riolandia', 'catanduvas', 'boa viagem', 'senador pompeu', 'sao goncalo do sapucai', 'costa marques', 'itapaje', 'minduri', 'porto belo', 'sao luis do curu', 'junqueiro', 'inhambupe', 'irineopolis', 'pirapozinho', 'aroeiras', 'campo do meio', 'armazem', 'presidente janio quadros', 'palma sola', 'nova santa rita', 'juara', 'vale real', 'pinheiro machado', 'jacaraci', 'santa maria de itabira', 'santa rita de minas', 'sitio do quinto', 'varjao de minas', 'paco do lumiar', 'neopolis', 'ipubi', 'jequitiba', 'ipu', 'paraiso do tocantins', 'piedade do rio grande', 'silvania', 'cachoeira', 'itapecuru mirim', 'alto do rodrigues', 'severiano melo', 'ortigueira', 'sao cristovao', 'barra de guabiraba', 'sao geraldo da piedade', \"herval d'oeste\", 'bemposta', 'alto jequitiba', 'estrela', 'lagoa da confusao', 'fervedouro', 'mirinzal', 'juruena', 'emilianopolis', 'capela nova', 'alfredo vasconcelos', 'jaru', 'tiradentes do sul', 'virgem da lapa', 'chapada', 'carmo do cajuru', 'barra da estiva', 'nova russas', 'fortaleza dos valos', 'barra de sao miguel', 'ribeirao bonito', 'sao jose do cerrito', 'chopinzinho', 'raposo', 'tomar do geru', \"tanque d'arca\", 'capao do cipo', 'itirucu', 'jussari', 'nova lacerda', 'imaculada', 'arenopolis', 'quixeramobim', 'camocim', 'mutuipe', 'japuiba', 'pomerode', 'maranguape', 'hidreletrica tucurui', 'mariano moro', 'zacarias', 'muzambinho', 'paulo jacinto', 'riacho de santo antonio', 'bom jesus do amparo', 'montezuma', 'parauna', 'oliveira', 'palmeirinha', 'jacupiranga', 'alexandria', 'luizlandia do oeste', 'sao mamede', 'tanhacu', 'tenente portela', 'bady bassitt', 'agua santa', 'santa branca', 'nova europa', 'guaratuba', 'mairipotaba', 'lobato', 'cachoeira do campo', 'serrolandia', 'monsenhor tabosa', 'silveiras', 'alto rio doce', 'guarara', 'gilbues', 'santa luzia do parua', 'sume', 'piraquara', 'xavantina', 'brejoes', 'morretes', 'santa helena de minas', 'ribeirao cascalheira', 'moju', 'rodeio bonito', 'carmo da cachoeira', 'mondai', 'itaicaba', 'tupandi', 'saude', 'sao romao', 'brodowski', 'propria', \"machadinho d'oeste\", 'santo amaro de campos', 'pentecoste', 'fatima do sul', 'ibiracatu', 'vanini', 'candeias do jamari', 'nova trento', 'santa rita do ibitipoca', 'palmares do sul', 'sao goncalo do amarante', 'alfredo wagner', 'rio do pires', 'marechal floriano', 'imbau', 'jaguari', 'ibaiti', 'ponte serrada', 'adolfo', 'uniao do sul', 'lapa', 'ararangua', 'joao neiva', 'panambi', 'augusto correa', 'dionisio cerqueira', 'salinas', 'joaquim nabuco', 'venancio aires', 'cunha pora', 'polo petroquimico de triunfo', 'sao pedro do iguacu', 'alterosa', 'sao paulo do potengi', 'conceicao de macabu', 'senador guiomard', 'capitao', 'alcobaca', 'governador eugenio barros', 'bataipora', 'pedra azul', 'ventania', 'iraucuba', 'novo jardim', 'goiana', 'cabo de santo agostinho', 'ibertioga', 'nova guataporanga', 'livramento de nossa senhora', 'santa maria do para', 'martins soares', 'simao dias', 'centralina', 'cambuquira', 'catarina', 'igaracu do tiete', 'santo antonio do amparo', 'moreilandia', 'belo jardim', 'goianesia', 'perola', 'bataguassu', 'nova fatima', 'dionisio', 'suzanapolis', 'horizontina', 'glorinha', 'monteiropolis', 'areado', 'apodi', 'rio das flores', 'taquarana', 'morro reuter', 'taquara', 'werneck', 'rancho alegre', 'colorado', 'corupa', 'cristais paulista', 'tibagi', 'nova hartz', 'nova mamore', 'castanheiras', 'irape', 'casa branca', 'estrela do norte', 'sao joao batista', 'breu branco', 'imbituva', 'bela cruz', 'antonio pereira', 'abadia dos dourados', 'canavieiras', 'nova olimpia', 'conceicao das alagoas', 'piratuba', 'ubaitaba', 'chiapetta', 'nova bandeirantes', 'guarda-mor', 'alfredo marcondes', 'santo antonio do aracangua', \"rancho alegre d'oeste\", 'eneas marques', 'iuna', 'tomazina', 'santa rita do itueto', 'barreiros', 'aguas frias', 'afogados da ingazeira', 'ocara', 'nova vicosa', 'crixas', 'pombal', 'itanhomi', 'clevelandia', 'piacabucu', 'sao carlos do ivai', 'mambore', 'sao domingos', 'tracuateua', 'extremoz', 'iramaia', 'alhandra', 'serio', 'itapui', 'santa cruz de minas', 'catole do rocha', 'sao jose do goiabal', 'sao domingos do norte', 'diogo de vasconcelos', 'abaiara', 'agronomica', 'ewbank da camara', 'amaraji', 'capivari de baixo', 'vista alegre do alto', 'conceicao', 'serra talhada', 'macatuba', 'cerro largo', 'paranaiguara', 'borda da mata', 'capitao andrade', 'candido mendes', 'reginopolis', 'colorado do oeste', 'rifaina', 'itaipulandia', 'frei rogerio', 'sao pedro de alcantara', 'custodia', 'teixeiras', 'bom jesus do tocantins', 'ibira', 'caraubas', 'correntina', 'florestal', 'lagoa formosa', 'sao manuel', 'mirandiba', 'grajau', 'pontes e lacerda', 'castelandia', 'barroso', \"olho d'agua das flores\", 'severinia', 'sacramento', 'guimarania', 'carius', 'arroio trinta', 'botupora', 'parobe', 'iraquara', 'sao joao do triunfo', 'fronteiras', 'mar de espanha', 'sales', 'matelandia', 'sertanopolis', 'aiuruoca', 'pacoti', 'crissiumal', 'portelandia', 'mendonca', 'campos gerais', 'sao joao do ivai', 'boquim', 'chapadao do sul', 'cameta', 'pedra do indaia', 'edeia', 'tobias barreto', 'porto estrela', 'pouso alto', 'serra do salitre', 'galvao', 'quijingue', 'cabo verde', 'seabra', 'japura', 'moema', 'roncador', 'serra dos dourados', 'bertolinia', 'lagoa da canoa', 'inhuma', 'agudo', 'coremas', 'angelina', 'teofilandia', 'dom pedro', 'avelar', 'saloa', 'rio piracicaba', 'vitorino freire', 'biritiba-mirim', 'vigia', 'serranopolis', 'alto horizonte', 'ibiaca', 'remigio', 'sidrolandia', 'sao joao dos patos', 'jose de freitas', 'sao joao do paraiso', 'pedro canario', 'turvolandia', 'sao joao do sul', 'guamare', 'itaquirai', 'itariri', 'balneario arroio do silva', 'baependi', 'espigao alto do iguacu', 'brasilandia de minas', 'paraty', 'indiana', 'santa juliana', 'paripueira', 'brazabrantes', 'pecanha', 'sulina', 'itobi', 'tupancireta', 'delmiro gouveia', 'rio de contas', 'porto acre', 'esperantina', 'icapui', 'mandaguacu', 'barao de cocais', 'cerro grande', 'ressaquinha', 'sud mennucci', 'alto garcas', 'simolandia', 'tapiramuta', 'jose da penha', 'alto parnaiba', 'machados', 'riacho de santana', 'pedregulho', 'itambacuri', 'taquari', 'uniao de minas', 'penaforte', 'itauba', 'aparecida do rio negro', 'luzilandia', 'ilha de itamaraca', 'getulio vargas', 'espinosa', 'porteirinha', 'dores de campos', 'baturite', 'rio acima', 'frei gaspar', 'santa luzia do norte', 'tres fronteiras', 'jumirim', 'pompeu', 'mariluz', 'barracao', 'quatro bocas', 'tres forquilhas', 'wagner', 'aurilandia', 'nao-me-toque', 'frutuoso gomes', 'matoes do norte', 'paraipaba', 'pedro gomes', \"santa clara d'oeste\", \"aparecida d'oeste\", 'angical do piaui', 'reserva', 'sao pedro do turvo', 'pindorama do tocantins', 'eliseu martins', 'nova canaa paulista', 'sabinopolis', 'imbe de minas', 'sete barras', 'rolim de moura', 'conceicao da feira', 'sao bento', 'itaguacu', 'potengi', 'jussiape', 'gastao vidigal', 'rincao', 'cachoeira dourada', 'tuparetama', 'abre campo', 'california', 'jose bonifacio', 'jenipapo de minas', 'ilhota', 'serranopolis do iguacu', 'alto bela vista', 'santana do acarau', 'deodapolis', 'mampituba', 'poloni', 'alvarenga', 'regente feijo', 'cruzalia', 'rio negrinho', 'sao miguel', 'fronteira', 'diamante do norte', 'nossa senhora das gracas', 'arinos', 'mandaguari', 'ibotirama', 'nacip raydan', 'porto trombetas', 'sao francisco de paula', 'serra azul de minas', 'lucianopolis', 'sao mateus de minas', 'madre de deus de minas', 'alpinopolis', 'miranorte', 'joselandia', 'limeira do oeste', 'luiz alves', 'perdoes', 'urubici', 'icarai de minas', 'jacunda', 'itapemirim', 'santo antonio dos campos', 'travessao', 'santo antonio da alegria', 'piumhi', 'colinas do tocantins', 'corinto', 'irece', 'combinado', 'floreal', 'urucui', 'ariranha', 'corrente', 'gameleira', 'pontalinda', 'lagoa dos tres cantos', 'potim', 'sao bernardino', 'durande', 'piacatu', 'jardim do serido', 'itapura', 'charrua', 'desterro do melo', 'piripiri', 'cacequi', 'piata', 'irani', 'morpara', 'cabrobo', 'serra de sao bento', 'cambira', 'inconfidentes', 'felixlandia', 'monte formoso', 'clementina', 'ribeirao do sul', 'confresa', 'batalha', 'bom retiro do sul', 'maximiliano de almeida', 'manduri', 'santo antonio do palma', 'vera cruz do oeste', 'varjota', 'grao para', 'muliterno', 'cansancao', 'candido de abreu', 'marco', 'manaira', 'condado', 'coracao de jesus', 'dois riachos', 'ibicarai', 'buerarema', 'urai', 'alagoa', 'jaiba', 'ituacu', 'corrego danta', 'uchoa', 'careacu', 'pien', 'grupiara', 'paulo de faria', 'ipua', 'pindoba', 'lontras', 'florida paulista', 'macuco', 'periquito', 'pareci novo', 'guaraquecaba', 'japaratuba', 'santa rita de caldas', 'patu', 'tucano', 'sao felix do coribe', 'mato rico', 'pedrinopolis', 'caiaponia', 'carlopolis', 'herval', 'caico', 'rodolfo fernandes', 'amambai', 'simao pereira', 'queixada', 'governador dix-sept rosado', 'belo campo', 'dom joaquim', 'nantes', 'butia', 'pinhalao', 'ibiara', 'barao de juparana', 'chale', 'cruzeiro da fortaleza', 'silveira carvalho', 'chorozinho', 'dom feliciano', 'populina', 'inaja', 'wanderley', 'nova timboteua', 'taciba', 'jandaira', 'sao valentim', 'sao lourenco da serra', 'chapada gaucha', 'pirenopolis', 'itapitanga', 'itamogi', 'santo antonio do taua', 'iaras', 'mandirituba', 'sertao', 'maravilhas', 'dom aquino', 'uruara', 'manoel ribas', 'barra do mendes', 'sarutaia', 'carlos chagas', 'jari', \"figueiropolis d'oeste\", 'timbauba', 'orleans', 'vila flores', 'condor', 'nova aurora', 'sucupira do norte', 'joao ramalho', 'matoes', 'saboeiro', 'itaueira', 'caibate', 'lamim', 'vargem', 'trancoso', 'presidente olegario', 'ceres', 'iguape', 'campanha', 'antonio prado de minas', 'couto de magalhaes', 'sao joao de iracema', 'trairi', 'dores do rio preto', 'taquaracu de minas', 'telha', 'maripa', 'cruz', 'riachinho', 'itaitinga', 'princesa isabel', 'lidice', 'bodoquena', 'tapirai', 'manoel viana', 'cassilandia', 'pendencias', 'sao miguel do guapore', 'benevides', 'coimbra', 'coqueiro baixo', 'pedrinhas paulista', 'itamira', 'santanesia', 'ajuricaba', 'caninde de sao francisco', 'iracema', 'apiaca', 'guiricema', 'presidente alves', 'monte azul paulista', 'pedro osorio', 'taparuba', 'alagoa grande', 'arandu', 'moreira sales', 'concordia do para', 'carmo da mata', 'cocal', 'boa vista das missoes', 'tapiratiba', 'canitar', 'protasio alves', 'passagem', 'nossa senhora de caravaggio', \"itaporanga d'ajuda\", 'cristinapolis', 'bacuri', 'satiro dias', 'cruzilia', 'catigua', 'motuca', 'goncalves dias', 'rio dos cedros', 'erval grande', 'imbuia', 'minas novas', 'pedra', 'dario meira', 'resende costa', 'cananeia', 'conceicao do almeida', 'barao do triunfo', 'ponto dos volantes', 'ibiraja', 'campo maior', 'barra do ribeiro', 'abrantes', 'ibipitanga', 'sao goncalo do rio das pedras', 'caarapo', 'florinia', 'boa vista do cadeado', 'juruaia', 'iaciara', 'azurita', 'nova america da colina', 'fagundes', 'alvares machado', 'lagoinha do piaui', 'vertentes', 'sao jose da vitoria', 'balneario barra do sul', 'sao bentinho', 'bernardino de campos', 'andrequice', 'doutor mauricio cardoso', 'uibai', 'caldeirao grande', 'nossa senhora do o', 'junco do serido', 'iepe', 'cruzeiro do iguacu', 'catuipe', 'muqui', 'rio casca', 'pocao de pedras', 'serra do ramalho', 'arcoverde', 'bandeira do sul', 'milha', 'prudentopolis', 'passagem franca', 'maribondo', 'corumbatai do sul', 'purilandia', 'sao lourenco do piaui', 'mariopolis', 'bela vista', 'igreja nova', 'vitorino', 'xambioa', 'cotriguacu', 'santana do jacare', 'botuvera', 'carnaubais', 'bonito de minas', 'pauliceia', 'sao jose da boa vista', 'ubajara', 'abelardo luz', 'belem do sao francisco', 'itapagipe', 'mairi', 'ipiranga de goias', 'areial', 'morro vermelho', 'senador modestino goncalves', 'pereiro', 'inimutaba', 'solanea', 'santa rita da floresta', 'sao bras do suacui', 'morro do ferro', 'jaragua', 'muquem do sao francisco', 'guadalupe', 'vereda', 'sao miguel do araguaia', 'parapua', 'nova soure', 'rio do oeste', 'santo amaro das brotas', 'colina', 'ritapolis', 'santo antonio do rio abaixo', 'belo vale', 'urandi', 'sao sebastiao do alto', 'sao jose do belmonte', 'santa monica', 'santa fe de minas', 'elisio medrado', 'brejolandia', 'paranacity', 'alto rio novo', 'sao benedito', 'barros cassal', 'bofete', 'canto do buriti', 'pianco', 'rio das antas', 'goianesia do para', 'sape', 'mombuca', 'rianapolis', 'ipe', 'vila nelita', 'ferros', 'barra de santo antonio', 'potiragua', 'osvaldo kroeff', 'iguatama', 'estrela do sul', 'buique', 'pequizeiro', 'montauri', 'fatima', 'morro de sao paulo', 'novo barreiro', 'campo azul', 'restinga seca', 'lago verde', 'paranapua', 'santa mercedes', 'campinapolis', 'dom pedrito', 'nossa senhora da gloria', 'guapiacu', 'joviania', 'holambra ii', 'oliveira dos brejinhos', 'realeza', 'riacho das almas', 'nova petropolis', 'nova alvorada', 'agua doce', 'seringueiras', 'cambara do sul', 'massape', 'sao domingos do prata', 'conceicao do coite', 'natercia', 'renascenca', 'formigueiro', 'herculandia', 'carire', 'inhauma', 'areia branca dos assis', 'major vieira', 'sao benedito do sul', 'bocaina', 'passa tempo', 'gentio do ouro', 'serafina correa', 'conceicao da ibitipoca', 'pedreiras', 'merces', 'condeuba', 'antonina do norte', 'bugre', 'baixa grande do ribeiro', 'nonoai', 'pedro afonso', 'nova canaa', 'frei martinho', 'novo machado', 'pau dos ferros', 'presidente tancredo neves', 'boninal', 'doutor camargo', 'bueno brandao', 'muniz freire', 'damianopolis', 'pedra branca', 'tabocas do brejo velho', 'maiquinique', 'ibateguara', 'engenheiro beltrao', 'brazopolis', 'varzea', 'governador lindenberg', 'dona euzebia', 'angelica', 'carvalhopolis', 'sao joao do sobrado', 'peritiba', 'quilombo', 'monte verde', 'pinheiro', 'sao sebastiao do rio verde', 'tocantins', 'brasil novo', 'timbe do sul', 'aramina', 'itupiranga', 'ipixuna do para', 'bras pires', 'neropolis', 'varzea alegre', 'irai', 'pocoes de paineiras', 'paudalho', 'aracuai', 'montalvania', 'alvares florence', 'rubineia', 'corumbatai', 'tacaratu', 'pantano grande', 'jatauba', 'diamantino', 'leopoldo de bulhoes', 'maracana', 'terra de areia', 'pacatuba', 'sao vitor', 'pejucara', 'congonhal', 'conceicao do tocantins', 'sao jose do inhacora', 'faxinalzinho', 'ravena', 'afranio', 'ubaporanga', 'santo antonio da platina', 'jupi', 'uniao', 'orobo', 'jaguaruna', 'sao domingos do sul', 'carrancas', 'boca da mata', 'morada nova de minas', 'mambai', 'sao felix de minas', 'aquiraz', 'curralinho', 'sao jose do barreiro', 'mendes pimentel', 'volta grande', 'paulistania', 'campinas do sul', 'lagoa do piaui', 'sao miguel do tapuio', 'nova esperanca do sul', 'descoberto', 'sao luis do paraitinga', 'campo do brito', 'lagoao', 'paial', 'cajuri', 'diorama', 'joaima', 'vieiras', 'roque gonzales', 'mocajuba', 'riachao do jacuipe', 'governador mangabeira', 'avelino lopes', 'ararica', 'mariapolis', 'capao do leao', 'sao sebastiao da serra', 'igaci', 'alvorada do gurgueia', 'anita garibaldi', 'rio manso', 'barro alto', 'fundao', 'inhapi', 'mussurepe', 'entre-ijuis', 'pedralva', 'gravatal', 'traipu', 'nova campina', 'inubia paulista', 'breves', 'sao miguel das matas', 'cambiasca', 'comercinho', 'narandiba', 'alto boa vista', 'dona francisca', 'andrelandia', 'aramari', 'santa maria do salto', 'arealva', 'boa vista da aparecida', 'piau', 'pardinho', 'caldas do jorro', 'acaiaca', 'bento de abreu', 'nova guarita', 'iacri', 'esperantinopolis', 'cavalcante', 'jacuizinho', 'recreio', 'quixabeira', 'iati', 'pindobacu', 'indiapora', 'planura', 'mamonas', 'imigrante', 'rio pomba', 'aguas claras', 'ronda alta', 'carbonita', 'pedro ii', 'pinheiros', 'nossa senhora de lourdes', 'pindai', 'divino das laranjeiras', 'mundo novo', 'curvelandia', 'agua comprida', 'general salgado', 'solonopole', 'santa fe', 'sao jose do divino', 'dom vicoso', 'casa nova', 'barbosa ferraz', 'alvaro de carvalho', 'sanclerlandia', 'andarai', 'japira', 'taquarivai', 'bequimao', 'uniao da serra', 'irara', 'lagoa de sao francisco', 'galia', 'carmo do rio verde', 'machadinho', \"mae d'agua\", 'monte gordo', 'altonia', 'cumaru', 'capela do alto', 'inocencia', 'portalegre', 'novo progresso', 'nova boa vista', 'apiuna', 'sangao', 'capela', 'senhora dos remedios', 'vila bela da santissima trindade', 'catas altas', 'santa rita de jacutinga', 'reserva do iguacu', 'itaituba', 'pedras altas', 'tailandia', \"pau d'arco\", 'monte carlo', 'jeronimo monteiro', 'itacarambi', 'jacigua', 'coronel sapucaia', 'engenheiro navarro', 'novo oriente de minas', 'colmeia', 'ibicoara', 'antunes', 'fontoura xavier', 'aguas de santa barbara', 'salto veloso', 'maracacume', 'palmeiras de goias', 'itaquitinga', 'laje do muriae', 'angulo', 'capoeiras', 'jaupaci', 'isaias coelho', \"olho d'agua das cunhas\", 'flores de goias', 'barreirinhas', 'tejupa', 'jaciara', 'oeiras', 'buriti do tocantins', \"bandeirantes d'oeste\", 'ibitita', 'tabira', 'mato leitao', 'figueira', 'fazenda nova', 'pindorama', 'lagoa do ouro', 'aratiba', 'sao pedro da uniao', 'ciriaco', 'jardim de piranhas', 'santa maria do suacui', 'sao jose do piaui', 'santo antonio das queimadas', 'nova itaberaba', 'irai de minas', 'grandes rios', 'sao joao do itaperiu', 'gloria do goita', 'cha de alegria', 'palmeira d oeste', 'lupercio', 'serrita', 'itarana', 'ipueiras', 'perpetuo socorro', 'pontalina', 'cristiano otoni', 'pedro de toledo', 'pinhal da serra', 'agua limpa', 'ivai', 'valentim gentil', 'estevao de araujo', 'cristopolis', 'florai', 'capetinga', 'andre da rocha', 'lencois', 'sabaudia', 'abadiania', 'candido godoi', 'arara', 'coluna', 'sarapui', 'sao jose do hortencio', 'luziapolis', 'jiquirica', 'acucena', 'pirangi', 'jerico', 'coronel domingos soares', 'padre paraiso', 'rio dos indios', 'laurentino', 'arneiroz', 'castro alves', 'altinho', 'ipecaeta', 'piratini', 'carmo de minas', 'praia norte', 'salto do ceu', 'coronel martins', 'itabirinha', 'fazenda vilanova', 'picui', 'jatoba', 'carmopolis', 'progresso', 'wenceslau guimaraes', 'perobal', 'venturosa', 'nazare', 'japaraiba', 'pirapo', 'curuca', 'vitoria do jari', 'altos', 'porto rico', 'nova padua', 'mara rosa', 'aribice', 'itau', 'doce grande', 'tapurah', 'pedrao', 'campo do tenente', 'sao joao da parauna', 'sao jose do rio claro', 'santa lucia', 'monte alegre', 'aquidauana', 'senador amaral', 'piacu', 'ipiacu', 'maristela', 'miravania', 'caetes', 'erico cardoso', 'guaraciaba do norte', 'macaubal', 'pimenta', 'quarai', 'paraiso do sul', 'brotas de macaubas', 'maua da serra', 'macambira', 'oroco', 'verissimo', 'planaltina do parana', 'contenda', 'castanheira', 'araponga', 'alto alegre', 'vitoria das missoes', 'estreito', 'sao goncalo do abaete', 'garrafao do norte', 'lagoa real', 'serrania', 'congonhinhas', 'fragosos', 'gouveia', 'madalena', 'colonia jordaozinho', 'jaguaquara', 'macambara', 'missi', 'parai', 'murucupi', 'romelandia', 'ribeirao branco', 'cajari', 'novo lino', 'barra do jacare', 'lagoa do mato', 'novo planalto', 'francisco sa', 'guia lopes da laguna', 'paineiras', 'sao joao do sabugi', 'quatituba', 'monte santo', 'epitaciolandia', 'inhapim', 'pedranopolis', 'campo alegre de minas', 'itabi', 'rodelas', 'mira estrela', 'araripe', 'tiros', 'denise', 'coronel murta', 'romaria', 'engenheiro balduino', 'guaraciaba', 'guaraci', 'pontes gestal', 'tanque novo', 'rubelita', 'moncao', 'cardoso moreira', 'agisse', 'rondon', 'cocos', 'marilandia do sul', 'goianapolis', 'massaranduba', 'miranda', 'itiuba', 'bossoroca', 'salgado filho', 'alexandrita', 'ribeira do pombal', 'heliopolis', 'anitapolis', 'pocoes', 'carmopolis de minas', 'sao joao da mata', 'tibau do sul', 'santo antonio de goias', 'conceicao da aparecida', 'jaguaruana', 'brasilandia', 'santana do itarare', 'ipuiuna', \"alvorada d'oeste\", 'jacarau', 'estrela d oeste', 'santa fe de goias', 'mallet', 'perola independente', 'tecainda', 'manfrinopolis', 'ouro verde do oeste', 'rio grande do piaui', 'campestre', 'oleo', 'sao paulo das missoes', 'porto de pedras', 'caracol', 'central de santa helena', 'sao mateus do maranhao', 'dom basilio', 'iomere', 'tuparece', 'santa leopoldina', 'igarape-acu', 'altinopolis', 'novais', 'aparecida de monte alto', 'sao geraldo do baguari', 'salinas da margarida', 'marilena', 'sao miguel do guama', 'ibicare', 'itajuipe', 'amapora', 'ribeirao claro', 'rio maria', 'antonio goncalves', 'marechal deodoro', 'entre rios de minas', 'botelho', 'novo mundo', 'campo grande do piaui', 'materlandia', 'americano do brasil', 'indiara', 'sao jorge do patrocinio', 'tamandare', 'porto dos gauchos', 'irapua', 'oiapoque', 'vila nova do sul', 'planaltino', 'sao fernando', 'salvador do sul', 'santa izabel do oeste', 'cocalzinho de goias', 'anhumas', 'cruz machado', 'barra do choca', 'padre gonzales', 'bandeirantes do tocantins', 'macaparana', 'alvorada do norte', 'carlinda', 'iretama', 'lindoeste', 'ipaporanga', 'taboquinhas', 'meruoca', 'santa maria da serra', 'mucuge', 'capitao poco', 'areias', 'buriti alegre', 'murutinga do sul', 'terra rica', 'vila langaro', 'cacaulandia', 'itarantim', 'santana do cariri', 'pium', 'tiradentes', 'ministro andreazza', 'caseiros', 'porto grande', 'caicara do norte', 'ceilandia', 'paranatinga', 'vicosa do ceara', 'visconde de maua', 'pirambu', 'placas', 'barreira', 'santana da boa vista', 'alto caparao', 'joaquim pires', 'corguinho', 'matutina', 'jaborandi', 'ita', 'riacho dos machados', 'doutor ulysses', 'leandro ferreira', \"pingo-d'agua\", 'barra do rio azul', 'teixeira soares', 'pavao', 'caldeirao grande do piaui', 'jaguarao', 'entre folhas', 'angical', 'pindare mirim', 'apiacas', 'nova floresta', 'coroaci', 'conceicao do rio verde', 'cumari', 'antonio cardoso', 'governador portela', 'foz do jordao', 'bela vista do paraiso', 'bias fortes', 'lagoa salgada', 'ribeirao vermelho', 'jaraguari', 'ibiai', 'bora', 'pedras de fogo', 'palmopolis', 'palhano', 'luiziana', 'campo bonito', 'campina do monte alegre', 'cravolandia', 'selbach', 'santa barbara d oeste', 'amarante', 'anadia', 'humildes', 'apuarema', 'alto alegre do pindare', 'puxinana', 'ibitioca', 'avai', 'matrincha', 'segredo', 'rio real', 'jucas', 'tamarana', 'altamira do parana', 'garuva', 'sao pedro dos ferros', 'sao joao de pirabas', 'monsenhor paulo', 'guapiara', 'senhora de oliveira', 'porto lucena', 'serra dourada', 'campina das missoes', 'wenceslau braz', 'rio bonito do iguacu', 'campo florido', 'alto sao joao', 'pirauba', 'ladainha', 'jaqueira', 'nova brescia', 'chaval', 'marilac', 'chaveslandia', 'turvania', 'sao jose da laje', 'paripiranga', 'monte belo do sul', 'ribas do rio pardo', 'aracatu', 'guape', 'cedro do abaete', 'santa maria da boa vista', 'padre bernardo', 'florida', 'buritirama', 'xapuri', 'carajas', 'boquira', 'virgolandia', 'nova erechim', 'joao camara', 'nazario', 'carolina', 'riachao das neves', 'arraial d ajuda', 'brejo bonito', 'capela do alto alegre', 'barro', 'valparaiso', 'porangaba', 'estrela velha', 'coronel freitas', 'barrolandia', 'carutapera', 'matriz de camaragibe', 'alianca do tocantins', 'rio rufino', 'jequia da praia', 'amapa do maranhao', 'barro preto', 'lourdes', 'salto do itarare', 'sambaiba', 'fruta de leite', 'lunardelli', 'laranjal do jari', 'goncalves', 'passos maia', 'demerval lobao', 'ilha grande', \"palmeira d'oeste\", 'buritizal', 'cururupu', 'miraima', 'santa brigida', 'santana do deserto', 'ribeiropolis', 'colonia castrolanda', 'sao felix do araguaia', 'moeda', 'curaca', 'balneario gaivota', 'taquarucu do sul', 'divisa nova', 'igrapiuna', 'guzolandia', 'ponte alta do norte', 'amanari', 'elisiario', 'morro agudo de goias', 'cipo', 'vicentinopolis', 'jaguarembe', 'divinopolis do tocantins', 'japoata', 'pastos bons', 'nova esperanca do sudoeste', 'gaviao peixoto', 'santana do capivari', 'sao felix', 'ataleia', 'sao desiderio', 'vale do sol', 'morro grande', 'ubai', 'itapetim', 'capitao eneas', 'novo oriente do piaui', 'dobrada', 'uruburetama', 'aurora do para', 'tenente ananias', 'gabriel monteiro', 'ipigua', 'itaparica', 'martinho campos', 'itaperucu', 'novo brasil', 'cabixi', 'entre rios do oeste', 'taiacu', 'barrocas', 'silvanopolis', 'almas', 'sao sebastiao da amoreira', 'ribeiro junqueira', 'agrestina', 'pintadas', 'pequi', 'campo alegre do fidalgo', 'teresina de goias', 'teixeira', 'sao francisco do brejao', 'iapu', 'mata grande', 'coite do noia', 'coqueiros do sul', 'tracunhaem', 'amontada', 'cachoeira do brumado', 'maragogipe', 'sao bras', 'capim branco', 'uniao do oeste', 'areia', 'barao', 'pirpirituba', 'acari', 'dois irmaos do buriti', 'coroados', 'posto da mata', 'conselheiro mairinck', 'sao miguel do anta', 'caraibas', 'america dourada', 'hulha negra', 'dias d avila', 'carnaiba do sertao', 'travesseiro', 'jesupolis', 'ourilandia do norte', 'goianinha', 'senador salgado filho', 'aguas vermelhas', 'frei lagonegro', 'oscar bressane', 'carnauba dos dantas', 'sao domingos do maranhao', 'monte alegre de sergipe', 'nova roma', 'terra nova', 'cujubim', 'orizania', 'ibiajara', 'tunas do parana', 'riqueza', 'duas barras', \"perola d'oeste\", 'campo magro', 'sao miguel dos campos', 'ponto do marambaia', 'baldim', 'sao francisco do gloria', 'sao roque de minas', 'feliz deserto', 'barra longa', 'arari', 'sertania', 'arvoredo', 'pouso novo', 'guatapara', 'pocao', 'florania', 'borrazopolis', 'rechan', 'rio espera', 'virginia', 'itaguara', 'salobro', 'neves paulista', 'mombaca', 'lutecia', 'varzelandia', 'itaara', 'claraval', 'itatim', 'lavrinhas', 'gongogi', 'sao domingos das dores', 'santa barbara do para', 'sao vicente ferrer', 'sao pedro do sul', 'sao jose dos quatro marcos', 'caiana', 'sericita', 'guarapua', 'sao bonifacio', 'seberi', 'alagoa nova', 'vicente dutra', 'palmares paulista', 'feliz natal', 'jequeri', 'erere', 'urucania', 'vicencia', 'aguia branca', 'adrianopolis', 'centro novo do maranhao', 'santo expedito', 'goiandira', 'galinhos', 'nova ipixuna', 'francisco dumont', 'santa cruz de salinas', 'piao', 'assuncao', 'flores', 'dom macedo costa', 'divino de sao lourenco', 'itatiaiucu', 'nortelandia', 'santo eduardo', 'sao joao das missoes', 'poco redondo', 'sao francisco do conde', 'datas', 'jabora', 'bertopolis', 'candeal', 'filadelfia', 'magda', 'presidente juscelino', 'alexandra', 'coari', 'silveira martins', 'barao de cotegipe', 'luminarias', 'urucuia', 'pindoretama', 'nova palma', 'sao benedito do rio preto', 'paraju', 'jacuipe', 'tres irmaos', 'ouro', 'corrego fundo', 'bom retiro', 'britania', 'retirolandia', 'patis', 'euclides da cunha', 'sebastiao leal', 'itapissuma', \"estrela d'oeste\", 'maranhaozinho', 'jataizinho', 'marcelino vieira', 'redencao do gurgueia', 'francisco dantas', 'boa ventura', 'conceicao do jacuipe', 'arroio do tigre', 'coruripe', 'francisco badaro', 'berilo', 'angustura', 'sao pedro do butia', 'atalanta', 'carnaubal', 'miraguai', 'santo antonio do pinhal', 'martinesia', 'prudencio thomaz', 'agrolandia', 'candido sales', 'flora rica', 'confins', 'riachuelo', 'lagoa nova', 'satubinha', 'major porto', 'olindina', 'irupi', 'jaboti', 'lebon regis', 'uniao dos palmares', 'boraceia', 'agua clara', 'areiopolis', 'ipueira', 'ubirajara', 'itagi', 'santo hipolito', 'conceicao do formoso', 'luisburgo', 'silvano', 'sitio novo', 'lagoa dos patos', 'estrela do indaia', 'fonseca', 'sao jose do serido', 'vargeao', 'onda verde', 'ipiranga do sul', 'serra azul', 'vera', 'jardim olinda', 'santo antonio do canaa', 'boa vista do gurupi', 'goiabeira', 'santa cruz do piaui', 'itapirapua paulista', 'coronel macedo', 'nova luzitania', 'ouro verde de goias', 'acajutiba', 'anhembi', 'itagimirim', 'rubim', 'belmonte', 'garruchos', 'coracao de maria', 'anhandui', 'presidente lucena', 'doverlandia', 'pio ix', 'cupira', 'ouvidor', 'boa esperanca do iguacu', 'alegria', 'jucurucu', 'itaguari', 'guinda', 'viseu', 'alto santo', 'esmeralda', 'igarape-miri', 'mineiros do tiete', 'montadas', 'alegrete do piaui', 'mauriti', 'santo antonio', 'miradouro', 'luz', 'peixe', 'juru', 'julio mesquita', 'ribeiraozinho', 'amparo da serra', 'campo alegre de lourdes', 'cascalho rico', 'apora', 'cha grande', 'poco de pedra', 'roca sales', 'jandaia', 'treviso', 'sete de setembro', 'mantenopolis', 'sao clemente', 'santa cecilia do pavao', 'abaira', 'alagoinha', 'itapicuru', 'cerro grande do sul', 'salto grande', 'cotegipe', 'pinhotiba', 'celso ramos', 'divinesia', 'guassusse', 'cabeceiras', 'mascote', 'tuparendi', 'ipaumirim', 'guabiju', 'rancho queimado', 'campo alegre de goias', 'espirito santo do turvo', 'caiua', \"conquista d'oeste\", 'augustinopolis', 'monte alverne', 'aracitaba', 'itaguaru', 'felicio dos santos', 'leoberto leal', 'ibitira', 'serra branca', 'sao jose do ribeirao', 'alcantara', 'padre carvalho', 'mata', 'vargem grande do soturno', 'caxambu do sul', 'braunas', 'alianca', 'leopolis', 'cacimbinhas', 'vila pereira', 'quipapa', 'gramado dos loureiros', 'macieira', 'bacaxa', 'paranhos', 'lamarao', 'bodo', 'pontao', 'douradina', 'querencia do norte', 'sertao santana', 'canaa', 'bela vista do maranhao', 'magalhaes de almeida', 'ichu', 'vitoria do mearim', 'redencao da serra', 'capinzal do norte', 'jacareacanga', 'vespasiano correa', 'sao felipe', 'jeriquara', 'sucesso', 'paraibano', 'echapora', 'balsa nova', 'kalore', \"sao jorge d'oeste\", 'jundiai do sul', 'pugmil', 'dezesseis de novembro', 'uirauna', 'anguera', 'pirajuba', 'barao ataliba nogueira', 'passira', 'ibiracu', 'santa teresinha', 'mogi-mirim', 'ajapi', 'crominia', 'guariroba', 'itabatan', 'juruti', 'parnarama', 'baguari', 'trabiju', 'candoi', 'guairaca', 'pau brasil', 'tururu', 'ibarama', 'lucena', 'ilicinea', 'nova ubirata', 'abare', 'banzae', 'itiquira', 'coronel joao pessoa', 'tumiritinga', 'jardim alegre', 'sede alvorada', 'piracema', 'camacho', 'ribeira do amparo', 'jaua', 'delfim moreira', 'porteiras', 'palminopolis', 'mariental', 'canudos', 'pedra menina', 'itaguaje', \"lagoa d'anta\", 'ibitiuva', 'tapinas', 'fortim', 'terenos', 'senador la rocque', 'caparao', 'planaltina de goias', 'graccho cardoso', 'brejo', 'sao jose do campestre', 'sao patricio', 'vermelho novo', 'ilha dos valadares', 'flor da serra do sul', 'pirai do norte', 'antonio martins', 'tacuru', 'claro dos pocoes', 'guapirama', 'brasileia', 'araguana', 'varzea nova', 'morro da garca', 'ferreiros', 'nova crixas', 'mutum parana', 'pacuja', 'mucurici', 'porto murtinho', 'cezarina', 'itaju do colonia', 'assare', 'frecheirinha', 'umburanas', 'atalaia', 'itape', 'nova america', 'picarras', 'rodeiro', 'floresta do araguaia', 'rio tinto', 'acegua', 'caldas brandao', 'desterro de entre rios', 'itarema', 'tutoia', 'patrocinio paulista', 'guamiranga', 'carmesia', 'caetanos', 'chapadao do lageado', 'icaraima', 'matias olimpio', 'caem', 'paula freitas', 'tavares', 'sao miguel do cambui', 'arantina', 'icatu', 'martins', 'pinto bandeira', 'arataca', 'caputira', 'loreto', 'dom cavati', 'dona emma', 'aiuaba', 'serro', 'crucilandia', 'embauba', 'morro do pilar', 'mucambo', 'paranapoema', 'vitorinos', 'brasopolis', 'nova santa barbara', 'sento se', 'ponto novo', 'picada cafe', 'atilio vivacqua', 'erebango', 'corrego do ouro', 'bom jardim de goias', 'caxingo', 'santana de pirapama', 'jaquirana', 'ibiassuce', 'novo itacolomi', 'juripiranga', 'itatiba do sul', 'pitanga de estrada', 'novo alegre', 'monteiro lobato', 'maquine', 'cairu', 'ipupiara', 'bocaiuva do sul', 'capistrano', 'nova redencao', 'santa maria do herval', 'pitimbu', 'pedra lavrada', 'brejo do cruz', 'quatro pontes', 'lajeado grande', 'coreau', 'groairas', 'alto piquiri', 'pescador', 'presidente nereu', 'alpestre', 'pombos', 'nova resende', 'ibitiara', 'ibicuitinga', 'termas de ibira', 'vila reis', 'malhador', 'varzea do poco', 'baixa grande', 'cerro negro', 'itambaraca', 'pirapemas', 'itacurussa', 'porto firme', 'porto alegre do norte', 'americo de campos', 'nobres', 'pereiras', 'vicentina', 'tome-acu', 'berizal', 'tamboara', 'agua preta', 'jampruca', 'arapua', 'sao luiz do norte', 'rosario do ivai', 'cassia dos coqueiros', 'arame', 'santo antonio do aventureiro', 'centenario', 'boa vista do burica', 'itanhanga', 'meridiano', 'minas do leao', 'livramento', 'palmital de minas', 'lagoa do carro', 'manoel urbano', 'jardim abc de goias', 'santa rosa do sul', 'capivari do sul', 'tunapolis', 'vila flor', 'lagoa', 'ingai', 'montividiu do norte', 'medicilandia', 'santa cruz de goias', 'gloria de dourados', 'tabuleiro do norte', 'carmolandia', 'joao dourado', 'bodoco', 'santa isabel do rio preto', 'missao velha', 'herveiras', 'ourem', 'liberato salzano', 'santo antonio do planalto', 'santo inacio', 'tangara', 'jaguapita', 'messias targino', 'curral de cima', 'trombas', 'pio xii', 'marcos parente', 'santo antonio do leste', 'calmon', 'laranja da terra', 'montanhas', 'cidelandia', 'correntes', 'pires ferreira', 'piquerobi', 'passo de camaragibe', 'marques de souza', 'general maynard', 'cerrito', 'felisburgo', 'estiva', 'santa amelia', 'agua nova', 'nova esperanca do piria', 'adhemar de barros', 'picarra', 'sao nicolau', 'campos verdes', 'benedito leite', 'sao sebastiao do paraiba', 'pacotuba', \"olhos d'agua\", 'balbinos', 'serra bonita', 'venda branca', 'sanga puita', 'queiroz', 'siriji', 'natividade da serra', 'monte bonito', 'sao rafael', 'eugenio de castro']\n",
      "4119\n"
     ]
    }
   ],
   "source": [
    "drop_city1 = doc[\"customer_city\"].drop_duplicates()  # Remove duplicate values in 'customer_city' column (customer_city 열에서 중복된 값 제거)\n",
    "drop_city1 = list(drop_city1)                        # Convert the result to a list (결과를 리스트로 변환)\n",
    "print(drop_city1)                                    # Print the list of unique customer cities (고유한 customer_city 리스트 출력)\n",
    "print(len(drop_city1))                               # Print the number of unique customer cities (고유한 customer_city 개수 출력)"
   ]
  },
  {
   "cell_type": "code",
   "execution_count": 175,
   "metadata": {},
   "outputs": [
    {
     "name": "stdout",
     "output_type": "stream",
     "text": [
      "['vargem grande', 'agua fria de goias', 'taperuaba', 'cajueiro', 'canapi', 'itanhem', 'sao jose da coroa grande', 'sao jorge do ivai', 'nova laranjeiras', 'ivora', 'anaurilandia', 'pedro velho', 'glaura', 'sao miguel do aleixo', 'santo antonio do caiua', 'fernao', 'sao jose da tapera', 'cordeiros', 'ananas', 'godoy moreira', 'japi', 'barauna', 'sandolandia', 'inga', 'muritiba', 'desembargador otoni', 'ipiranga do norte', 'felipe guerra', 'rio formoso', 'igaratinga', 'cedro', 'sao joao da urtiga', 'bom jesus do querendo', 'formosa da serra negra', 'rainha do mar', 'banabuiu', 'chorrocho', 'cipo-guacu', 'itabaianinha', 'ibirapua', 'francisco santos', 'guimaraes', 'tapera', 'rio doce', 'tocos do moji', 'humberto de campos', 'riversul', 'lindolfo collor', 'santana do sobrado', 'central', 'nova independencia', 'sacra familia do tingua', 'unistalda', 'sobralia', 'divinopolis de goias', 'sao joao de petropolis', 'independencia', 'lagoa de velhos', 'dores de guanhaes', 'ponto belo', 'portela', 'santo antonio do leverger', 'serranopolis de minas', 'sao pedro da agua branca', 'santo expedito do sul', 'parana', 'tupassi', 'saubara', 'duere', 'anage', 'apore', 'cajapio', 'mansidao', 'miranda do norte', 'nova araca', 'senador jose porfirio', 'vista alegre', 'itutinga', 'boa vista do sul', 'paula candido', 'igapora', 'itaguacu da bahia', 'lindoia do sul', 'uruana de minas', 'gramado xavier', 'quilometro 14 do mutum', 'sao francisco do humaita', 'alto alegre do maranhao', 'murici', 'arapoema', 'cuite velho', 'pranchita', 'bom jesus da penha', 'mossamedes', 'angelo frechiani', 'itagiba', 'sao cristovao do sul', 'tuiuti', 'presidente castello branco', 'olaria', 'santa terezinha', 'bonito de santa fe', 'valao do barro', 'senador cortes', 'vermelho', 'brejo dos santos', 'caridade', 'ibema', 'cerejeiras', \"diamante d'oeste\", 'paraiso das aguas', 'mirante da serra', 'simplicio mendes', 'itapage', 'aquidaba', 'cantanhede', 'bom jesus do araguaia', 'pancas', 'campinacu', 'ibipeba', 'angicos', 'mercedes', 'sao jose do xingu', 'jaguaracu', 'mimoso de goias', 'sardoa', 'varzedo', 'sinimbu', 'girau do ponciano', 'umburatiba', 'almino afonso', 'jaboticatubas', 'itacoatiara', 'novo cabrais', 'abdon batista', 'sao joao da ponte', 'desterro', 'ulianopolis', 'santa salete', 'macuco de minas', 'terezinha', 'sao jose dos cordeiros', 'cabaceiras do paraguacu', 'janduis', 'sao sebastiao de campos', 'adustina', 'santa quiteria do maranhao', 'constantina', 'pratapolis', 'monte castelo', 'peri mirim', 'santana do ipanema', 'vargem grande do rio pardo', 'sao joaquim do monte', 'bom jesus do sul', 'fenix', 'turvelandia', 'aguas mornas', 'jaguaribara', 'formosa do oeste', 'araguacu', 'xexeu', 'buriti', 'santa cruz do timbo', 'araguaia', 'parisi', 'pureza', 'rosario', 'almirante tamandare do sul', 'mutunopolis', 'santa filomena', 'amargosa', 'sao jorge', 'conrado', 'cotipora', 'brejetuba', 'morro redondo', 'indiaroba', 'paulino neves', 'calcado', 'jurema', 'jamapara', 'jamaica', 'riacho da cruz', 'sao domingos do araguaia', 'aragoiania', 'braco do rio', 'ourizona', 'sao goncalo do rio preto', 'croata', 'conceicao do caninde', 'nossa senhora das dores', 'domiciano ribeiro', 'luis correia', 'sao jorge do oeste', 'bela vista de minas', 'general camara', 'sao bento abade', 'coronel pacheco', 'jose boiteux', 'farol', 'nova roma do sul', 'biritinga', 'cocais', 'brejo grande', 'nazare da mata', 'presidente kennedy', 'marinopolis', 'hidrolina', 'minduri', 'aroeiras', 'presidente janio quadros', 'neopolis', 'severiano melo', 'sitio do quinto', 'sao geraldo da piedade', 'bemposta', 'carinhanha', 'capela nova', 'tiradentes do sul', 'fortaleza dos valos', 'moncoes', 'nova lacerda', 'piripa', 'arenopolis', 'mariano moro', 'riacho de santo antonio', 'bom jesus do amparo', 'sao mamede', 'juvenilia', 'castelo do piaui', 'mairipotaba', 'gilbues', 'santa luzia do parua', 'crisolita', 'brejoes', 'ribeirao cascalheira', 'itaicaba', 'arraias', 'ibiracatu', 'vanini', 'candeias do jamari', 'mae do rio', 'uniao do sul', 'polo petroquimico de triunfo', 'sao pedro do iguacu', 'capitao', 'governador eugenio barros', 'bataipora', 'celina', 'novo jardim', 'ibertioga', 'nova guataporanga', 'centralina', 'panelas', 'suzanapolis', 'monteiropolis', 'taquarana', 'capela de santana', 'castanheiras', 'itinga', 'chiapetta', 'canhotinho', 'alfredo marcondes', 'campestre do maranhao', 'santo antonio do aracangua', \"rancho alegre d'oeste\", 'santa rita do itueto', 'aguas frias', 'nova vicosa', 'sao carlos do ivai', 'tracuateua', 'serio', 'ewbank da camara', 'cachoeira da prata', 'capitao andrade', 'candido mendes', 'frei rogerio', 'arroio trinta', 'botupora', 'boquim', 'pedra do indaia', 'porto estrela', 'serra do salitre', 'galvao', 'colonia leopoldina', 'moema', 'serra dos dourados', 'bertolinia', 'lagoa da canoa', 'inhuma', 'agudo', 'angelina', 'palmeirinha', 'remigio', 'getulina', 'costa marques', 'paripueira', 'sulina', 'porto acre', 'cerro grande', 'ressaquinha', 'jose da penha', 'machados', 'aparecida do rio negro', 'emilianopolis', 'frei gaspar', 'santa luzia do norte', 'tres forquilhas', 'wagner', 'turvolandia', 'ouro verde de minas', 'aurilandia', 'frutuoso gomes', 'pedro gomes', \"santa clara d'oeste\", \"aparecida d'oeste\", 'angical do piaui', 'barra dos coqueiros', 'itapiuna', 'santa helena de minas', 'alpercata', 'mata roma', 'jussiape', 'rincao', 'cubati', 'glorinha', 'santa maria do para', 'jenipapo de minas', 'taiuva', 'alto bela vista', 'mampituba', 'nacip raydan', 'sao mateus de minas', 'joselandia', 'senador guiomard', 'capao da porteira', 'iramaia', 'santo antonio dos campos', 'combinado', 'lagoa dos tres cantos', 'sao bernardino', 'piacatu', 'desterro do melo', 'tomar do geru', 'santa margarida', 'alfredo wagner', 'felixlandia', 'patrocinio do muriae', 'muliterno', 'manaira', 'sao jose do goiabal', 'dois riachos', 'alagoa', 'corrego danta', 'grupiara', 'macuco', 'pareci novo', 'lajinha', 'guaraquecaba', 'japaratuba', 'itapirapua', 'sao felix do coribe', 'mato rico', 'simao pereira', 'queixada', 'governador dix-sept rosado', 'ocara', 'queluz', 'nantes', 'machacalis', 'ibiara', 'barao de juparana', 'crissiumal', 'silveira carvalho', 'chorozinho', 'populina', 'nova timboteua', 'santo antonio do taua', 'iaras', 'sarutaia', 'conceicao do para', 'salto da divisa', 'matoes', 'saboeiro', 'lamim', 'jequitai', 'telha', 'mojui dos campos', 'princesa isabel', 'lidice', 'durande', 'upanema', 'coimbra', 'altaneira', 'guiricema', 'taparuba', 'alagoa grande', 'iguai', 'boa vista das missoes', 'bom jesus da serra', 'passagem', \"itaporanga d'ajuda\", 'armazem', 'cristinapolis', 'satiro dias', 'abatia', 'goncalves dias', 'arapei', 'rio dos cedros', 'conceicao do almeida', 'barao do triunfo', 'saudades', 'sao goncalo do rio das pedras', 'vargem', 'florinia', 'boa vista do cadeado', 'dormentes', 'nova america da colina', 'fagundes', 'lagoinha do piaui', 'vertentes', 'sao bentinho', 'andrequice', 'doutor mauricio cardoso', 'coxilha', 'deodapolis', 'cruzeiro do iguacu', 'pocao de pedras', 'passagem franca', 'maribondo', 'corumbatai do sul', 'purilandia', 'oeiras do para', 'sao lourenco do piaui', 'mariopolis', 'vitorino', 'junqueiro', 'bonito de minas', 'sao jose da boa vista', 'pouso redondo', 'uruoca', 'ibipitanga', 'ipiranga de goias', 'areial', 'morro vermelho', 'solanea', 'santa rita da floresta', 'morro do ferro', 'novo repartimento', 'macau', 'santo amaro das brotas', 'santo antonio do rio abaixo', 'mondai', 'saudade do iguacu', 'santo antonio do itambe', 'dario meira', 'santa fe de minas', 'brejolandia', 'buenos aires', 'canto do buriti', 'pianco', 'osvaldo kroeff', 'estrela do sul', 'nova canaa do norte', 'maria da fe', 'clevelandia', 'buique', 'pequizeiro', 'matelandia', 'morro de sao paulo', 'campo azul', 'terra nova do norte', 'lago verde', 'jussari', 'cristal', 'caririacu', 'agua doce', 'chacara', 'cambara do sul', 'euclides da cunha paulista', 'natercia', 'sao benedito do sul', 'arembepe', 'passa tempo', 'gentio do ouro', 'conceicao da ibitipoca', 'cotriguacu', 'condeuba', 'antonina do norte', 'bugre', 'baixa grande do ribeiro', 'novo machado', 'doutor camargo', 'trombudo central', 'itaueira', 'sao joao do sul', 'maiquinique', 'porto franco', 'brazabrantes', 'varzea', 'nova canaa', 'angelica', 'sao joao do sobrado', 'brasilandia de minas', 'governador lindenberg', 'guaiuba', 'sao sebastiao do rio verde', 'aramina', 'itupiranga', 'pocoes de paineiras', 'pedregulho', 'protasio alves', 'rubineia', 'wanderley', 'leopoldo de bulhoes', 'pacoti', 'sao vitor', 'lucianopolis', 'sao jose do inhacora', 'faxinalzinho', 'ravena', 'uniao', 'dionisio', 'orobo', 'sao domingos do sul', 'tobias barreto', 'sao felix de minas', 'arrozal', 'curralinho', 'paulistania', 'lagoa do piaui', 'campo do brito', 'lagoao', 'paial', 'cajuri', 'joaima', 'vieiras', 'mocajuba', 'governador mangabeira', 'sao sebastiao da serra', 'alvorada do gurgueia', 'mussurepe', 'traipu', 'breves', 'araguapaz', 'sao miguel das matas', 'cambiasca', 'comercinho', 'santa maria do salto', 'pardinho', 'caldas do jorro', 'nova guarita', 'itamogi', 'jacuizinho', 'muquem do sao francisco', 'potengi', 'mamonas', 'aguas claras', 'conquista', 'nossa senhora de lourdes', 'divino das laranjeiras', 'curvelandia', 'teofilandia', 'sao jose do turvo', 'andarai', 'bequimao', 'apodi', 'uniao da serra', 'lagoa de sao francisco', 'beberibe', 'galia', 'cedro de sao joao', 'machadinho', \"mae d'agua\", 'bela vista', 'sao vendelino', 'inocencia', 'putinga', 'botuvera', 'porto esperidiao', 'nova boa vista', 'senhora dos remedios', 'vila bela da santissima trindade', 'santa rita de jacutinga', 'reserva do iguacu', 'brejo da madre de deus', 'santa cruz do prata', 'dona euzebia', 'pedras altas', 'limeira do oeste', 'mato verde', 'anastacio', 'coronel sapucaia', 'engenheiro navarro', 'novo oriente de minas', 'matupa', 'antunes', 'fontoura xavier', 'laje do muriae', 'capoeiras', 'jaupaci', 'cachoeira do campo', 'sapeacu', 'isaias coelho', 'santo antonio do palma', 'flores de goias', 'sao pedro do turvo', 'buriti do tocantins', \"bandeirantes d'oeste\", 'ibitita', 'anta gorda', 'aratiba', 'ibiraiaras', 'sucupira do norte', 'ciriaco', 'jardim de piranhas', 'sao jose do piaui', 'imbau', 'santo antonio das queimadas', 'inimutaba', 'sao joao do itaperiu', 'cha de alegria', 'palmeira d oeste', 'goianorte', 'coelho neto', 'presidente bernardes', 'carnaubais', 'pinhal da serra', 'agua limpa', 'sao paulo do potengi', 'estevao de araujo', 'ribeirao do sul', 'campinapolis', 'colniza', 'andre da rocha', 'lencois', 'sabaudia', 'conservatoria', 'abadiania', 'candido godoi', 'arara', 'luziapolis', 'agronomica', 'vila nova', 'jiquirica', 'acucena', 'pato bragado', 'jerico', 'granja', 'coronel domingos soares', 'padre paraiso', 'rio dos indios', 'sao bras do suacui', 'irape', 'florai', 'ipecaeta', 'piratini', 'nova itaberaba', 'praia norte', 'itabirinha', 'caravelas', 'progresso', 'serra de sao bento', 'augusto pestana', 'perobal', 'lavinia', 'japaraiba', 'pirapo', 'vitoria do jari', 'porto rico', 'nova padua', 'barra do tarrachil', 'aribice', 'doce grande', 'tapurah', 'pedrao', 'frei martinho', 'campina da lagoa', 'nova campina', 'campo do tenente', 'sao joao da parauna', 'baianopolis', 'paudalho', 'rio fortuna', 'formosa do rio preto', 'carambei', 'piacu', 'sao pedro do ivai', 'miravania', 'caetes', 'erico cardoso', 'inconfidentes', 'macaubal', 'paranapua', 'imigrante', 'paraiso do sul', 'sertao', 'brotas de macaubas', 'macambira', 'mandirituba', 'planaltina do parana', 'piracuruca', 'contenda', 'tomazina', 'boca da mata', 'vitoria das missoes', 'salto do ceu', 'lagoa real', 'fragosos', 'madalena', 'rio das antas', 'missi', 'murucupi', 'romelandia', 'moreilandia', 'cajari', 'sao jose de mipibu', 'sao joao do ivai', 'novo lino', 'barra do jacare', 'lagoa do mato', 'virgem da lapa', 'novo planalto', 'guia lopes da laguna', 'paineiras', 'sao joao do sabugi', 'quatituba', 'monte santo', 'alhandra', 'arenapolis', 'riacho das almas', 'epitaciolandia', 'pedranopolis', 'campo alegre de minas', 'grandes rios', 'itabi', 'mira estrela', 'governador celso ramos', 'areal', 'luiziania', 'coronel murta', 'juranda', 'cristina', 'engenheiro balduino', 'ilha comprida', 'pontes gestal', 'rubelita', 'moncao', 'ibiaca', 'agisse', 'vere', 'cocos', 'marilandia do sul', 'chale', 'ajuricaba', 'sao sebastiao da boa vista', 'jupi', 'poloni', 'jequitiba', 'bossoroca', 'rodeio bonito', 'alexandrita', 'heliopolis', 'apuiares', 'nova mutum', 'tibau do sul', 'sao thome das letras', 'ibiapina', 'santo antonio de goias', 'riachinho', 'brasilandia', 'santana da vargem', 'santana do itarare', 'ipuiuna', \"alvorada d'oeste\", 'jacarau', 'bom jesus do galho', 'estrela d oeste', 'barra de sao miguel', 'perola independente', 'tecainda', 'carmo de minas', 'manfrinopolis', 'xique-xique', 'ouro verde do oeste', 'rio grande do piaui', 'oleo', 'santa ernestina', 'saloa', 'porto de pedras', 'santa clara do sul', 'caracol', 'central de santa helena', 'campestre da serra', 'prudente de morais', 'itaja', 'tucuma', 'morpara', 'araguatins', 'ibateguara', 'rolim de moura', 'vila flores', 'conceicao da feira', 'iomere', 'tuparece', 'santa leopoldina', 'muniz freire', 'ribeirao branco', 'igarape-acu', 'tupandi', 'novais', 'aparecida de monte alto', 'sao geraldo do baguari', 'salinas da margarida', 'marilena', 'afranio', 'espigao', 'nossa senhora da gloria', 'antonio goncalves', 'marechal deodoro', 'santo antonio das missoes', 'botelho', 'novo mundo', 'campo grande do piaui', 'perola', 'pindai', 'inhapi', 'tamandare', 'porto dos gauchos', 'oiapoque', 'santa mercedes', 'tres arroios', 'campanario', 'vila nova do sul', 'planaltino', 'macaiba', 'ibirataia', 'montalvania', 'sao fernando', 'salvador do sul', 'cocalzinho de goias', 'anhumas', 'padre gonzales', 'novo oriente', 'vila nelita', 'engenheiro beltrao', 'iretama', 'zacarias', 'joaquim tavora', 'taboquinhas', 'macambara', 'mucuge', 'medeiros', 'parelhas', 'agua comprida', 'conceicao', 'buriti alegre', 'cacaulandia', 'pium', 'sao joao batista do gloria', 'ministro andreazza', 'caseiros', 'urucuca', 'porto grande', 'caicara do norte', 'ceilandia', 'vicosa do ceara', 'pirambu', 'pontalina', 'nova alvorada do sul', 'barreira', 'paulo jacinto', 'joaquim pires', 'azurita', 'cambira', 'capao do cipo', 'doutor ulysses', 'cachoeira', 'placas', 'zortea', \"pingo-d'agua\", 'barra do rio azul', 'satuba', 'tuparetama', 'pontalinda', 'pavao', 'reginopolis', 'caldeirao grande do piaui', 'entre folhas', 'lagoinha', 'bataguassu', 'ibirarema', 'angical', 'apiacas', 'nova floresta', 'guimarania', 'foz do jordao', 'damianopolis', 'lagoa salgada', 'dumont', 'agua doce do norte', 'paulo lopes', 'santa rita do ibitipoca', 'vila dos cabanos', 'bora', 'palmopolis', 'oriente', 'cruzeiro do sul', 'palhano', 'nuporanga', 'jaguaquara', 'mucuri', 'campo bonito', 'piedade dos gerais', 'cravolandia', 'engenheiro passos', 'maracana', 'cabeceira grande', 'selbach', 'rifaina', 'amarante', 'belem do sao francisco', 'humildes', 'apuarema', 'alto alegre do pindare', 'puxinana', 'ibitioca', 'cristais paulista', 'avai', 'patu', 'irai', 'sitio novo do tocantins', 'segredo', \"arraial d'ajuda\", 'ibicare', 'jucas', 'gandu', 'caraubas', 'santa monica', 'sao sebastiao do maranhao', 'valentim gentil', 'pilao arcado', 'monsenhor paulo', 'surubim', 'bernardino de campos', 'carmopolis', 'porto lucena', 'meruoca', 'alto paraiso', 'quixere', 'corumbaiba', 'abrantes', 'colorado do oeste', 'campo florido', 'alto sao joao', \"herval d'oeste\", 'nova brescia', 'ponto dos volantes', 'mendes pimentel', 'jaraguari', 'livramento de nossa senhora', 'chaval', 'marilac', 'itaipava', 'ivate', 'bom jesus do tocantins', 'santana do araguaia', 'inhambupe', 'aracariguama', 'monte belo do sul', 'coronel martins', 'ribas do rio pardo', 'gaucha do norte', 'aracatu', 'motuca', 'guape', 'cedro do abaete', 'charrua', 'florida', 'bodoquena', 'sao joao do oriente', 'santa barbara do sul', 'santa rosa de lima', 'fatima do sul', 'lindoeste', 'nova monte verde', 'icarai de minas', 'boquira', 'jacinto', 'guarani das missoes', \"figueiropolis d'oeste\", 'claudia', 'aratuba', 'bom retiro do sul', 'condado', 'bananeiras', 'alto horizonte', 'taciba', 'herval', 'irapuru', 'antonio cardoso', 'arraial d ajuda', 'brejo bonito', 'capela do alto alegre', 'carlinda', 'serra azul de minas', 'amapora', 'guamare', 'jeronimo monteiro', 'wenceslau braz', 'aramari', 'lavras da mangabeira', 'sao mateus do maranhao', 'estrela velha', 'coronel freitas', 'mirinzal', 'matriz de camaragibe', 'dionisio cerqueira', 'rio rufino', 'cabedelo', 'amapa do maranhao', 'barro preto', 'iacu', 'divisa alegre', 'bandeirantes do tocantins', 'salto do itarare', 'sambaiba', 'barra de santo antonio', 'ferros', 'campo novo', 'buriticupu', 'demerval lobao', 'carmo do rio verde', 'ilha grande', 'santa brigida', 'conceicao das pedras', 'santana do deserto', 'ribeiropolis', 'sao paulo das missoes', 'carapebus', 'bias fortes', 'diorama', \"alta floresta d'oeste\", 'sao francisco do guapore', 'alto alegre do iguacu', 'sao felix do araguaia', 'moeda', 'sao miguel do gostoso', 'inubia paulista', 'taquarucu do sul', 'divisa nova', 'urai', 'igrapiuna', 'guzolandia', 'angulo', 'ponte alta do norte', 'amanari', 'elisiario', 'juara', 'jussara', 'vianopolis', 'alto parnaiba', 'morro agudo de goias', 'cipo', 'cidreira', 'serra do ramalho', 'amelia rodrigues', 'candelaria', 'jaguarembe', 'divinopolis do tocantins', 'japoata', 'cerro azul', 'nova soure', 'jacupiranga', 'nova esperanca do sudoeste', 'santana do capivari', 'sao felix', 'ipaporanga', 'aquiraz', 'sao desiderio', 'itanhomi', 'barra do bugres', 'vale do sol', 'morro grande', 'ubai', 'salto do lontra', 'silveiras', 'capitao eneas', 'vila rica', 'quintana', 'uruburetama', 'cavalcante', 'jatoba', 'aurora do para', 'piratininga', 'reserva', 'baturite', 'tenente ananias', 'santo antonio do grama', 'perpetuo socorro', 'areias', 'gabriel monteiro', 'orindiuva', 'itaparica', 'sao goncalo do para', 'taquarivai', 'uibai', 'liberdade', 'novo brasil', 'cabixi', 'taiacu', 'bela cruz', 'tiradentes', 'pitanga', 'barrocas', 'buritizal', 'silvanopolis', 'almas', 'urucurituba', 'sao sebastiao da amoreira', 'cardoso', 'ipaussu', 'ribeiro junqueira', 'agrestina', 'pequi', 'cruzilia', 'ubajara', 'barras', 'campo alegre do fidalgo', 'morretes', 'witmarsum', 'barreiros', 'teresina de goias', 'boninal', 'maranguape', 'teixeira', 'quitandinha', 'sao francisco do brejao', 'coite do noia', 'coqueiros do sul', 'joao lisboa', 'sao jose do rio claro', 'sao tomas de aquino', 'mambai', 'amontada', 'itaoca', 'alfredo vasconcelos', 'cachoeira do brumado', 'serrolandia', 'alianca do tocantins', 'sao bras', 'limoeiro', 'uniao do oeste', 'sao bernardo', \"pau d'arco\", 'quixabeira', 'itubera', 'barao', 'pirpirituba', 'acari', 'parai', 'conselheiro mairinck', 'sao miguel do anta', 'caraibas', 'america dourada', 'tarumirim', 'sao joao do paraiso', 'hulha negra', 'dias d avila', 'santa izabel do oeste', 'buriti dos lopes', 'carnaiba do sertao', 'carvalhopolis', 'travesseiro', 'sao jose do divino', 'senador salgado filho', 'frei lagonegro', 'carnauba dos dantas', 'castelandia', 'primeiro de maio', 'arneiroz', 'ipiabas', 'ubaira', 'paulistana', 'monte alegre de sergipe', 'pindoba', 'nova roma', 'terra nova', 'cujubim', 'orizania', 'ibiajara', 'duas barras', 'campo magro', 'jaguari', 'tucunduva', 'ponto do marambaia', 'americano do brasil', 'macaparana', 'sao francisco do gloria', 'santana dos montes', 'miranda', 'barra longa', \"nova brasilandia d'oeste\", 'inaja', 'arvoredo', 'carlos chagas', 'cristiano otoni', 'pouso novo', 'nova olinda do maranhao', 'guatapara', 'pocao', 'florania', 'sao jose do egito', 'nova bandeirantes', 'diogo de vasconcelos', 'arace', 'sapopema', 'camutanga', 'santo antonio do descoberto', 'rio espera', 'virginia', 'irara', 'salobro', 'ariranha', 'mombaca', 'sao joao da mata', 'lutecia', 'itapaje', 'itaara', 'claraval', 'areia', 'pedrinopolis', 'matoes do norte', 'lavrinhas', 'jumirim', 'gongogi', 'nova canaa paulista', 'ouro preto do oeste', 'santa barbara do para', 'sao pedro do sul', 'sananduva', 'guarapua', 'santa tereza do oeste', 'campina das missoes', 'caibate', 'ritapolis', 'sao bonifacio', 'nova cantu', 'riacho de santana', 'pedreiras', 'ecoporanga', 'alagoa nova', 'chapada do norte', 'ouricuri', 'vicente dutra', 'palmares paulista', 'feliz natal', 'jequeri', 'erere', 'timbe do sul', 'urucania', 'capetinga', 'santana do mundau', 'adrianopolis', 'camocim de sao felix', 'california', 'mairi', 'barroso', 'centro novo do maranhao', 'werneck', 'santo expedito', 'toropi', 'goiandira', 'ubirata', 'arapora', 'galinhos', 'nova ipixuna', 'carneirinho', 'piao', 'riolandia', 'assuncao', 'antonina', 'dom macedo costa', 'divino de sao lourenco', 'simolandia', 'delmiro gouveia', 'nortelandia', 'concordia do para', 'augusto correa', 'bom principio', 'chapada', 'vigia', 'porto xavier', 'matutina', 'poco redondo', 'moju', 'areia branca', 'itatinga', 'alvaro de carvalho', 'sao jose do barreiro', 'varre-sai', 'dom vicoso', 'garibaldi', 'datas', 'bertopolis', 'antonio pereira', 'prados', 'irai de minas', 'candeal', 'filadelfia', 'quixelo', 'ariquemes', 'itapetim', 'presidente juscelino', 'alexandra', 'comendador levy gasparian', 'congonhinhas', 'barra do mendes', 'major vieira', 'coari', 'coronel joao sa', 'elisio medrado', 'silveira martins', 'itaguara', 'xambioa', 'nova trento', 'urucuia', 'monte santo de minas', 'nova olinda', 'pindoretama', 'ivai', 'mirandiba', 'capela', 'propria', 'sao benedito do rio preto', 'rubiataba', 'santaluz', 'itauba', 'riqueza', 'paraju', 'iracema', 'leandro ferreira', 'jacuipe', 'tres irmaos', 'mar vermelho', 'jaci', 'sape', 'ouro', 'corrego fundo', 'bom retiro', 'britania', 'retirolandia', 'patis', 'nazario', 'sebastiao leal', 'monte alegre de minas', \"estrela d'oeste\", 'ipigua', 'tunas do parana', 'oliveira dos brejinhos', 'maranhaozinho', 'boa vista da aparecida', 'colinas do tocantins', 'carpina', 'corumbatai', 'montezuma', 'jataizinho', 'marcelino vieira', 'sales', 'redencao do gurgueia', 'imaculada', 'jatauba', 'francisco dantas', 'boa ventura', 'sao jose da laje', 'abaiara', 'berilo', 'nova santa rita', 'pombal', 'ascurra', 'sabinopolis', 'sao domingos do maranhao', 'angustura', 'sao pedro do butia', 'atalanta', 'balneario rincao', 'iacri', 'miraguai', 'corrente', 'martinesia', 'palmitos', 'lagoa do ouro', 'prudencio thomaz', 'agrolandia', 'flora rica', 'confins', 'riachuelo', 'ametista do sul', 'serrania', 'moreno', 'ilha de itamaraca', 'cruzeiro da fortaleza', 'major porto', 'lebon regis', 'deputado irapuan pinheiro', 'boraceia', 'carai', 'ipueira', 'nonoai', 'ubirajara', 'porto ferreira', 'severinia', 'santo hipolito', 'catuipe', 'conceicao do formoso', 'santa quiteria', 'vila langaro', 'potirendaba', 'piranhas', 'silvano', 'vargem bonita', 'maioba', 'cachoeira de pajeu', 'esperanca', 'lagoa dos patos', 'umbauba', 'monte gordo', 'vicencia', 'santa maria de itabira', 'fonseca', 'senador pompeu', 'sao jose do serido', 'vargeao', 'arcoverde', 'onda verde', 'ipiranga do sul', 'jaboti', 'serranopolis', 'serra azul', 'sao joao das missoes', 'sao gabriel do oeste', 'itabera', 'carnaubal', 'carmo da cachoeira', 'buenopolis', 'imbe de minas', 'charqueada', 'uniao de minas', 'igarape', 'jardim olinda', 'santo antonio do canaa', 'rancho alegre', 'tracunhaem', 'sao miguel do guapore', 'santa cruz do piaui', 'anadia', 'saude', 'murutinga do sul', 'extremoz', 'salto do jacui', 'novo sao joaquim', 'pimenta', 'tacaratu', 'santo cristo', 'nova luzitania', 'sao luis do curu', 'ouro verde de goias', 'itapagipe', 'acajutiba', 'gameleira', 'reriutaba', 'anhembi', 'prado', 'itagimirim', 'rio novo do sul', 'sao goncalo do rio abaixo', 'turvo', 'palma', 'igarapava', 'florestopolis', 'garruchos', 'coracao de maria', 'paraibuna', 'santo antonio do amparo', 'conceicao do castelo', 'querencia', 'anhandui', 'borrazopolis', 'presidente lucena', 'pindobacu', 'sericita', 'meleiro', 'baldim', 'pio ix', 'pirauba', 'coremas', 'camanducaia', 'pastos bons', 'urania', 'recreio', 'cupira', 'aguas de santa barbara', 'sao jose da lapa', 'santo antonio do sudoeste', 'castro', 'guaraci', 'itapora', 'ouvidor', 'boa esperanca do iguacu', 'mari', 'ipubi', 'lupionopolis', 'pedro osorio', 'alexandria', 'joaquim nabuco', 'cariri do tocantins', 'lagoa da confusao', 'lambari', 'pocinhos', 'ruy barbosa', 'tailandia', 'estrela do norte', 'sao francisco de assis', 'porteirinha', 'caturama', 'agua branca', 'paripiranga', 'santa fe de goias', 'itaguacu', 'barra do turvo', 'alto alegre', 'alegria', 'itaguari', 'amaraji', 'espinosa', 'guinda', 'viseu', 'bras pires', 'sarapui', 'esmeralda', 'imbituva', 'pirapetinga', 'rianapolis', 'dom joaquim', 'icem', 'cristais', 'jandaira', 'nova olimpia', 'lontras', 'potim', 'antonio prado', 'igarape-miri', 'montadas', 'faxinal', 'catigua', 'guidoval', 'iraucuba', 'rodelas', 'santa terezinha de itaipu', 'alegrete do piaui', 'ibicarai', 'lourdes', 'merces', 'redentora', 'palestina', 'mauriti', 'alto taquari', 'santo antonio', 'miradouro', 'rio piracicaba', 'xambre', 'peixe', 'espigao alto do iguacu', 'canelinha', 'sao raimundo nonato', 'formigueiro', 'munhoz', 'abadia dos dourados', 'juru', 'luz', 'amparo da serra', 'pedra preta', 'campo alegre de lourdes', 'santa isabel do para', 'bonfinopolis de minas', 'cascalho rico', 'sao jose do cedro', 'mamanguape', 'sao domingos do prata', 'palmeiras de goias', 'tiangua', 'apora', 'cha grande', 'renascenca', 'poco de pedra', 'lagoa dos gatos', 'porangatu', 'palmeira dos indios', 'batalha', 'nazareno', 'jandaia', 'treviso', 'vereda', 'peabiru', 'sete de setembro', 'boa viagem', 'pedra', 'prudentopolis', 'sao clemente', 'guarei', 'santa cecilia do pavao', 'ipiau', 'paranatinga', 'jacui', 'piau', 'catu', 'eliseu martins', 'igreja nova', 'ibimirim', 'maragogipe', 'salto grande', 'altamira do parana', 'acopiara', 'roncador', 'cotegipe', 'pinhotiba', 'pindorama', 'mombuca', 'salgado filho', 'ilopolis', 'presidente alves', 'divinesia', 'guassusse', 'cabeceiras', 'alto rio doce', 'santa maria do suacui', 'camacan', 'ubata', 'doverlandia', 'urutai', 'sao joao batista', 'ipaumirim', 'guabiju', 'serranopolis do iguacu', 'paracuru', 'penaforte', 'satubinha', 'benevides', 'cristalia', \"conquista d'oeste\", 'pinhao', 'dona francisca', 'campos belos', 'avelino lopes', 'alexania', 'alto garcas', 'restinga seca', 'tapes', 'ilhota', 'santa cecilia', 'milha', 'augustinopolis', 'santa cruz de monte castelo', 'monte alverne', 'guaraniacu', 'itirapina', 'tiros', 'couto de magalhaes', 'jabora', 'ubaporanga', 'santo eduardo', 'monte verde', 'grajau', 'miguel calmon', 'barrolandia', 'nova mamore', 'alto rio novo', 'cumari', 'cruzeiro do oeste', 'correntina', 'ipu', 'pongai', 'felicio dos santos', 'leoberto leal', 'ibitira', 'monte formoso', 'capim branco', 'capanema', 'correia pinto', 'campestre', 'campos borges', 'piacabucu', 'pesqueira', 'porto trombetas', 'serra branca', 'sao jorge do patrocinio', 'porciuncula', 'cacule', 'sao jose do ribeirao', 'espirito santo do pinhal', 'alcantara', 'laranjal do jari', 'sao martinho', 'padre carvalho', 'mata', 'indianopolis', 'braganca', 'cacu', 'bonfinopolis', 'vargem grande do soturno', 'ponte serrada', 'ladainha', 'cocal do sul', 'caxambu do sul', 'jacigua', 'pau dos ferros', 'itamira', 'paraiso do norte', 'domingos martins', 'braunas', 'tocos', 'porto belo', 'bayeux', 'santa juliana', 'silvianopolis', 'monte alegre', 'alianca', 'leopolis', 'cacimbinhas', 'pirenopolis', 'itajuipe', 'glicerio', 'bonfim', 'crisopolis', 'minas novas', 'guapiacu', 'rio negrinho', 'bento de abreu', 'careacu', 'santana do livramento', 'piquete', 'belmonte', 'vila pereira', 'nova esperanca do sul', 'pinheiro machado', 'agua clara', 'pimenta bueno', 'dores do indaia', 'piedade de caratinga', 'sousa', 'barra de sao francisco', 'condor', 'ielmo marinho', 'cambuquira', 'bom jardim de minas', 'quipapa', 'morada nova de minas', 'alta floresta', 'horizontina', 'tuparendi', 'novo oriente do piaui', 'guaraciaba do norte', 'gramado dos loureiros', 'macieira', 'urucui', 'lucelia', 'sumidouro', 'bacaxa', 'antonio prado de minas', 'vargem alegre', 'jaru', 'santa gertrudes', 'porangaba', 'paranhos', 'morada nova', 'corumba de goias', 'paraipaba', 'mangueirinha', 'nossa senhora das gracas', 'uaua', 'jesupolis', 'verissimo', 'santa cruz cabralia', 'mambore', 'lamarao', 'ivaipora', 'anta', 'coromandel', 'custodia', 'fazenda vilanova', 'quijingue', 'massaranduba', 'riachao das neves', 'bodo', 'alto boa vista', 'santo estevao', 'catarina', 'pontao', 'itaquirai', 'santa cruz de salinas', 'tamarana', 'macedonia', 'canavieiras', 'estrela', 'apiai', 'chaveslandia', 'inaciolandia', 'douradina', 'taquarituba', 'cachoeira dourada', 'tres barras', 'sao joao do triunfo', 'querencia do norte', 'otacilio costa', 'senhor do bonfim', 'nova aurora', 'sao joao do manteninha', 'sertao santana', 'colombia', \"olho d'agua das cunhas\", 'sao tiago', 'mateus leme', 'capela do alto', 'coruripe', 'aguas lindas de goias', 'canaa', 'caninde', 'bofete', 'bela vista do maranhao', 'magalhaes de almeida', 'cristopolis', 'sao jose da vitoria', 'vera cruz do oeste', 'sabino', 'redencao da serra', 'araripina', 'nipoa', 'vazante', 'ibira', 'quissama', 'gouveia', 'tabocas do brejo velho', 'sao miguel do tapuio', 'pedro afonso', 'jacareacanga', 'guacui', 'luisburgo', 'periquito', 'abaira', 'governador portela', 'vespasiano correa', 'feliz deserto', 'tenente portela', 'monnerat', 'jeriquara', 'tanhacu', 'miraima', 'portalegre', 'campos altos', 'denise', 'rubiacea', 'balsa nova', 'itirucu', 'iacanga', 'sao roque de minas', \"machadinho d'oeste\", 'aguas vermelhas', 'varjota', 'humaita', 'itapiranga', 'pedro ii', 'luiziana', 'iuna', 'francisco dumont', 'russas', \"sao jorge d'oeste\", 'pugmil', 'dezesseis de novembro', 'alvares machado', 'eugenopolis', 'milagres', 'uirauna', 'goiabeira', 'varzea da palma', 'itaitinga', 'sao jose do norte', 'bocaina', 'alto araguaia', 'iguaracu', 'saltinho', 'carius', 'anguera', 'botelhos', 'cacequi', 'catas altas', 'cocalinho', 'varjao de minas', 'maravilhas', 'pirajuba', 'barao ataliba nogueira', 'itapuranga', 'campos de julio', 'rio negro', 'cassia', 'passira', 'varzelandia', 'ibiracu', 'itapaci', 'palmitinho', 'itaiopolis', 'sao jose de uba', 'sertanopolis', 'quatigua', 'catende', 'uruana', 'ajapi', 'quevedos', 'butia', 'campo alegre', 'crominia', 'baixo guandu', 'laranjal', 'maracas', 'xinguara', 'aluminio', 'buritirama', 'arroio do sal', 'flores', 'juruti', 'goianapolis', 'tapiramuta', 'panorama', 'nova veneza', 'parnarama', 'crixas', 'iepe', 'baguari', 'trabiju', 'vista alegre do alto', 'bueno brandao', 'boqueirao do leao', 'barra de santa rosa', 'manga', 'jari', 'rio de contas', 'tapejara', 'alvorada do norte', 'acaiaca', 'candoi', 'mata de sao joao', 'barao de cotegipe', 'guairaca', 'itacarambi', 'guadalupe', 'iguatama', 'pau brasil', 'tururu', 'santa teresinha', 'ibarama', 'floresta', 'ouroeste', 'joao ramalho', 'ararica', 'lucena', 'ribeira do pombal', 'santana do cariri', 'ilicinea', 'indiapora', 'colorado', 'nova ubirata', 'itaju', 'ibiai', 'banzae', 'icapui', 'inacio martins', 'pedras de fogo', 'conceicao das alagoas', 'marilandia', 'sanclerlandia', 'itabela', 'jaborandi', 'ipaba', 'dois irmaos do buriti', 'itiquira', 'arvorezinha', 'rio do antonio', 'neropolis', 'iraquara', 'janiopolis', 'arealva', 'caldas', 'coronel joao pessoa', 'tumiritinga', 'mato leitao', 'cerro grande do sul', 'sede alvorada', 'quatro bocas', 'piracema', 'papagaios', 'gloria do goita', 'luiz alves', 'santa rita de minas', 'munhoz de melo', 'guaranta', 'camacho', 'ribeira do amparo', 'santana do serido', 'jaua', 'coroata', 'delfim moreira', 'utinga', 'ceara-mirim', 'porteiras', 'goncalves', 'tabapora', 'cruz machado', 'abaete', 'fernando prestes', 'ladario', 'sao domingos das dores', 'curuca', 'morungaba', 'gastao vidigal', 'ribeirao do pinhal', 'palminopolis', 'sertania', 'mariental', 'canudos', 'hidrolandia', 'seabra', 'pedra menina', 'belo jardim', 'ribeirao bonito', 'pentecoste', 'bom jesus das selvas', 'caiana', \"lagoa d'anta\", 'palmeiras', 'itamarandiba', 'alambari', 'ibitiuva', 'fazenda nova', 'tapinas', 'santana do manhuacu', 'caldeirao grande', 'fortim', 'irupi', \"tanque d'arca\", 'valente', 'ponta pora', 'escada', 'ribeiraozinho', 'terenos', 'pantano grande', 'aguas de sao pedro', 'una', 'senador la rocque', 'conceicao do jacuipe', 'altonia', 'formoso', 'rancho queimado', 'campanha', 'fruta de leite', 'peritiba', 'juina', 'holambra', 'pains', 'aquidauana', 'alto do rodrigues', 'sao jose do belmonte', 'jacaraci', 'caparao', 'itabatan', 'estancia', 'figueira', 'graccho cardoso', 'cidade gaucha', 'brejo', 'adolfo', 'nova petropolis', 'roque gonzales', 'tibagi', 'bituruna', 'sao jose do campestre', 'sirinhaem', 'miracatu', 'fervedouro', 'itaporanga', 'dores do rio preto', 'mutuipe', 'sao sebastiao do passe', 'kalore', 'santa cruz da conceicao', 'sao patricio', 'camaqua', 'corguinho', 'ibia', 'oros', 'vermelho novo', 'conde', 'ataleia', 'sitio novo', 'estreito', 'conceicao de macabu', 'sao joao do manhuacu', 'piata', 'candido sales', 'marataizes', 'rio do oeste', 'ilha dos valadares', 'sao tome', 'peixoto de azevedo', 'pirai do norte', 'areia branca dos assis', 'eldorado do sul', 'antonio martins', 'barra', 'maragogi', 'tacuru', 'jardim alegre', 'salmourao', 'espirito santo do turvo', 'capitao poco', 'claro dos pocoes', 'cafeara', 'barros cassal', 'joviania', 'guapirama', 'brasileia', 'resende costa', 'cabralia paulista', 'cajuru', 'araguana', 'pimenteiras', 'ipiacu', 'realeza', 'pitangueiras', 'santa cruz de minas', 'itanhandu', 'sao joao evangelista', 'luminarias', 'sao sepe', 'setubinha', 'iconha', 'varzea nova', 'riachao do jacuipe', 'caiua', 'palma sola', 'serra negra', 'morro da garca', 'alcobaca', 'lunardelli', 'penedo', 'guarai', 'pedra azul', 'tombos', 'diamantino', 'rio bananal', 'ferreiros', 'rafard', 'rodolfo fernandes', 'sao jose do ouro', 'jaciara', 'jeremoabo', 'raul soares', 'itambacuri', 'nova crixas', 'mutum parana', 'sao pedro de alcantara', 'nazare', 'ico', 'espera feliz', 'cerro largo', 'pacuja', 'miranorte', 'mucurici', 'nova europa', 'timburi', 'jardinopolis', 'colonia vitoria', 'porto murtinho', 'solonopole', 'abre campo', 'cezarina', 'xavantina', 'itaju do colonia', 'assare', 'garuva', 'feira nova', 'igaracu do tiete', 'umburanas', 'auriflama', 'itueta', 'guaranta do norte', 'paraibano', 'altinho', 'itapicuru', 'inhauma', 'atalaia', 'jambeiro', 'itape', 'bom conselho', 'pereiro', 'pariquera-acu', 'sao miguel dos campos', 'sao jose do cerrito', 'pilar', 'nova america', 'gravatal', 'iati', 'aparecida de sao manuel', 'coribe', 'sao sebastiao da grama', 'trairi', 'gameleiras', 'entre-ijuis', 'alfredo chaves', 'picarras', 'aracoiaba da serra', 'rio brilhante', 'jaguaruana', 'sao roque do canaa', 'santa fe', 'mostardas', 'biritiba-mirim', 'pendencias', 'paulo frontin', 'balneario barra do sul', 'alto jequitiba', 'planaltina de goias', 'castro alves', 'itaquitinga', 'comodoro', 'itau', 'barracao', 'floresta do araguaia', 'pontes e lacerda', 'silvania', 'caldas brandao', 'desterro de entre rios', 'romaria', 'conceicao da barra', 'itaguaje', 'alto caparao', 'capitao leonidas marques', 'matozinhos', 'itarema', 'ipumirim', 'campos novos', 'missal', 'serra talhada', 'sao francisco do sul', 'barra da estiva', 'dom basilio', 'presidente dutra', 'itatiaiucu', 'rio preto', 'rio branco do sul', 'aguai', 'poco verde', 'dom eliseu', 'bandeira', 'urbano santos', 'cantagalo', 'guamiranga', 'esmeraldas', 'goianinha', 'tabatinga', 'italva', 'conceicao do rio verde', 'carmesia', \"santa rita d'oeste\", 'delfinopolis', 'caetanos', 'mogi-mirim', 'marco', 'farroupilha', 'irece', 'guabiruba', 'pompeia', 'chapadao do lageado', 'paraiso do tocantins', 'icaraima', 'matias olimpio', 'camocim', 'jose bonifacio', 'manoel ribas', 'campo do meio', 'alto paraiso de goias', 'sao joao', 'caem', 'rubim', 'congonhal', 'nova palma', 'paula freitas', 'bicas', 'quilombo', 'pauliceia', 'mirante do paranapanema', 'sonora', 'miguelopolis', 'monte siao', 'celso ramos', 'tavares', 'sao miguel do cambui', 'arandu', 'elias fausto', 'sooretama', 'candido rodrigues', 'buri', 'coronel macedo', 'inhapim', 'visconde de maua', 'igrejinha', 'petrolandia', 'anchieta', 'aragarcas', 'cachoeira de minas', 'arantina', 'joao pinheiro', 'mantenopolis', 'icatu', 'ipiranga', 'senhora de oliveira', 'pinto bandeira', 'arataca', 'reserva do cabacal', 'teixeira soares', 'novo horizonte', 'monte alegre do sul', 'garopaba', 'sangao', 'caibi', 'campina grande do sul', 'pojuca', 'materlandia', 'quirinopolis', 'loreto', 'riacho dos machados', 'garrafao do norte', 'alto santo', 'morro agudo', 'sao simao', 'engenheiro coelho', 'mirai', 'ibipora', 'dom cavati', 'balneario arroio do silva', 'corinto', 'chapadinha', 'lagoa vermelha', 'conceicao do mato dentro', 'tupi paulista', 'dona emma', 'aiuaba', 'jandaia do sul', 'piratuba', 'mariluz', 'sao luis de montes belos', 'hidreletrica tucurui', 'terra boa', 'salesopolis', 'catole do rocha', 'crucilandia', 'sapucai-mirim', 'embauba', 'itau de minas', 'nova alvorada', 'carutapera', 'ceres', 'planura', 'rio bonito', 'mineiros do tiete', 'guarda-mor', 'teodoro sampaio', 'sao jose de ribamar', 'ivoti', 'jaguaribe', 'morro do pilar', 'santo antonio do jacinto', 'belo vale', 'sao felipe', 'mucambo', 'paranapoema', 'rio azul', 'ipanema', 'rio paranaiba', 'itiuba', 'rolante', 'vitorinos', 'mozarlandia', 'ventania', 'itamari', 'breu branco', 'nova xavantina', 'ribeira', 'brasopolis', 'palmeira', 'nova santa barbara', 'itororo', 'flor da serra do sul', 'guapo', 'janauba', 'passa tres', 'serrita', 'tanabi', 'medeiros neto', 'rio real', 'igarata', 'padre bernardo', 'jaguare', 'clementina', 'esplanada', 'presidente kubitschek', 'jardim do serido', 'carrancas', 'trindade do sul', 'sento se', 'lagoa nova', 'ponto novo', 'rondon do para', 'ibiam', 'sao joao de iracema', 'igaci', 'francisco badaro', 'sao luis do paraitinga', 'jacunda', 'pedralva', 'itaituba', 'rio tinto', 'altos', 'araponga', 'porto real', 'tejupa', 'campina do monte alegre', 'picui', 'alcinopolis', 'martinho campos', 'rosana', 'ibaiti', 'picada cafe', 'atilio vivacqua', 'santo antonio de jesus', 'aracoiaba', 'jardim', 'erebango', 'bady bassitt', 'pejucara', 'abreu e lima', 'uchoa', 'conceicao dos ouros', 'mandaguacu', 'lago da pedra', 'itapecuru mirim', 'irati', 'alagoinha', 'bezerros', 'santo antonio da platina', 'entre rios do oeste', 'nova santa rosa', 'capao do leao', 'santa mariana', 'coracao de jesus', 'sao benedito', 'iaciara', 'quatis', 'cruzalia', 'aripuana', 'parati', 'corrego do ouro', 'bom sucesso', 'nova fatima', 'coqueiro baixo', 'bom jardim de goias', 'caxingo', 'almenara', 'forquilhinha', 'afonso claudio', 'presidente getulio', 'pradopolis', 'cajazeiras', 'araripe', 'terra de areia', 'santo amaro de campos', 'general carneiro', 'currais novos', 'santana de pirapama', 'santa maria da boa vista', 'sanharo', 'urupes', 'roca sales', 'caiaponia', 'jaquirana', 'ibirama', 'olindina', 'joanopolis', 'joao alfredo', 'santa lucia', 'magda', 'mario campos', 'piedade do rio grande', 'nossa senhora de caravaggio', 'vila muriqui', 'irani', 'guararapes', 'pires do rio', 'campos sales', 'canarana', 'mata verde', 'montanha', 'novo itacolomi', 'acreuna', 'juripiranga', 'itatiba do sul', 'dobrada', 'pitanga de estrada', 'castelo', 'goianira', 'braco do norte', 'curiuva', 'estancia velha', 'resplendor', 'nova esperanca', 'palmares', 'itaguaru', 'itagi', 'novo alegre', 'ipero', 'monteiro lobato', 'maquine', 'imbuia', 'jaiba', 'cairu', 'buritis', 'barro alto', 'ipupiara', 'avanhandava', 'ararangua', 'santo antonio do pinhal', 'ze doca', 'lobato', 'erval grande', 'eusebio', 'sao goncalo do abaete', 'capistrano', 'balsamo', 'taua', 'sao sebastiao do alto', 'jesuania', 'divinolandia de minas', 'araquari', 'grao mogol', 'colonia castrolanda', 'nova era', 'boa vista do gurupi', 'candiota', 'toritama', 'nova redencao', 'sacramento', 'madre de deus', 'lavras do sul', 'guaratuba', 'santa maria do herval', 'vargem alta', 'fronteira', 'varzea alegre', 'pontal do parana', 'capivari de baixo', 'taquari', 'itapitanga', 'tapiratiba', 'paraguacu', 'pitimbu', 'dois vizinhos', 'primavera', 'vitoria de santo antao', 'itapura', 'coluna', 'pedra lavrada', 'monte azul', 'paranapanema', 'bandeirantes', 'triunfo', 'videira', 'ribeirao vermelho', 'arari', 'brejo do cruz', 'acarau', 'virgolandia', 'barbalha', 'itapemirim', 'guarara', 'carire', 'quatro pontes', 'candido mota', 'diamante do norte', 'guara', 'aguia branca', 'capinzal', 'lajeado grande', 'itapipoca', 'coreau', 'icara', 'matias barbosa', 'pecanha', 'senador amaral', 'urussanga', 'groairas', 'ubaitaba', 'edeia', 'buritama', 'cacoal', 'rosario do sul', 'alto piquiri', 'formoso do araguaia', 'pescador', 'bocaiuva do sul', 'presidente medici', 'paraiba do sul', 'catalao', 'presidente nereu', 'ibiraci', 'alpestre', 'alegre', 'conceicao da aparecida', 'alegrete', 'goitacazes', 'brauna', 'juruena', 'pombos', 'seringueiras', 'rio largo', 'paraguacu paulista', 'itapissuma', 'cruz alta', 'teolandia', 'bela vista do paraiso', 'jesuitas', 'cardoso moreira', 'assis chateaubriand', 'espigao do oeste', 'guanhaes', 'moreira sales', 'soledade', 'vale real', 'marituba', 'juruaia', 'parambu', 'ortigueira', 'julio mesquita', 'perdoes', 'papucaia', 'posse', 'rechan', 'itatiaia', 'mundo novo', 'maristela', 'juatuba', 'nucleo residencial pilar', 'ivinhema', 'nova andradina', 'marechal candido rondon', 'rio acima', 'pirapora do bom jesus', 'rinopolis', 'timon', 'alpinopolis', 'bom jesus', 'macatuba', 'malacacheta', 'caputira', 'nova resende', 'santa maria de jetiba', 'tapirai', 'sao francisco de itabapoana', 'lima duarte', 'regente feijo', 'jequia da praia', 'bandeira do sul', 'duartina', 'ibitiara', 'itajobi', 'tabira', 'ibicuitinga', 'termas de ibira', 'arapoti', 'andradas', 'brasil novo', 'itariri', 'colonia jordaozinho', 'vila reis', 'sao sebastiao do cai', 'cordeiropolis', 'rio bonito do iguacu', 'piedade', 'malhador', 'queimadas', 'pien', 'varzea do poco', 'campo ere', 'itaberaba', 'guarani', 'regeneracao', 'conceicao do araguaia', 'salgueiro', 'sao joao de pirabas', 'guaracai', 'baixa grande', 'itarantim', 'cerro negro', 'caarapo', 'nova prata', 'passos maia', 'maurilandia', 'borda da mata', 'japura', 'lupercio', 'matrincha', 'tocantinopolis', \"mirassol d'oeste\", 'rio do pires', 'simonesia', 'remanso', 'rio pardo', 'ervalia', 'pirapemas', 'itacurussa', 'planaltina', 'santa rita do sapucai', 'itaqui', 'porto alegre do norte', 'schroeder', 'piranga', 'panambi', 'nova hartz', 'nossa senhora do remedio', 'rio do sul', 'santo antonio de padua', 'sao valentim', 'sao romao', 'americo de campos', 'itaipulandia', 'nobres', 'madre de deus de minas', 'acailandia', 'lindoia', 'santana do paraiso', 'timbo', 'pereiras', 'piumhi', 'jaguariaiva', 'trajano de moraes', 'cururupu', 'vicentina', 'parauna', 'orleans', 'itacare', 'treze tilias', 'castanheira', 'tome-acu', 'muzambinho', 'ichu', 'ipixuna do para', 'dom aquino', 'santanesia', 'capinzal do norte', 'herculandia', 'berizal', 'capim grosso', 'japira', 'sao francisco de paula', 'tamboara', 'guaraciaba', 'carandai', 'itobi', 'senador canedo', 'feliz', 'terra rica', 'armacao dos buzios', 'sao joao dos patos', 'santo amaro da imperatriz', 'abare', 'goianesia do para', 'nova russas', 'barra de guabiraba', 'curaca', 'amambai', 'sao joao da barra', 'camboriu', 'horizonte', 'alterosa', 'bacabal', 'piraquara', 'sao pedro', 'torrinha', 'alvares florence', 'sao pedro da aldeia', 'agua preta', 'paty do alferes', 'junco do serido', 'santa cruz do capibaribe', 'casimiro de abreu', 'serrana', 'jacutinga', 'barra do choca', 'lagoa grande', 'guaratinga', 'cedral', 'jampruca', 'arapua', 'lauro muller', 'arroio dos ratos', 'formiga', 'urandi', 'sao luiz gonzaga', 'ilheus', 'colinas', 'carajas', 'sao luiz do norte', 'sao marcos', 'borborema', 'paracatu', 'rosario do ivai', 'chapadao do ceu', 'guajara-mirim', 'ita', 'sao domingos', 'itambaraca', 'ampere', 'mossoro', 'cassia dos coqueiros', 'quata', 'alvarenga', 'nova prata do iguacu', 'raposo', 'santa helena de goias', 'ibiraja', 'mineiros', 'passos', 'sud mennucci', 'neves paulista', 'echapora', 'orizona', 'estrela do indaia', 'cocal', 'ipe', 'bananal', 'aguas formosas', 'francisco beltrao', 'maximiliano de almeida', 'tarabai', 'tres fronteiras', 'sao jose do hortencio', 'anitapolis', 'porto uniao', 'cosmorama', 'arame', 'casca', 'perdizes', 'ipira', 'santo antonio do aventureiro', 'jequitinhonha', 'cordeiro', 'bom jesus dos perdoes', 'quadra', 'martins soares', 'rio pardo de minas', 'itaborai', 'encruzilhada do sul', 'tucano', 'centenario', 'vitoria do mearim', 'rolandia', 'sao jose do rio pardo', 'pirai', 'tres lagoas', 'santa cruz', 'boa vista do burica', 'piraju', 'tres cachoeiras', 'mallet', 'fatima', 'sao pedro dos ferros', 'dom pedro', 'soledade de minas', 'morro reuter', 'divinolandia', 'chavantes', 'ibotirama', 'novo cruzeiro', 'batatais', 'mariapolis', 'cambuci', 'chapada gaucha', 'serra dourada', 'guapore', 'sao jose dos quatro marcos', 'entre rios', 'simoes filho', 'paramirim', 'itanhanga', 'jijoca de jericoacoara', 'caete', 'floriano', 'meridiano', 'brazopolis', 'presidente tancredo neves', 'pedra branca', 'corbelia', 'minas do leao', 'aguas da prata', 'fortuna', 'capao bonito', 'nova londrina', 'araujos', 'angatuba', 'santa maria da serra', 'cabreuva', 'flores da cunha', 'jaguaruna', 'caetanopolis', 'itaobim', 'araputanga', 'mandaguari', 'aguas de lindoia', 'agudos', 'medina', 'barra do ribeiro', 'tabapua', 'muqui', 'virginopolis', 'pedro de toledo', 'faxinal dos guedes', 'santa vitoria do palmar', 'alagoinhas', 'andrelandia', 'fundao', 'goiatuba', 'aimores', 'ji-parana', 'quarai', 'goianesia', 'capitolio', 'barra bonita', 'indiara', 'cananeia', 'seberi', 'mar de espanha', 'areado', 'umuarama', 'jacinto machado', 'nossa senhora do o', 'cesario lange', 'araguari', 'caraiba', 'timbauba', 'baependi', 'crateus', 'sobradinho', 'ipameri', 'ceu azul', 'bom jesus do itabapoana', 'venda nova do imigrante', 'livramento', 'mirandopolis', 'jequie', 'frutal', 'piritiba', 'pontal', 'araruna', 'palmital de minas', 'lapa', 'chapadao do sul', 'olinda', 'perdigao', 'juquia', 'santana', 'senges', 'socorro', 'santana da boa vista', 'tres de maio', 'anita garibaldi', 'urupa', 'sao luis do quitunde', 'guapiara', 'sideropolis', 'eloi mendes', 'taquaritinga', 'campo belo', 'cornelio procopio', 'leme', 'manoel urbano', 'fraiburgo', 'arceburgo', 'sete barras', 'itabirito', 'jales', 'aparecida do taboado', 'itaguai', 'jundiai do sul', 'sao geraldo', 'sao felix do xingu', 'capelinha', 'corupa', 'canaa dos carajas', 'campina verde', 'paraty', 'barbosa ferraz', 'coaraci', 'guararema', 'juazeiro do norte', 'paranaiguara', 'cumaru', 'tres passos', 'colider', 'chapada dos guimaraes', 'paulista', 'sao goncalo do amarante', 'conchas', 'pote', 'paraisopolis', 'maracai', 'monte carlo', 'miracema', 'guaruja do sul', 'arinos', 'guarabira', 'cicero dantas', 'ibiassuce', 'sao lourenco da serra', 'salto de pirapora', 'santo antonio do monte', 'sao joaquim', 'portao', 'canitar', 'itabaiana', 'capivari', 'pindorama do tocantins', 'itarana', 'pereira barreto', 'arroio do tigre', 'carbonita', 'cacapava do sul', 'colina', 'ituverava', 'bocaiuva', 'andira', 'campos do jordao', 'barrinha', 'floreal', 'cruz', 'chopinzinho', 'sao miguel do oeste', 'esperantinopolis', 'jacarezinho', 'centenario do sul', 'santa maria madalena', 'almirante tamandare', 'sao miguel arcanjo', 'jardim abc de goias', 'casa branca', 'santo antonio da patrulha', 'porecatu', 'morro do chapeu', 'sarzedo', 'bom jesus do norte', 'cabrobo', 'nova venecia', 'holambra ii', 'fartura', 'valenca do piaui', 'sao bento', 'monte belo', 'arroio grande', 'varzea grande', 'sao sebastiao do paraiso', 'santa rosa do sul', 'patos', 'frei inocencio', 'ilha solteira', 'santa rita do araguaia', 'ouro fino', 'bilac', 'barcarena', 'barra do garcas', 'manhumirim', 'aruana', 'capivari do sul', 'abelardo luz', 'sao gabriel', 'martins', \"sao joao d'alianca\", 'pacaja', 'mutum', 'espumoso', 'ituporanga', 'tunapolis', 'pacaembu', 'afogados da ingazeira', 'paraiso', 'oeiras', 'sao borja', 'vila flor', 'boituva', 'divino', 'balneario gaivota', 'tremembe', 'lagoa', 'campo alegre de goias', 'pirapozinho', 'igarassu', 'apiuna', 'senador firmino', 'aparecida', 'sapucaia', 'piuma', 'rio manso', 'barao de cocais', 'montauri', 'cabo verde', 'aperibe', 'arcos', 'guaranesia', 'rio verde', 'sao cristovao', 'bacuri', 'sapezal', 'engenheiro paulo de frontin', 'indiana', 'tutoia', 'limoeiro do norte', 'xapuri', 'fazenda rio grande', 'jacobina', 'mirassol', 'aurora', 'nova erechim', 'laranjal paulista', 'cataguases', 'dianopolis', 'viradouro', 'ronda alta', 'sidrolandia', 'itaperuna', 'girua', 'ingai', 'eunapolis', 'navirai', 'lucas do rio verde', 'sales oliveira', 'sao joao do piaui', 'tres coracoes', 'brejo santo', 'caxambu', 'gurupi', 'terra roxa', 'caucaia', 'nao-me-toque', 'garca', 'sinop', 'cachoeira paulista', 'santa fe do sul', 'mogi mirim', 'montividiu do norte', 'rio maria', 'bambui', 'medicilandia', 'jaguarao', 'bom jesus da lapa', 'rio grande da serra', 'cortes', 'ipora', 'buerarema', 'volta grande', 'mara rosa', 'maracacume', 'ipua', 'dourado', 'conceicao do coite', 'planalto', 'castanhal', 'maraba', 'santo antonio de posse', 'paranaita', 'pederneiras', 'japuiba', 'siqueira campos', 'tangua', 'xangri-la', 'barra de sao joao', 'uruara', 'quatro barras', 'ipueiras', 'santa cruz do rio pardo', 'gloria de dourados', 'avelar', 'campinorte', 'marmeleiro', 'brotas', 'abaetetuba', 'valparaiso', 'paranagua', 'guaira', 'passo de torres', 'gaurama', 'cunha pora', 'brasilia de minas', 'cunha', 'tabuleiro do norte', 'ananindeua', 'carmolandia', 'cajobi', 'potiragua', 'taiobeiras', 'teixeiras', 'vera cruz', 'lauro de freitas', 'lagarto', 'nepomuceno', 'florida paulista', 'laurentino', 'codo', 'luzilandia', 'jaguariuna', 'nova granada', 'tabuleiro', 'belo oriente', 'papanduva', 'boa esperanca do sul', 'presidente epitacio', 'ibicoara', 'itapui', 'joao dourado', 'gaviao peixoto', 'sao gabriel da palha', 'ipora do oeste', 'anicuns', 'campina grande', 'piracanjuba', 'carmo do rio claro', 'parnaiba', 'campo limpo paulista', 'cravinhos', 'tanque novo', 'novo gama', 'nanuque', 'balneario picarras', 'santa rosa', 'penapolis', 'tambau', 'manoel viana', 'irineopolis', 'francisco sa', 'lorena', 'olimpia', 'aurea', 'chapeco', 'silva jardim', 'caetite', 'curvelo', 'sao mateus', 'astolfo dutra', 'santa ines', 'santa isabel do rio preto', \"olho d'agua das flores\", 'cambara', 'jauru', 'ribeirao claro', 'embu-guacu', 'missao velha', \"perola d'oeste\", 'belo campo', 'medianeira', 'presidente olegario', 'herveiras', 'campo maior', 'porto amazonas', 'louveira', 'fernandopolis', 'campo largo', 'ourem', 'piripiri', 'mairinque', 'vitorino freire', 'caldas novas', 'coronel vivida', 'goias', 'novo barreiro', 'jaragua', 'uruguaiana', 'casa nova', \"itapejara d'oeste\", 'santo antonio do jardim', 'novo progresso', 'cuite', 'jacare', 'liberato salzano', 'sao lourenco do oeste', 'guaramirim', 'botucatu', 'jucurutu', 'santa adelia', 'frecheirinha', 'victor graeff', 'cachoeira alta', 'california da barra', 'teofilo otoni', 'santo amaro', 'avare', 'dracena', 'paranavai', 'santo antonio do planalto', 'jose de freitas', 'porto calvo', 'araci', 'fronteiras', 'rio do campo', 'tres marias', 'lajeado', 'santo antonio da alegria', 'santo inacio', 'boa vista', 'passa quatro', 'sertaozinho', 'balneario pinhal', 'concordia', 'encantado', 'trancoso', 'santos dumont', 'david canabarro', 'jatai', 'cruz das almas', 'cabo de santo agostinho', 'maracaju', 'tangara', 'sao joao nepomuceno', 'jaguapita', 'amparo', 'analandia', 'conchal', 'nhandeara', 'januaria', 'guaicara', \"dias d'avila\", 'alvinopolis', 'coxim', 'tatui', 'ponte nova', 'messias targino', 'cerqueira cesar', 'curral de cima', 'orlandia', 'tupancireta', 'trombas', 'registro', 'santarem', 'bataypora', 'sume', 'visconde do rio branco', 'laguna', 'pinheiros', 'paulo de faria', 'uniao da vitoria', 'itapecerica', 'rio das pedras', 'forquilha', 'venancio aires', 'cameta', 'xanxere', 'itamaraju', 'capinopolis', 'santa barbara', 'imbituba', 'palhoca', 'cassilandia', 'toledo', 'campinas do sul', 'ipojuca', 'santa rosa de viterbo', 'brumado', 'mimoso do sul', 'sao ludgero', 'matinhos', 'paco do lumiar', 'adamantina', 'dom pedrito', 'pio xii', 'lagoa santa', 'primavera do leste', 'sao jose dos pinhais', 'marcos parente', 'altamira', 'sao gotardo', 'sao goncalo do sapucai', 'cachoeiro de itapemirim', 'tres coroas', 'pinheiro', 'birigui', 'travessao', 'bastos', 'carolina', 'carmo do paranaiba', 'caratinga', 'itaperucu', 'santa rita do passa quatro', 'mata grande', 'valparaiso de goias', 'cansancao', 'ribeirao das neves', 'machado', 'itapirapua paulista', 'senador modestino goncalves', 'sao jose da barra', 'sao vicente ferrer', 'venturosa', 'mantena', 'quixeramobim', 'poxoreu', 'altinopolis', 'estiva gerbi', 'itupeva', 'santa isabel do ivai', 'colombo', 'juazeiro', 'santo antonio do leste', 'paracambi', 'vicentinopolis', 'calmon', 'itamonte', 'ubatuba', 'santana do acarau', 'itabuna', 'ouro preto', 'barretos', 'parobe', 'tangara da serra', 'monte carmelo', 'balsas', 'piracaia', 'ouro branco', 'lencois paulista', 'monte alto', 'laranja da terra', 'santa cruz de goias', 'caico', 'tucurui', 'nova bassano', 'lajedo', 'araxa', 'montanhas', 'maua da serra', 'picos', 'morro da fumaca', 'iguape', 'nova odessa', 'agua boa', 'garanhuns', 'canoinhas', 'cidelandia', 'rodeio', 'narandiba', 'acegua', 'caninde de sao francisco', 'iguaba grande', 'andradina', 'caceres', 'pomerode', 'gaspar', 'sao bento do sul', 'turmalina', 'santa helena', 'tiete', 'caconde', 'manhuacu', 'correntes', 'vera', 'coroados', 'pirajui', 'sao francisco', 'maravilha', 'pedra bela', 'cianorte', 'patrocinio paulista', 'sao lourenco do sul', 'esperantina', 'tijucas', 'pires ferreira', 'pilar do sul', 'areiopolis', 'valenca', 'pocrane', 'assai', 'taquara', 'wenceslau guimaraes', 'piquerobi', 'pedrinhas paulista', 'vargem grande do sul', 'sao domingos do norte', 'macapa', 'passo de camaragibe', 'ourilandia do norte', 'itajai', 'martinopolis', 'vinhedo', 'mococa', 'itumbiara', 'loanda', 'itapetinga', 'congonhas', 'buritizeiro', 'rio branco', 'marques de souza', 'paulo afonso', 'general maynard', 'mariana', 'cerrito', 'bom despacho', 'tres pontas', 'manduri', 'canela', 'rancharia', 'nossa senhora do socorro', 'claudio', 'serra dos aimores', 'catanduva', 'palmeira das missoes', 'piumhii', 'brumadinho', 'turvania', 'jucurucu', 'parauapebas', 'quedas do iguacu', 'catanduvas', 'santa isabel', 'santo augusto', 'candido de abreu', 'felisburgo', 'alto parana', 'aguas belas', 'santa cruz do sul', 'dores de campos', 'porto nacional', 'estiva', 'osorio', 'dom feliciano', 'serro', 'piranguinho', 'penha', 'santa amelia', 'agua nova', 'prata', 'marechal floriano', 'descalvado', 'sao jeronimo', 'iracemapolis', 'santa albertina', 'paraopeba', 'posto da mata', 'junqueiropolis', 'mendonca', 'cerquilho', 'resende', 'apiaca', 'pouso alto', 'paragominas', 'joacaba', 'inhumas', 'cachoeiras de macacu', 'barro', 'nova cruz', 'taquaracu de minas', 'tres rios', 'mascote', 'ibate', 'santa barbara d oeste', 'sao jose do vale do rio preto', 'corumba', 'porto velho', 'costa rica', 'itapema', 'pirangi', 'juscimeira', 'franco da rocha', 'sorriso', 'leopoldina', 'varginha', 'ibiruba', 'bombinhas', 'pinhalao', 'torres', 'dois corregos', 'nova esperanca do piria', 'jeceaba', 'guariroba', 'tupaciguara', 'serrinha', 'guaxupe', 'adhemar de barros', 'balneario camboriu', 'monte mor', 'luis antonio', 'rondonopolis', 'itatim', 'goiana', 'getulio vargas', 'sao roque', 'itapoa', 'cidade ocidental', 'presidente prudente', 'sao miguel do araguaia', 'cangucu', 'itaocara', 'pato branco', 'joao camara', 'picarra', 'varzea paulista', 'guaratingueta', 'guariba', 'lagoa da prata', 'crato', 'nova serrana', 'camaragibe', 'sao joaquim de bicas', 'carmo da mata', 'santa rita de caldas', 'joao pessoa', 'oscar bressane', 'montenegro', 'massape', 'roseira', 'vassouras', 'sao joao de meriti', 'guapimirim', 'sao nicolau', 'campo verde', 'esteio', 'campos verdes', 'vilhena', 'sao joao da boa vista', 'benedito leite', 'palotina', 'santiago', 'telemaco borba', 'sao sebastiao do paraiba', 'bonito', 'jandira', 'barreirinhas', 'barra do corda', 'vitoria da conquista', 'oroco', 'palmas', 'americo brasiliense', 'charqueadas', 'ijui', 'antonio carlos', 'chui', 'sete lagoas', 'arapiraca', 'bodoco', 'porto firme', 'jaboticabal', 'quinta do sol', 'pouso alegre', 'sao pedro da uniao', 'teutonia', 'taruma', 'colmeia', 'rio novo', 'quixada', 'gravata', 'ituacu', 'arroio do meio', 'caruaru', 'araraquara', 'santa branca', 'lagoa dourada', 'assis', 'aracruz', 'taio', 'vespasiano', 'pacatuba', 'angra dos reis', 'redencao', 'pindamonhangaba', 'urubici', 'parapua', 'criciuma', 'capao da canoa', 'pacotuba', 'paiva', 'conceicao do tocantins', 'iguatu', \"olhos d'agua\", 'promissao', 'euclides da cunha', 'balbinos', 'tubarao', 'campo formoso', 'pacajus', 'ribeirao', 'taguai', 'astorga', 'eldorado', 'dois irmaos', 'serra bonita', 'santa luzia', 'araucaria', 'caxias', 'alem paraiba', 'venda branca', 'brodowski', 'maceio', 'brusque', 'aiuruoca', 'conselheiro pena', 'descoberto', 'lagoa formosa', 'rodeiro', 'bela vista de goias', 'oliveira', 'feira de santana', 'jaqueira', 'barreiras', 'grao para', 'rio grande', 'teotonio vilela', 'pedro leopoldo', 'tupa', 'juiz de fora', 'sao manuel', 'joao neiva', 'barbacena', 'niquelandia', 'guaiba', 'pinhais', 'cachoeirinha', 'navegantes', 'alfenas', 'sao joaquim da barra', 'bom jardim', 'jordania', 'pindare mirim', 'itai', 'linhares', 'andorinha', 'sao jose do calcado', 'montes claros', 'coroaci', 'itaberai', 'imbe', 'monsenhor tabosa', 'matao', 'sapiranga', 'ibitinga', 'cacapava', 'itapeva', 'catu de abrantes', 'extrema', 'lages', 'santa vitoria', 'guanambi', 'carangola', 'itapecerica da serra', 'macae', 'trindade', 'rio casca', 'cabo frio', 'atibaia', 'sanga puita', 'mage', 'sao fidelis', 'salinas', 'betim', 'marialva', 'sao jose da bela vista', 'sao francisco do conde', 'palmital', 'maracanau', 'agua santa', 'valinhos', 'nova iguacu', 'aracaju', 'luizlandia do oeste', 'carmopolis de minas', 'pinhalzinho', 'santana do jacare', 'vargem grande paulista', 'salto veloso', 'ibiuna', 'gravatai', 'foz do iguacu', 'jarinu', 'carmo do cajuru', 'sobral', 'taguatinga', 'pompeu', 'dom silverio', 'maripa', 'bertioga', 'porto seguro', 'itanhaem', 'campo novo do parecis', 'cambe', 'barra do pirai', 'unai', 'pinheiral', 'raposos', 'lagoa do carro', 'limeira', 'palmares do sul', 'porto feliz', 'alvorada', 'miguel pereira', 'cascavel', 'pocos de caldas', 'dourados', 'general salgado', 'castilho', 'pedreira', 'americana', 'santa maria', 'veranopolis', 'pirapora', 'bonfim paulista', 'ferraz de vasconcelos', 'mangaratiba', 'pedro canario', 'reboucas', 'campo grande', 'iturama', 'japeri', 'conselheiro lafaiete', 'arapongas', 'lins', 'ipatinga', 'bariri', 'irapua', 'natividade', 'jaragua do sul', 'queiroz', 'siriji', 'camamu', 'iapu', 'ituiutaba', 'monte azul paulista', 'teixeira de freitas', 'cosmopolis', 'itabira', 'carazinho', 'araruama', 'estacao', 'maringa', 'camapua', 'itu', 'santa maria da vitoria', 'rondon', 'coronel fabriciano', 'santana de parnaiba', 'cambui', 'santo angelo', 'juti', 'sarandi', 'barra mansa', 'benedito novo', 'peruibe', 'imperatriz', 'candeias', 'vicosa', 'salto', 'paranacity', 'goioere', 'sao joao del rei', 'saquarema', 'pirai do sul', 'apucarana', 'vila valerio', 'votorantim', 'diamantina', 'caieiras', 'boa esperanca', 'uniao dos palmares', 'ibatiba', 'embu das artes', 'itaquaquecetuba', 'matipo', 'itambe', 'ocaucu', 'santa rita', 'joinville', 'bage', 'carlos barbosa', 'taquaritinga do norte', 'para de minas', 'itarare', 'goiania', 'morrinhos', 'muriae', 'sao luis', 'itapevi', 'rio das ostras', 'confresa', 'tramandai', 'cubatao', 'campo bom', 'contagem', 'nova friburgo', 'pintadas', 'colatina', 'indaial', 'sao vicente', 'sao miguel', 'seropedica', 'itapetininga', 'xaxim', 'serra', 'votuporanga', 'julio de castilhos', 'guarapari', 'sucesso', 'sao leopoldo', 'camacari', 'mesquita', 'cristalina', 'itatiba', 'carlopolis', 'maua', 'pelotas', 'arraial do cabo', 'uruacu', 'itapira', 'pocoes', 'minacu', 'natividade da serra', 'cafelandia', 'ibirite', 'vitoria', 'patos de minas', 'sao mateus do sul', 'cristalandia', 'nova ponte', 'itapolis', 'portelandia', 'embu', 'carmo', 'diadema', 'serafina correa', 'tocantins', 'ouro verde', 'luziania', 'lavras', 'sumare', 'aracatuba', 'blumenau', 'sao lourenco', 'timoteo', 'curitibanos', 'nilopolis', 'biguacu', 'uba', 'canapolis', 'viamao', 'patrocinio', 'aracati', 'jaboatao dos guararapes', 'indaiatuba', 'marica', 'taubate', 'campos gerais', 'rio pomba', 'aracuai', 'itajuba', 'porto alegre', 'uberlandia', 'artur nogueira', 'luis eduardo magalhaes', 'simao dias', 'rio das flores', 'cariacica', 'poco fundo', 'monte aprazivel', 'sao jose', 'carapicuiba', 'mogi-guacu', 'cruzeiro', 'presidente venceslau', 'jau', 'osvaldo cruz', 'monte bonito', 'sao goncalo', 'jundiai', 'campo mourao', 'ribeirao pires', 'acu', 'francisco morato', 'cajati', 'sao carlos', 'araras', 'vacaria', 'manaus', 'santa cruz das palmeiras', 'eneas marques', 'sao rafael', 'laranjeiras do sul', 'sabara', 'campos dos goytacazes', 'joao monlevade', 'erechim', 'sao lourenco da mata', 'mendes', 'sao miguel do iguacu', 'franca', 'governador valadares', 'santo anastacio', 'entre rios de minas', 'anapolis', 'barra velha', 'piracicaba', 'braganca paulista', 'ponta grossa', 'volta redonda', 'novo hamburgo', 'sapucaia do sul', 'florianopolis', 'frederico westphalen', 'praia grande', 'nova lima', 'itauna', 'vila velha', 'petrolina', 'nazare paulista', 'teresopolis', 'bento goncalves', 'cacador', 'paranaiba', 'guarapuava', \"santa barbara d'oeste\", 'sao bento do sapucai', 'uberaba', 'duque de caxias', 'ribeirao preto', 'sao caetano do sul', 'seara', 'londrina', 'hortolandia', 'belo horizonte', 'florestal', 'santa teresa', 'petropolis', 'mairipora', 'araguaina', 'caraguatatuba', 'viana', 'guaruja', 'aruja', 'guarulhos', 'cachoeira do sul', 'sombrio', 'queimados', 'cuiaba', 'firminopolis', 'barueri', 'brasilia', 'mafra', 'osasco', 'pitangui', 'mongagua', 'mogi das cruzes', 'jacarei', 'paicandu', 'sao sebastiao', 'sao bento do una', 'eugenio de castro', 'salvador', 'teresina', 'caxias do sul', 'suzano', 'niteroi', 'campinas', 'bauru', 'formosa', 'gramado', 'sorocaba', 'natal', 'ilhabela', 'rio de janeiro', 'parnamirim', 'macaubas', 'bebedouro', 'sao jose do rio preto', 'aparecida de goiania', 'juquitiba', 'sao bernardo do campo', 'passo fundo', 'pirassununga', 'ourinhos', 'sao miguel do guama', 'santo andre', 'curitiba', 'belford roxo', 'marilia', 'aracitaba', 'santos', 'poa', 'recife', 'sao jose dos campos', \"palmeira d'oeste\", 'paulinia', 'bom repouso', 'marau', 'rio claro', 'belem', 'cajamar', 'divinopolis', 'sao paulo', 'taboao da serra', 'fortaleza', 'canoas', 'cotia']\n",
      "4119\n"
     ]
    }
   ],
   "source": [
    "drop_city2 = doc.drop_duplicates(\"customer_city\", keep=\"last\")[\"customer_city\"].to_list()\n",
    "# Keep the last occurrence of each duplicated 'customer_city' row and convert the result to a list\n",
    "# (중복된 'customer_city' 행 중 마지막 행만 남기고 리스트로 변환)\n",
    "\n",
    "print(drop_city2)             # Print the list of unique customer cities (고유한 customer_city 리스트 출력)\n",
    "print(len(drop_city2))        # Print the number of unique customer cities (고유한 customer_city 개수 출력)"
   ]
  },
  {
   "cell_type": "markdown",
   "metadata": {},
   "source": [
    "#### Create a pivot table from the daily COVID-19 data by summing the 'Confirmed' values for each duplicated 'Country_Region'.<br>(코로나 일일 데이터를 열어 중복된 'Country_Region'에 대해 'Confirmed' 값을 모두 합한 피벗 테이블을 생성)\n",
    "---\n",
    "## TIP!!!\n",
    "#### pivot_table parameters 설명 (pivot_table 함수 인자 설명)\n",
    "- values: List of column(s) to aggregate<br>(집계할 열 이름 리스트)\n",
    "- index: Column(s) to use as pivot table index<br>(피벗 테이블 인덱스로 사용할 열)\n",
    "- aggfunc: Aggregation method, typically a dictionary in the form {column_name: method}<br>(집계 함수, 보통 {열이름: 계산방법} 형식의 사전으로 지정)\n",
    "- Common methods include:\n",
    "    - ' sum: total(합계)\n",
    "    - ' mean: average(평균)\n",
    "    - ' median: median(중앙값)\n",
    "    - ' std: standard deviation(표준편차)\n",
    "- fill_value: Replace missing values with specified value(결측치를 특정 값으로 대체)\n",
    "- margins: Add row/column totals (총합 행/열 추가)\n",
    "- margins_name: Name for totals (총합 행/열의 이름 지정)"
   ]
  },
  {
   "cell_type": "code",
   "execution_count": 176,
   "metadata": {},
   "outputs": [
    {
     "data": {
      "text/html": [
       "<div>\n",
       "<style scoped>\n",
       "    .dataframe tbody tr th:only-of-type {\n",
       "        vertical-align: middle;\n",
       "    }\n",
       "\n",
       "    .dataframe tbody tr th {\n",
       "        vertical-align: top;\n",
       "    }\n",
       "\n",
       "    .dataframe thead th {\n",
       "        text-align: right;\n",
       "    }\n",
       "</style>\n",
       "<table border=\"1\" class=\"dataframe\">\n",
       "  <thead>\n",
       "    <tr style=\"text-align: right;\">\n",
       "      <th></th>\n",
       "      <th>FIPS</th>\n",
       "      <th>Admin2</th>\n",
       "      <th>Province_State</th>\n",
       "      <th>Country_Region</th>\n",
       "      <th>Last_Update</th>\n",
       "      <th>Lat</th>\n",
       "      <th>Long_</th>\n",
       "      <th>Confirmed</th>\n",
       "      <th>Deaths</th>\n",
       "      <th>Recovered</th>\n",
       "      <th>Active</th>\n",
       "      <th>Combined_Key</th>\n",
       "    </tr>\n",
       "  </thead>\n",
       "  <tbody>\n",
       "    <tr>\n",
       "      <th>0</th>\n",
       "      <td>45001.0</td>\n",
       "      <td>Abbeville</td>\n",
       "      <td>South Carolina</td>\n",
       "      <td>US</td>\n",
       "      <td>2020-04-01 21:58:49</td>\n",
       "      <td>34.223334</td>\n",
       "      <td>-82.461707</td>\n",
       "      <td>4</td>\n",
       "      <td>0</td>\n",
       "      <td>0</td>\n",
       "      <td>4</td>\n",
       "      <td>Abbeville, South Carolina, US</td>\n",
       "    </tr>\n",
       "    <tr>\n",
       "      <th>1</th>\n",
       "      <td>22001.0</td>\n",
       "      <td>Acadia</td>\n",
       "      <td>Louisiana</td>\n",
       "      <td>US</td>\n",
       "      <td>2020-04-01 21:58:49</td>\n",
       "      <td>30.295065</td>\n",
       "      <td>-92.414197</td>\n",
       "      <td>47</td>\n",
       "      <td>1</td>\n",
       "      <td>0</td>\n",
       "      <td>46</td>\n",
       "      <td>Acadia, Louisiana, US</td>\n",
       "    </tr>\n",
       "    <tr>\n",
       "      <th>2</th>\n",
       "      <td>51001.0</td>\n",
       "      <td>Accomack</td>\n",
       "      <td>Virginia</td>\n",
       "      <td>US</td>\n",
       "      <td>2020-04-01 21:58:49</td>\n",
       "      <td>37.767072</td>\n",
       "      <td>-75.632346</td>\n",
       "      <td>7</td>\n",
       "      <td>0</td>\n",
       "      <td>0</td>\n",
       "      <td>7</td>\n",
       "      <td>Accomack, Virginia, US</td>\n",
       "    </tr>\n",
       "    <tr>\n",
       "      <th>3</th>\n",
       "      <td>16001.0</td>\n",
       "      <td>Ada</td>\n",
       "      <td>Idaho</td>\n",
       "      <td>US</td>\n",
       "      <td>2020-04-01 21:58:49</td>\n",
       "      <td>43.452658</td>\n",
       "      <td>-116.241552</td>\n",
       "      <td>195</td>\n",
       "      <td>3</td>\n",
       "      <td>0</td>\n",
       "      <td>192</td>\n",
       "      <td>Ada, Idaho, US</td>\n",
       "    </tr>\n",
       "    <tr>\n",
       "      <th>4</th>\n",
       "      <td>19001.0</td>\n",
       "      <td>Adair</td>\n",
       "      <td>Iowa</td>\n",
       "      <td>US</td>\n",
       "      <td>2020-04-01 21:58:49</td>\n",
       "      <td>41.330756</td>\n",
       "      <td>-94.471059</td>\n",
       "      <td>1</td>\n",
       "      <td>0</td>\n",
       "      <td>0</td>\n",
       "      <td>1</td>\n",
       "      <td>Adair, Iowa, US</td>\n",
       "    </tr>\n",
       "  </tbody>\n",
       "</table>\n",
       "</div>"
      ],
      "text/plain": [
       "      FIPS     Admin2  Province_State Country_Region          Last_Update  \\\n",
       "0  45001.0  Abbeville  South Carolina             US  2020-04-01 21:58:49   \n",
       "1  22001.0     Acadia       Louisiana             US  2020-04-01 21:58:49   \n",
       "2  51001.0   Accomack        Virginia             US  2020-04-01 21:58:49   \n",
       "3  16001.0        Ada           Idaho             US  2020-04-01 21:58:49   \n",
       "4  19001.0      Adair            Iowa             US  2020-04-01 21:58:49   \n",
       "\n",
       "         Lat       Long_  Confirmed  Deaths  Recovered  Active  \\\n",
       "0  34.223334  -82.461707          4       0          0       4   \n",
       "1  30.295065  -92.414197         47       1          0      46   \n",
       "2  37.767072  -75.632346          7       0          0       7   \n",
       "3  43.452658 -116.241552        195       3          0     192   \n",
       "4  41.330756  -94.471059          1       0          0       1   \n",
       "\n",
       "                    Combined_Key  \n",
       "0  Abbeville, South Carolina, US  \n",
       "1          Acadia, Louisiana, US  \n",
       "2         Accomack, Virginia, US  \n",
       "3                 Ada, Idaho, US  \n",
       "4                Adair, Iowa, US  "
      ]
     },
     "execution_count": 176,
     "metadata": {},
     "output_type": "execute_result"
    }
   ],
   "source": [
    "# Load the CSV file containing daily COVID-19 data for April 1, 2020\n",
    "# (2020년 4월 1일자 코로나 일일 데이터를 CSV 파일에서 불러옵니다)\n",
    "mydata = pd.read_csv(\"FilePath/csse_covid_19_daily_reports/04-01-2020.csv\")\n",
    "\n",
    "# Display the first 5 rows of the DataFrame\n",
    "# (데이터프레임의 첫 5개 행을 출력합니다)\n",
    "mydata.head()"
   ]
  },
  {
   "cell_type": "code",
   "execution_count": 177,
   "metadata": {},
   "outputs": [
    {
     "data": {
      "text/html": [
       "<div>\n",
       "<style scoped>\n",
       "    .dataframe tbody tr th:only-of-type {\n",
       "        vertical-align: middle;\n",
       "    }\n",
       "\n",
       "    .dataframe tbody tr th {\n",
       "        vertical-align: top;\n",
       "    }\n",
       "\n",
       "    .dataframe thead th {\n",
       "        text-align: right;\n",
       "    }\n",
       "</style>\n",
       "<table border=\"1\" class=\"dataframe\">\n",
       "  <thead>\n",
       "    <tr style=\"text-align: right;\">\n",
       "      <th></th>\n",
       "      <th>Confirmed</th>\n",
       "      <th>Deaths</th>\n",
       "    </tr>\n",
       "    <tr>\n",
       "      <th>Country_Region</th>\n",
       "      <th></th>\n",
       "      <th></th>\n",
       "    </tr>\n",
       "  </thead>\n",
       "  <tbody>\n",
       "    <tr>\n",
       "      <th>Afghanistan</th>\n",
       "      <td>192</td>\n",
       "      <td>4.0</td>\n",
       "    </tr>\n",
       "    <tr>\n",
       "      <th>Albania</th>\n",
       "      <td>259</td>\n",
       "      <td>15.0</td>\n",
       "    </tr>\n",
       "    <tr>\n",
       "      <th>Algeria</th>\n",
       "      <td>847</td>\n",
       "      <td>58.0</td>\n",
       "    </tr>\n",
       "    <tr>\n",
       "      <th>Andorra</th>\n",
       "      <td>390</td>\n",
       "      <td>14.0</td>\n",
       "    </tr>\n",
       "    <tr>\n",
       "      <th>Angola</th>\n",
       "      <td>8</td>\n",
       "      <td>2.0</td>\n",
       "    </tr>\n",
       "    <tr>\n",
       "      <th>...</th>\n",
       "      <td>...</td>\n",
       "      <td>...</td>\n",
       "    </tr>\n",
       "    <tr>\n",
       "      <th>Vietnam</th>\n",
       "      <td>218</td>\n",
       "      <td>0.0</td>\n",
       "    </tr>\n",
       "    <tr>\n",
       "      <th>West Bank and Gaza</th>\n",
       "      <td>134</td>\n",
       "      <td>1.0</td>\n",
       "    </tr>\n",
       "    <tr>\n",
       "      <th>Winter Olympics 2022</th>\n",
       "      <td>0</td>\n",
       "      <td>0.0</td>\n",
       "    </tr>\n",
       "    <tr>\n",
       "      <th>Zambia</th>\n",
       "      <td>36</td>\n",
       "      <td>0.0</td>\n",
       "    </tr>\n",
       "    <tr>\n",
       "      <th>Zimbabwe</th>\n",
       "      <td>8</td>\n",
       "      <td>1.0</td>\n",
       "    </tr>\n",
       "  </tbody>\n",
       "</table>\n",
       "<p>190 rows × 2 columns</p>\n",
       "</div>"
      ],
      "text/plain": [
       "                      Confirmed  Deaths\n",
       "Country_Region                         \n",
       "Afghanistan                 192     4.0\n",
       "Albania                     259    15.0\n",
       "Algeria                     847    58.0\n",
       "Andorra                     390    14.0\n",
       "Angola                        8     2.0\n",
       "...                         ...     ...\n",
       "Vietnam                     218     0.0\n",
       "West Bank and Gaza          134     1.0\n",
       "Winter Olympics 2022          0     0.0\n",
       "Zambia                       36     0.0\n",
       "Zimbabwe                      8     1.0\n",
       "\n",
       "[190 rows x 2 columns]"
      ]
     },
     "execution_count": 177,
     "metadata": {},
     "output_type": "execute_result"
    }
   ],
   "source": [
    "# Create a pivot table to summarize COVID-19 data\n",
    "# (코로나19 데이터를 요약하기 위한 피벗 테이블을 생성합니다)\n",
    "\n",
    "pivot_mydata = pd.pivot_table(\n",
    "    mydata,                           # DataFrame to analyze (분석할 데이터프레임)\n",
    "    index=[\"Country_Region\"],        # Use 'Country_Region' as the index (인덱스로 사용할 열: 국가)\n",
    "    values=[\"Confirmed\", \"Deaths\"],  # Columns to aggregate (집계할 열: 확진자 수, 사망자 수)\n",
    "    aggfunc={                        # Aggregation functions (집계 방법 지정)\n",
    "        \"Confirmed\": \"sum\",          # Sum confirmed cases per country (확진자 수는 합계로)\n",
    "        \"Deaths\": \"mean\"             # Average deaths per country (사망자 수는 평균으로)\n",
    "    },\n",
    "    fill_value=0                     # Replace missing values with 0 (결측치는 0으로 대체)\n",
    ")\n",
    "\n",
    "pivot_mydata                        # Display the resulting pivot table (생성된 피벗 테이블 출력)"
   ]
  },
  {
   "cell_type": "code",
   "execution_count": 178,
   "metadata": {},
   "outputs": [
    {
     "data": {
      "text/html": [
       "<div>\n",
       "<style scoped>\n",
       "    .dataframe tbody tr th:only-of-type {\n",
       "        vertical-align: middle;\n",
       "    }\n",
       "\n",
       "    .dataframe tbody tr th {\n",
       "        vertical-align: top;\n",
       "    }\n",
       "\n",
       "    .dataframe thead th {\n",
       "        text-align: right;\n",
       "    }\n",
       "</style>\n",
       "<table border=\"1\" class=\"dataframe\">\n",
       "  <thead>\n",
       "    <tr style=\"text-align: right;\">\n",
       "      <th></th>\n",
       "      <th>Confirmed</th>\n",
       "      <th>Deaths</th>\n",
       "    </tr>\n",
       "    <tr>\n",
       "      <th>Country_Region</th>\n",
       "      <th></th>\n",
       "      <th></th>\n",
       "    </tr>\n",
       "  </thead>\n",
       "  <tbody>\n",
       "    <tr>\n",
       "      <th>Afghanistan</th>\n",
       "      <td>192</td>\n",
       "      <td>4.000000</td>\n",
       "    </tr>\n",
       "    <tr>\n",
       "      <th>Albania</th>\n",
       "      <td>259</td>\n",
       "      <td>15.000000</td>\n",
       "    </tr>\n",
       "    <tr>\n",
       "      <th>Algeria</th>\n",
       "      <td>847</td>\n",
       "      <td>58.000000</td>\n",
       "    </tr>\n",
       "    <tr>\n",
       "      <th>Andorra</th>\n",
       "      <td>390</td>\n",
       "      <td>14.000000</td>\n",
       "    </tr>\n",
       "    <tr>\n",
       "      <th>Angola</th>\n",
       "      <td>8</td>\n",
       "      <td>2.000000</td>\n",
       "    </tr>\n",
       "    <tr>\n",
       "      <th>...</th>\n",
       "      <td>...</td>\n",
       "      <td>...</td>\n",
       "    </tr>\n",
       "    <tr>\n",
       "      <th>West Bank and Gaza</th>\n",
       "      <td>134</td>\n",
       "      <td>1.000000</td>\n",
       "    </tr>\n",
       "    <tr>\n",
       "      <th>Winter Olympics 2022</th>\n",
       "      <td>0</td>\n",
       "      <td>0.000000</td>\n",
       "    </tr>\n",
       "    <tr>\n",
       "      <th>Zambia</th>\n",
       "      <td>36</td>\n",
       "      <td>0.000000</td>\n",
       "    </tr>\n",
       "    <tr>\n",
       "      <th>Zimbabwe</th>\n",
       "      <td>8</td>\n",
       "      <td>1.000000</td>\n",
       "    </tr>\n",
       "    <tr>\n",
       "      <th>All Tally</th>\n",
       "      <td>938959</td>\n",
       "      <td>20.477002</td>\n",
       "    </tr>\n",
       "  </tbody>\n",
       "</table>\n",
       "<p>191 rows × 2 columns</p>\n",
       "</div>"
      ],
      "text/plain": [
       "                      Confirmed     Deaths\n",
       "Country_Region                            \n",
       "Afghanistan                 192   4.000000\n",
       "Albania                     259  15.000000\n",
       "Algeria                     847  58.000000\n",
       "Andorra                     390  14.000000\n",
       "Angola                        8   2.000000\n",
       "...                         ...        ...\n",
       "West Bank and Gaza          134   1.000000\n",
       "Winter Olympics 2022          0   0.000000\n",
       "Zambia                       36   0.000000\n",
       "Zimbabwe                      8   1.000000\n",
       "All Tally                938959  20.477002\n",
       "\n",
       "[191 rows x 2 columns]"
      ]
     },
     "execution_count": 178,
     "metadata": {},
     "output_type": "execute_result"
    }
   ],
   "source": [
    "# Create a pivot table with total summary rows included\n",
    "# (총계를 포함한 피벗 테이블 생성)\n",
    "\n",
    "pivot_mydata_tally = pd.pivot_table(\n",
    "    mydata,                            # DataFrame to analyze (분석할 데이터프레임)\n",
    "    index=[\"Country_Region\"],         # Use 'Country_Region' as index (국가명을 인덱스로 사용)\n",
    "    values=[\"Confirmed\", \"Deaths\"],   # Columns to summarize (확진자 수와 사망자 수 집계)\n",
    "    aggfunc={                         # Aggregation functions (집계 방식 설정)\n",
    "        \"Confirmed\": \"sum\",           # Sum confirmed cases (확진자 수는 합계)\n",
    "        \"Deaths\": \"mean\"              # Average deaths (사망자 수는 평균)\n",
    "    },\n",
    "    fill_value=0,                     # Replace NaN with 0 (결측값을 0으로 대체)\n",
    "    margins=True,                     # Include grand total row/column (전체 총계 포함)\n",
    "    margins_name=\"All Tally\"          # Name for the total summary (총계 이름을 'All Tally'로 지정)\n",
    ")\n",
    "\n",
    "pivot_mydata_tally                   # Display the pivot table with totals (총계를 포함한 피벗 테이블 출력)"
   ]
  },
  {
   "cell_type": "code",
   "execution_count": 179,
   "metadata": {},
   "outputs": [
    {
     "data": {
      "text/html": [
       "<div>\n",
       "<style scoped>\n",
       "    .dataframe tbody tr th:only-of-type {\n",
       "        vertical-align: middle;\n",
       "    }\n",
       "\n",
       "    .dataframe tbody tr th {\n",
       "        vertical-align: top;\n",
       "    }\n",
       "\n",
       "    .dataframe thead th {\n",
       "        text-align: right;\n",
       "    }\n",
       "</style>\n",
       "<table border=\"1\" class=\"dataframe\">\n",
       "  <thead>\n",
       "    <tr style=\"text-align: right;\">\n",
       "      <th></th>\n",
       "      <th>Confirmed</th>\n",
       "      <th>Deaths</th>\n",
       "    </tr>\n",
       "    <tr>\n",
       "      <th>Country_Region</th>\n",
       "      <th></th>\n",
       "      <th></th>\n",
       "    </tr>\n",
       "  </thead>\n",
       "  <tbody>\n",
       "    <tr>\n",
       "      <th>All Tally</th>\n",
       "      <td>938959</td>\n",
       "      <td>20.477002</td>\n",
       "    </tr>\n",
       "  </tbody>\n",
       "</table>\n",
       "</div>"
      ],
      "text/plain": [
       "                Confirmed     Deaths\n",
       "Country_Region                      \n",
       "All Tally          938959  20.477002"
      ]
     },
     "execution_count": 179,
     "metadata": {},
     "output_type": "execute_result"
    }
   ],
   "source": [
    "# Filter the pivot table to only include the row labeled \"All Tally\"\n",
    "# (피벗 테이블에서 인덱스가 \"All Tally\"인 행만 필터링)\n",
    "\n",
    "total_data = pivot_mydata_tally[pivot_mydata_tally.index == \"All Tally\"]\n",
    "total_data  # Display the total summary row (총계 요약 행 출력)"
   ]
  }
 ],
 "metadata": {
  "kernelspec": {
   "display_name": "Python 3",
   "language": "python",
   "name": "python3"
  },
  "language_info": {
   "codemirror_mode": {
    "name": "ipython",
    "version": 3
   },
   "file_extension": ".py",
   "mimetype": "text/x-python",
   "name": "python",
   "nbconvert_exporter": "python",
   "pygments_lexer": "ipython3",
   "version": "3.12.8"
  }
 },
 "nbformat": 4,
 "nbformat_minor": 4
}
